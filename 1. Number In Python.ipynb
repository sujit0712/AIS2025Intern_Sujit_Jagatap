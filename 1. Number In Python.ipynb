{
 "cells": [
  {
   "cell_type": "markdown",
   "id": "65637585",
   "metadata": {},
   "source": [
    "Number : Three type number\n",
    "    i)Integers\n",
    "    ii)Floats\n",
    "    iii)Complex number"
   ]
  },
  {
   "cell_type": "code",
   "execution_count": 5,
   "id": "b8c377cd",
   "metadata": {},
   "outputs": [],
   "source": [
    "#Integers : Whole numbers(without decimal point), also positive, negative and zero.\n",
    "x=10\n",
    "y=-5\n",
    "z=0"
   ]
  },
  {
   "cell_type": "code",
   "execution_count": 6,
   "id": "2c0d8ad6",
   "metadata": {},
   "outputs": [],
   "source": [
    "#Floats : number that contain decimal point, it is also rational and irrational number\n",
    "a=3.14\n",
    "b=-0.001\n",
    "c=10.0"
   ]
  },
  {
   "cell_type": "code",
   "execution_count": 7,
   "id": "39cb699f",
   "metadata": {},
   "outputs": [],
   "source": [
    "#Complex Number : contain real part and imaginary part(j)\n",
    "d=3 + 4j\n",
    "e=5 + 2j"
   ]
  },
  {
   "cell_type": "markdown",
   "id": "c4301dca",
   "metadata": {},
   "source": [
    "Basic Airthmatic Operation\n",
    "    i)Addition\n",
    "    ii)Subtraction\n",
    "    iii)Multiplication\n",
    "    iv)Division"
   ]
  },
  {
   "cell_type": "code",
   "execution_count": 8,
   "id": "6df16031",
   "metadata": {},
   "outputs": [
    {
     "name": "stdout",
     "output_type": "stream",
     "text": [
      "5\n",
      "3.1390000000000002\n",
      "(8+6j)\n"
     ]
    }
   ],
   "source": [
    "#Addition :\n",
    "# Int\n",
    "sum_int = x + y\n",
    "print(sum_int)\n",
    "\n",
    "# Float\n",
    "sum_float = a + b\n",
    "print(sum_float)\n",
    "\n",
    "#Complex\n",
    "sum_compl = d + e\n",
    "print(sum_compl)"
   ]
  },
  {
   "cell_type": "code",
   "execution_count": 10,
   "id": "74f68a2f",
   "metadata": {},
   "outputs": [
    {
     "name": "stdout",
     "output_type": "stream",
     "text": [
      "15\n",
      "3.141\n",
      "(-2+2j)\n"
     ]
    }
   ],
   "source": [
    "#Subtraction\n",
    "#Int\n",
    "sub_int = x - y\n",
    "print(sub_int)\n",
    "\n",
    "#float\n",
    "sub_float = a - b\n",
    "print(sub_float)\n",
    "\n",
    "#complex\n",
    "sub_comp = d - e\n",
    "print(sub_comp)"
   ]
  },
  {
   "cell_type": "code",
   "execution_count": 11,
   "id": "a2b6da82",
   "metadata": {},
   "outputs": [
    {
     "name": "stdout",
     "output_type": "stream",
     "text": [
      "-50\n",
      "-0.00314\n",
      "-0.00314\n"
     ]
    }
   ],
   "source": [
    "#Multiplication\n",
    "#Int\n",
    "mult_int = x * y\n",
    "print(mult_int)\n",
    "\n",
    "#float\n",
    "mult_flo = a * b\n",
    "print(mult_flo)\n",
    "\n",
    "#Comp\n",
    "mult_comp = d * e\n",
    "print(mult_flo)"
   ]
  },
  {
   "cell_type": "code",
   "execution_count": 12,
   "id": "3960cc49",
   "metadata": {
    "scrolled": true
   },
   "outputs": [
    {
     "name": "stdout",
     "output_type": "stream",
     "text": [
      "-2.0\n",
      "-3140.0\n",
      "-3140.0\n"
     ]
    }
   ],
   "source": [
    "#Division\n",
    "#Int\n",
    "div_int =x/y\n",
    "print(div_int)\n",
    "\n",
    "#float\n",
    "div_flo = a/b\n",
    "print(div_flo)\n",
    "\n",
    "#Comp\n",
    "div_comp =d/e\n",
    "print(div_flo)"
   ]
  },
  {
   "cell_type": "code",
   "execution_count": null,
   "id": "84853acc",
   "metadata": {},
   "outputs": [],
   "source": []
  }
 ],
 "metadata": {
  "kernelspec": {
   "display_name": "Python 3 (ipykernel)",
   "language": "python",
   "name": "python3"
  },
  "language_info": {
   "codemirror_mode": {
    "name": "ipython",
    "version": 3
   },
   "file_extension": ".py",
   "mimetype": "text/x-python",
   "name": "python",
   "nbconvert_exporter": "python",
   "pygments_lexer": "ipython3",
   "version": "3.11.3"
  }
 },
 "nbformat": 4,
 "nbformat_minor": 5
}
