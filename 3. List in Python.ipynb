{
 "cells": [
  {
   "cell_type": "markdown",
   "id": "f80a4792",
   "metadata": {},
   "source": [
    "# List :\n",
    "i)Orered collection of element(Sequence)\n",
    "\n",
    "ii)Mutable:Modify lists by add, remove, change elements\n",
    "\n",
    "iii)One list contain element of different data types like integers strings and other list.\n",
    "\n",
    "iv)access elements using \"indices\""
   ]
  },
  {
   "cell_type": "code",
   "execution_count": 2,
   "id": "d89ea0c3",
   "metadata": {},
   "outputs": [
    {
     "name": "stdout",
     "output_type": "stream",
     "text": [
      "10\n",
      "50\n",
      "[20, 30, 40]\n",
      "[10, 20, 30]\n",
      "[30, 40, 50]\n"
     ]
    }
   ],
   "source": [
    "#Accessing elements : Accessing elements using Indexing(for individual elements) and slicing(for a range of element).\n",
    "#By Indexing : Access individual elements\n",
    "\n",
    "a_list = [10, 20, 30, 40, 50]\n",
    "\n",
    "#Indexing (access individual elements by position)\n",
    "print(a_list[0])          # 10(first element)\n",
    "print(a_list[-1])         #50(last element)\n",
    "\n",
    "#Slicing (acess a range of elements)\n",
    "print(a_list[1:4])        #[20,30,40] (from index 1 to 3)\n",
    "print(a_list[:3])         #[10,20,30] (first 3 elements)\n",
    "print(a_list[2:])         #[30,40,50] (from index 2 to end)\n",
    "\n"
   ]
  },
  {
   "cell_type": "code",
   "execution_count": 4,
   "id": "85aa6e91",
   "metadata": {},
   "outputs": [
    {
     "name": "stdout",
     "output_type": "stream",
     "text": [
      "[10, 25, 30, 40, 50]\n",
      "[10, 25, 30, 40, 60]\n"
     ]
    }
   ],
   "source": [
    "#Modifying Elements :modify an element by specifying its index and assigning a new value\n",
    "\n",
    "a_list = [10, 20, 30, 40, 50]\n",
    "\n",
    "# Modifying the second element i.e index 1\n",
    "a_list[1] = 25\n",
    "print(a_list)          # [10,25,30,40,50] Replace 20 by 25\n",
    "\n",
    "# Modifying the last element i.e index -1\n",
    "a_list[-1] = 60\n",
    "print(a_list)          # [10,25,30,40,60] Replace 50 by 60\n"
   ]
  },
  {
   "cell_type": "code",
   "execution_count": 6,
   "id": "e3904ab8",
   "metadata": {},
   "outputs": [
    {
     "name": "stdout",
     "output_type": "stream",
     "text": [
      "[4, 5, 6, 7]\n",
      "[4, 5, 12, 6, 7]\n"
     ]
    }
   ],
   "source": [
    "#Adding Elements : add elements to list using append() and insert()\n",
    "#append()\n",
    "#insert()\n",
    "a = [4, 5, 6]\n",
    "\n",
    "#append()            #add an element to the end of the list.\n",
    "a.append(7)          # add 7 at end of the list\n",
    "print(a)\n",
    "\n",
    "#insert()            #add an element at a specific index.Insert(index, value)\n",
    "a.insert(2,12)       # insert element(12) at index position 2\n",
    "print(a)"
   ]
  },
  {
   "cell_type": "code",
   "execution_count": 8,
   "id": "9dd5d501",
   "metadata": {},
   "outputs": [
    {
     "name": "stdout",
     "output_type": "stream",
     "text": [
      "[10, 20, 30, 50]\n",
      "[10, 30, 50]\n",
      "[30, 50]\n",
      "[]\n"
     ]
    }
   ],
   "source": [
    "#Removing Element : Remove element using \n",
    "#remove(value)\n",
    "#pop(index)\n",
    "#clear()\n",
    "\n",
    "a = [10, 20, 30, 40, 50]\n",
    "\n",
    "#remove(value) : Remove element\n",
    "a.remove(40)          # Remove only 40\n",
    "print(a)\n",
    "\n",
    "#pop(index) : Remove element by index\n",
    "a.pop(1)              # remove element at index 1\n",
    "print(a)\n",
    "a.pop(0)              # remove element at index 0\n",
    "print(a)\n",
    "\n",
    "\n",
    "#clear() : clear all elements from the list\n",
    "a.clear()             # Remove all element\n",
    "print(a)\n",
    "\n"
   ]
  },
  {
   "cell_type": "code",
   "execution_count": 16,
   "id": "f82c4399",
   "metadata": {},
   "outputs": [
    {
     "name": "stdout",
     "output_type": "stream",
     "text": [
      "[1, 5, 8, 9, 13, 16, 27, 34]\n",
      "[34, 27, 16, 13, 9, 8, 5, 1]\n",
      "[34, 27, 16, 13, 9, 8, 5, 1, 60, 80]\n",
      "[34, 27, 16, 13, 9, 8, 5, 1, 60, 80, 80]\n",
      "[34, 27, 16, 13, 9, 8, 5, 1, 60, 80]\n"
     ]
    }
   ],
   "source": [
    "#Other List Method\n",
    "\n",
    "b = [1,9,13,34,5,16,27,8,]\n",
    "\n",
    "\n",
    "# sort() : sort the list in ascending order(by default,), if descending then mentation\n",
    "b.sort()             # By default ascending sort \n",
    "print(b)\n",
    "\n",
    "# reverse() : reverse the list \n",
    "b.reverse()\n",
    "print(b)\n",
    "\n",
    "# extend(): Adds all elements from another list to the current list.\n",
    "b.extend([60,80])\n",
    "print(b)\n",
    "\n",
    "# count() :  Returns the number of occurrences of a specified element.\n",
    "b.count(60)\n",
    "\n",
    "# index() : find the index of the element.\n",
    "b.index(13)\n",
    "\n",
    "# copy() : copy of list.\n",
    "newlist=b.copy()\n",
    "newlist.append(80)\n",
    "print(newlist)\n",
    "print(b.copy())"
   ]
  },
  {
   "cell_type": "code",
   "execution_count": null,
   "id": "0a50a18b",
   "metadata": {},
   "outputs": [],
   "source": [
    " "
   ]
  }
 ],
 "metadata": {
  "kernelspec": {
   "display_name": "Python 3 (ipykernel)",
   "language": "python",
   "name": "python3"
  },
  "language_info": {
   "codemirror_mode": {
    "name": "ipython",
    "version": 3
   },
   "file_extension": ".py",
   "mimetype": "text/x-python",
   "name": "python",
   "nbconvert_exporter": "python",
   "pygments_lexer": "ipython3",
   "version": "3.11.3"
  }
 },
 "nbformat": 4,
 "nbformat_minor": 5
}
