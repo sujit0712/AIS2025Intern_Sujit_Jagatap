{
 "cells": [
  {
   "cell_type": "markdown",
   "id": "6d05e0b6",
   "metadata": {},
   "source": [
    "# Operator"
   ]
  },
  {
   "cell_type": "code",
   "execution_count": null,
   "id": "5cb6b0ef",
   "metadata": {},
   "outputs": [],
   "source": [
    "Operator : used to perform operation on variables and values"
   ]
  },
  {
   "cell_type": "markdown",
   "id": "b48c1cbd",
   "metadata": {},
   "source": [
    "#Arithmetic Operators : These operators are used to perform mathematical operations such as a addition, subtraction, multiplication, divison, floor Division, Modulus, Exponentiation ."
   ]
  },
  {
   "cell_type": "code",
   "execution_count": 1,
   "id": "a3ea13e1",
   "metadata": {},
   "outputs": [
    {
     "name": "stdout",
     "output_type": "stream",
     "text": [
      "13\n",
      "7\n",
      "30\n",
      "3.3333333333333335\n",
      "3\n",
      "1\n",
      "1000\n"
     ]
    }
   ],
   "source": [
    "a = 10\n",
    "b = 3\n",
    "#Addition\n",
    "addi = a+b\n",
    "print(addi)\n",
    "\n",
    "#Subtraction\n",
    "sub = a-b\n",
    "print(sub)\n",
    "\n",
    "#Multiplication\n",
    "mult = a*b\n",
    "print(mult)\n",
    "\n",
    "#division\n",
    "div = a/b\n",
    "print(div)\n",
    "\n",
    "#floor Division : Gives value before the point(eg. 3.3333--->\"3\")\n",
    "floor = a // b\n",
    "print(floor)\n",
    "\n",
    "#modulus : Gives the Remainder\n",
    "mod = a % b\n",
    "print(mod)\n",
    "\n",
    "#exponentiation : Raises \"a\"  to the power \"b\"\n",
    "exp = a ** b\n",
    "print(exp)"
   ]
  },
  {
   "cell_type": "markdown",
   "id": "f60d9706",
   "metadata": {},
   "source": [
    "#Comparison Operators : These operators are used to compare values and its result is boolean value(True or False)\n",
    "\n",
    "\n",
    "Operators like ==(Equal to), !=(Not equal to), >(Greate than), <(Less than), >=(Greater then or equal to), <=(Less than or equal to)"
   ]
  },
  {
   "cell_type": "code",
   "execution_count": 2,
   "id": "94f097c6",
   "metadata": {},
   "outputs": [
    {
     "name": "stdout",
     "output_type": "stream",
     "text": [
      "False\n",
      "True\n",
      "True\n",
      "False\n",
      "True\n",
      "False\n"
     ]
    }
   ],
   "source": [
    "a = 5\n",
    "b = 3\n",
    "\n",
    "#Equal to == (Check whether it is equal)\n",
    "print(a==b)\n",
    "\n",
    "#Not Equal to != (Check whethr it is not equal)\n",
    "print(a!=b)\n",
    "\n",
    "#Greater than > (check whether a is greater then b)\n",
    "print(a>b)\n",
    "\n",
    "#less than <\n",
    "print(a<b)\n",
    "\n",
    "#Greater then or equal to >= (Check whether a is greater then or equal to b)\n",
    "print(a>=b)\n",
    "\n",
    "#Less than or equal to <=\n",
    "print(a<=b)"
   ]
  },
  {
   "cell_type": "markdown",
   "id": "aca13161",
   "metadata": {},
   "source": [
    "#Logical Operators : used to combine conditional statement and return boolean values\n",
    "\n",
    "Operator like and, or, not"
   ]
  },
  {
   "cell_type": "code",
   "execution_count": 7,
   "id": "77ed8d0b",
   "metadata": {},
   "outputs": [
    {
     "name": "stdout",
     "output_type": "stream",
     "text": [
      "False\n",
      "True\n",
      "False\n"
     ]
    }
   ],
   "source": [
    "x = True\n",
    "y = False\n",
    "\n",
    "#And : Required both condition must be true then answer is true\n",
    "print(x and y)\n",
    "\n",
    "#Or : Required at least one condition is true\n",
    "print(x or y)\n",
    "\n",
    "#not : gives opposite of the given value\n",
    "print(not x)"
   ]
  },
  {
   "cell_type": "markdown",
   "id": "7e6bbff3",
   "metadata": {},
   "source": [
    "#Assignment Operators : used to assign values to variables.\n",
    "\n",
    "Operator like =(simple assignment), +=(add and assign), -=(subtract and assign), *=(Multiply and assign), \n",
    "/=(Divide and assign), //=(floor divide and assign), %=(Modulus and assign),**=(Exponentiate and assign)"
   ]
  },
  {
   "cell_type": "code",
   "execution_count": 11,
   "id": "6297ec80",
   "metadata": {},
   "outputs": [
    {
     "name": "stdout",
     "output_type": "stream",
     "text": [
      "15\n",
      "12\n",
      "24\n",
      "6.0\n",
      "2.0\n",
      "0.0\n",
      "0.0\n"
     ]
    }
   ],
   "source": [
    "#Simple Assign\n",
    "x = 10\n",
    "\n",
    "#Add and assign i.e x=x+5\n",
    "x += 5\n",
    "print(x)\n",
    "\n",
    "#subtract and assign i.e x=x-3\n",
    "x -=3\n",
    "print(x)\n",
    "\n",
    "#Multiply and assign i.e x=x*2\n",
    "x *=2\n",
    "print(x)\n",
    "\n",
    "#Divide and assign i.e x=x/4\n",
    "x /=4\n",
    "print(x)\n",
    "\n",
    "#Floor divide and assign i.e x=x//3\n",
    "x //=3\n",
    "print(x)\n",
    "\n",
    "#Modulus and assign i.e x=x%2\n",
    "x %=2\n",
    "print(x)\n",
    "\n",
    "#Exponentiate and assign i.e x=x**3\n",
    "x **= 3\n",
    "print(x)"
   ]
  },
  {
   "cell_type": "code",
   "execution_count": null,
   "id": "a9ef9ff3",
   "metadata": {},
   "outputs": [],
   "source": []
  }
 ],
 "metadata": {
  "kernelspec": {
   "display_name": "Python 3 (ipykernel)",
   "language": "python",
   "name": "python3"
  },
  "language_info": {
   "codemirror_mode": {
    "name": "ipython",
    "version": 3
   },
   "file_extension": ".py",
   "mimetype": "text/x-python",
   "name": "python",
   "nbconvert_exporter": "python",
   "pygments_lexer": "ipython3",
   "version": "3.11.3"
  }
 },
 "nbformat": 4,
 "nbformat_minor": 5
}
