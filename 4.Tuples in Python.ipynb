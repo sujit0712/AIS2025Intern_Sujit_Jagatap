{
 "cells": [
  {
   "cell_type": "markdown",
   "id": "e611973d",
   "metadata": {},
   "source": [
    "# Tuples :\n",
    "\n",
    "1.Immutable : once tuple created cannot modify, add or remove element from it.\n",
    "\n",
    "2.Maintain the order of elements\n",
    "\n",
    "3.tuples contain multiple occurrences of the same element.\n",
    "\n",
    "4.store elements of different data types."
   ]
  },
  {
   "cell_type": "code",
   "execution_count": 2,
   "id": "de3661ef",
   "metadata": {},
   "outputs": [
    {
     "name": "stdout",
     "output_type": "stream",
     "text": [
      "2\n",
      "10\n",
      "(4, 6, 8)\n",
      "(2, 4, 6, 8)\n",
      "(2, 4, 6, 8, 10)\n"
     ]
    }
   ],
   "source": [
    "#Accessing elements : By Indexing(using Index) and Slicing(extrct a portion of tuple by range)\n",
    "\n",
    "tup = (2,4,6,8,10)\n",
    "\n",
    "#Indexing(Using its position)\n",
    "print(tup[0])\n",
    "print(tup[4])\n",
    "\n",
    "#Slicing(extract portion of the tuple)\n",
    "print(tup[1:4])\n",
    "print(tup[:4])\n",
    "print(tup[:])\n",
    "\n"
   ]
  },
  {
   "cell_type": "code",
   "execution_count": 3,
   "id": "863c70a2",
   "metadata": {},
   "outputs": [
    {
     "name": "stdout",
     "output_type": "stream",
     "text": [
      "(1, 2, 3, 4, 5, 6)\n"
     ]
    }
   ],
   "source": [
    "#Concatenation : combine two tuple usng + operator\n",
    "\n",
    "tup1 = (1,2,3)\n",
    "tup2 = (4,5,6)\n",
    "\n",
    "newtup = tup1+tup2\n",
    "print(newtup)"
   ]
  },
  {
   "cell_type": "code",
   "execution_count": 4,
   "id": "aca768ca",
   "metadata": {},
   "outputs": [
    {
     "name": "stdout",
     "output_type": "stream",
     "text": [
      "(1, 2, 3, 1, 2, 3, 1, 2, 3)\n"
     ]
    }
   ],
   "source": [
    "#Repetition : repeate the tuple using * sign\n",
    "\n",
    "tup1 = (1,2,3)\n",
    "\n",
    "reptup = 3*tup1\n",
    "print(reptup)"
   ]
  },
  {
   "cell_type": "code",
   "execution_count": 5,
   "id": "854d9113",
   "metadata": {},
   "outputs": [
    {
     "name": "stdout",
     "output_type": "stream",
     "text": [
      "3\n"
     ]
    }
   ],
   "source": [
    "#Count() : how many time an element appears in a tuple\n",
    "\n",
    "tup = (20,49,20,30,30,20,30,45)\n",
    "print(tup.count(20))"
   ]
  },
  {
   "cell_type": "code",
   "execution_count": 6,
   "id": "6a9db9ab",
   "metadata": {},
   "outputs": [
    {
     "name": "stdout",
     "output_type": "stream",
     "text": [
      "2\n"
     ]
    }
   ],
   "source": [
    "#Index : find the index of the first occurrence of an element\n",
    "\n",
    "tup = (10,20,30,40,50)\n",
    "print(tup.index(30))"
   ]
  },
  {
   "cell_type": "code",
   "execution_count": null,
   "id": "8beeaf43",
   "metadata": {},
   "outputs": [],
   "source": []
  }
 ],
 "metadata": {
  "kernelspec": {
   "display_name": "Python 3 (ipykernel)",
   "language": "python",
   "name": "python3"
  },
  "language_info": {
   "codemirror_mode": {
    "name": "ipython",
    "version": 3
   },
   "file_extension": ".py",
   "mimetype": "text/x-python",
   "name": "python",
   "nbconvert_exporter": "python",
   "pygments_lexer": "ipython3",
   "version": "3.11.3"
  }
 },
 "nbformat": 4,
 "nbformat_minor": 5
}
