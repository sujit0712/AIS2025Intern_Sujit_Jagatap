{
 "cells": [
  {
   "cell_type": "code",
   "execution_count": 1,
   "id": "49e190d7",
   "metadata": {},
   "outputs": [
    {
     "ename": "IndentationError",
     "evalue": "expected an indented block after 'if' statement on line 5 (903021028.py, line 6)",
     "output_type": "error",
     "traceback": [
      "\u001b[1;36m  Cell \u001b[1;32mIn[1], line 6\u001b[1;36m\u001b[0m\n\u001b[1;33m    print(\"Hello\")  # Error: IndentationError\u001b[0m\n\u001b[1;37m    ^\u001b[0m\n\u001b[1;31mIndentationError\u001b[0m\u001b[1;31m:\u001b[0m expected an indented block after 'if' statement on line 5\n"
     ]
    }
   ],
   "source": [
    "# Identation Error :\n",
    "# Cause : this happens when python doesn't understand where a block of code starts or ends becouse of incorrect specing.\n",
    "\n",
    "\n",
    "if True:\n",
    "print(\"Hello\")             # identation not mentationed\n",
    "\n",
    "\n",
    "if True:\n",
    "    print(\"Hello\")\n",
    "\n",
    "# Fix : Indent the code correctly using spaces or tabs but don't mix both\n",
    "\n",
    "\n",
    "\n"
   ]
  },
  {
   "cell_type": "code",
   "execution_count": 2,
   "id": "9188045d",
   "metadata": {},
   "outputs": [
    {
     "ename": "NameError",
     "evalue": "name 'x' is not defined",
     "output_type": "error",
     "traceback": [
      "\u001b[1;31m---------------------------------------------------------------------------\u001b[0m",
      "\u001b[1;31mNameError\u001b[0m                                 Traceback (most recent call last)",
      "Cell \u001b[1;32mIn[2], line 5\u001b[0m\n\u001b[0;32m      1\u001b[0m \u001b[38;5;66;03m#Name Error \u001b[39;00m\n\u001b[0;32m      2\u001b[0m \u001b[38;5;66;03m#Cause : used a variable or functin that has not been defined ye\u001b[39;00m\n\u001b[0;32m      3\u001b[0m \n\u001b[0;32m      4\u001b[0m \u001b[38;5;66;03m# Incorrect usage\u001b[39;00m\n\u001b[1;32m----> 5\u001b[0m \u001b[38;5;28mprint\u001b[39m(x)  \u001b[38;5;66;03m# Error: NameError because x is not defined\u001b[39;00m\n\u001b[0;32m      7\u001b[0m \u001b[38;5;66;03m# Correct usage\u001b[39;00m\n\u001b[0;32m      8\u001b[0m x \u001b[38;5;241m=\u001b[39m \u001b[38;5;241m10\u001b[39m\n",
      "\u001b[1;31mNameError\u001b[0m: name 'x' is not defined"
     ]
    }
   ],
   "source": [
    "#Name Error \n",
    "#Cause : used a variable or functin that has not been defined ye\n",
    "\n",
    "\n",
    "print(x)            # Error: NameError because x is not defined\n",
    "\n",
    "\n",
    "x = 10\n",
    "print(x) \n",
    "\n",
    "\n",
    "# Fix : Define the variable or function before using it. \n"
   ]
  },
  {
   "cell_type": "code",
   "execution_count": 9,
   "id": "30c6398e",
   "metadata": {},
   "outputs": [
    {
     "data": {
      "text/plain": [
       "int"
      ]
     },
     "execution_count": 9,
     "metadata": {},
     "output_type": "execute_result"
    }
   ],
   "source": [
    "# Value Error\n",
    "# Cause : value given to the function that's not valid for the operation\n",
    "\n",
    "\n",
    "#int(\"hello\")                             # Hallo is string not a number\n",
    "\n",
    "\n",
    "type(int(\"123\"))\n",
    "type(int(123))\n",
    "\n",
    "\n",
    "# Fix : Check value is appropriate for the operation."
   ]
  },
  {
   "cell_type": "code",
   "execution_count": 14,
   "id": "d002acc8",
   "metadata": {},
   "outputs": [
    {
     "ename": "TypeError",
     "evalue": "can only concatenate str (not \"int\") to str",
     "output_type": "error",
     "traceback": [
      "\u001b[1;31m---------------------------------------------------------------------------\u001b[0m",
      "\u001b[1;31mTypeError\u001b[0m                                 Traceback (most recent call last)",
      "Cell \u001b[1;32mIn[14], line 5\u001b[0m\n\u001b[0;32m      1\u001b[0m \u001b[38;5;66;03m# Type Error\u001b[39;00m\n\u001b[0;32m      2\u001b[0m \u001b[38;5;66;03m# Cause : arrises when the make opeation with diffrent data type like adding number to string\u001b[39;00m\n\u001b[0;32m      3\u001b[0m \n\u001b[0;32m      4\u001b[0m \u001b[38;5;66;03m# Incorrect usage\u001b[39;00m\n\u001b[1;32m----> 5\u001b[0m result \u001b[38;5;241m=\u001b[39m \u001b[38;5;124m\"\u001b[39m\u001b[38;5;124mSai\u001b[39m\u001b[38;5;124m\"\u001b[39m \u001b[38;5;241m+\u001b[39m \u001b[38;5;241m5\u001b[39m  \u001b[38;5;66;03m# Error: TypeError because you can't add a string and an integer\u001b[39;00m\n\u001b[0;32m      7\u001b[0m \u001b[38;5;66;03m# Correct usage\u001b[39;00m\n\u001b[0;32m      8\u001b[0m result \u001b[38;5;241m=\u001b[39m \u001b[38;5;124m\"\u001b[39m\u001b[38;5;124mSai\u001b[39m\u001b[38;5;124m\"\u001b[39m \u001b[38;5;241m+\u001b[39m \u001b[38;5;28mstr\u001b[39m(\u001b[38;5;241m5\u001b[39m)\n",
      "\u001b[1;31mTypeError\u001b[0m: can only concatenate str (not \"int\") to str"
     ]
    }
   ],
   "source": [
    "# Type Error\n",
    "# Cause : arrises when the make opeation with diffrent data type like adding number to string\n",
    "\n",
    "\n",
    "result = \"Sai\" + 5  # Error: TypeError because you can't add a string and an integer\n",
    "\n",
    "\n",
    "result = \"Sai\" + str(5)\n",
    "result\n",
    "\n",
    "# Fix : Ensure that the data type is same."
   ]
  },
  {
   "cell_type": "code",
   "execution_count": 15,
   "id": "92c18071",
   "metadata": {},
   "outputs": [
    {
     "ename": "IndexError",
     "evalue": "list index out of range",
     "output_type": "error",
     "traceback": [
      "\u001b[1;31m---------------------------------------------------------------------------\u001b[0m",
      "\u001b[1;31mIndexError\u001b[0m                                Traceback (most recent call last)",
      "Cell \u001b[1;32mIn[15], line 6\u001b[0m\n\u001b[0;32m      1\u001b[0m \u001b[38;5;66;03m# Index Error\u001b[39;00m\n\u001b[0;32m      2\u001b[0m \u001b[38;5;66;03m# Cause : access an index that is out of range in a list or string.\u001b[39;00m\n\u001b[0;32m      3\u001b[0m \n\u001b[0;32m      4\u001b[0m \u001b[38;5;66;03m# Incorrect usage\u001b[39;00m\n\u001b[0;32m      5\u001b[0m l \u001b[38;5;241m=\u001b[39m [\u001b[38;5;241m1\u001b[39m, \u001b[38;5;241m2\u001b[39m, \u001b[38;5;241m3\u001b[39m]\n\u001b[1;32m----> 6\u001b[0m \u001b[38;5;28mprint\u001b[39m(l[\u001b[38;5;241m5\u001b[39m])  \u001b[38;5;66;03m# Error: IndexError because the list has only 3 items\u001b[39;00m\n\u001b[0;32m      8\u001b[0m \u001b[38;5;66;03m# Correct usage\u001b[39;00m\n\u001b[0;32m      9\u001b[0m \u001b[38;5;28mprint\u001b[39m(l[\u001b[38;5;241m2\u001b[39m])\n",
      "\u001b[1;31mIndexError\u001b[0m: list index out of range"
     ]
    }
   ],
   "source": [
    "# Index Error\n",
    "# Cause : access an index that is out of range in a list or strin\n",
    "\n",
    "l = [1, 2, 3]\n",
    "print(l[5])  # Error: IndexError because the list has only 3 items\n",
    "\n",
    "\n",
    "print(l[2])\n",
    "\n",
    "\n",
    "# Fix :  Ensure the index with the given range \n"
   ]
  },
  {
   "cell_type": "code",
   "execution_count": 17,
   "id": "883afdb6",
   "metadata": {},
   "outputs": [
    {
     "ename": "KeyError",
     "evalue": "'gender'",
     "output_type": "error",
     "traceback": [
      "\u001b[1;31m---------------------------------------------------------------------------\u001b[0m",
      "\u001b[1;31mKeyError\u001b[0m                                  Traceback (most recent call last)",
      "Cell \u001b[1;32mIn[17], line 6\u001b[0m\n\u001b[0;32m      1\u001b[0m \u001b[38;5;66;03m# Key Error\u001b[39;00m\n\u001b[0;32m      2\u001b[0m \u001b[38;5;66;03m#Cause : these error happens when we try to access a key in a dict. that doesn't exist.\u001b[39;00m\n\u001b[0;32m      3\u001b[0m \n\u001b[0;32m      4\u001b[0m \u001b[38;5;66;03m# Incorrect usage\u001b[39;00m\n\u001b[0;32m      5\u001b[0m my_dict \u001b[38;5;241m=\u001b[39m {\u001b[38;5;124m\"\u001b[39m\u001b[38;5;124mname\u001b[39m\u001b[38;5;124m\"\u001b[39m: \u001b[38;5;124m\"\u001b[39m\u001b[38;5;124mRam\u001b[39m\u001b[38;5;124m\"\u001b[39m, \u001b[38;5;124m\"\u001b[39m\u001b[38;5;124mage\u001b[39m\u001b[38;5;124m\"\u001b[39m: \u001b[38;5;241m25\u001b[39m}\n\u001b[1;32m----> 6\u001b[0m \u001b[38;5;28mprint\u001b[39m(my_dict[\u001b[38;5;124m\"\u001b[39m\u001b[38;5;124mgender\u001b[39m\u001b[38;5;124m\"\u001b[39m])  \u001b[38;5;66;03m# Error: KeyError because gender is not a key\u001b[39;00m\n\u001b[0;32m      8\u001b[0m \u001b[38;5;66;03m# Correct usage\u001b[39;00m\n\u001b[0;32m      9\u001b[0m \u001b[38;5;28mprint\u001b[39m(my_dict\u001b[38;5;241m.\u001b[39mget(\u001b[38;5;124m\"\u001b[39m\u001b[38;5;124mage\u001b[39m\u001b[38;5;124m\"\u001b[39m))\n",
      "\u001b[1;31mKeyError\u001b[0m: 'gender'"
     ]
    }
   ],
   "source": [
    "# Key Error\n",
    "#Cause : these error happens when we try to access a key in a dict. that doesn't exist.\n",
    "\n",
    "my_dict = {\"name\": \"Ram\", \"age\": 25}\n",
    "print(my_dict[\"gender\"])  # Error: KeyError because gender is not a key\n",
    "\n",
    "\n",
    "print(my_dict.get(\"age\"))  # Output: Not Found\n",
    "\n",
    "# Fix : check if the key exists before accessing it.\n"
   ]
  },
  {
   "cell_type": "code",
   "execution_count": null,
   "id": "0f12e204",
   "metadata": {},
   "outputs": [],
   "source": []
  }
 ],
 "metadata": {
  "kernelspec": {
   "display_name": "Python 3 (ipykernel)",
   "language": "python",
   "name": "python3"
  },
  "language_info": {
   "codemirror_mode": {
    "name": "ipython",
    "version": 3
   },
   "file_extension": ".py",
   "mimetype": "text/x-python",
   "name": "python",
   "nbconvert_exporter": "python",
   "pygments_lexer": "ipython3",
   "version": "3.11.3"
  }
 },
 "nbformat": 4,
 "nbformat_minor": 5
}
