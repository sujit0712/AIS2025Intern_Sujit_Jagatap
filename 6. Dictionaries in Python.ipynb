{
 "cells": [
  {
   "cell_type": "markdown",
   "id": "4030dbf3",
   "metadata": {},
   "source": [
    "#Dictionaries :\n",
    "1.items in dictionaries not stored in any specific order i.e unordered\n",
    "\n",
    "2.key-values pairs present\n",
    "\n",
    "3.key in dictionaries is unique\n",
    "\n",
    "4.add, remove and modify key-value pairs in a dictinary after created\n",
    "\n",
    "5.values in a dictionary can by any data type but key must be of an immutable type like strings number and tuples\n"
   ]
  },
  {
   "cell_type": "code",
   "execution_count": null,
   "id": "efeedcbe",
   "metadata": {},
   "outputs": [],
   "source": [
    "my_dict = {\"name\": \"Ram\", \"age\": 25, \"city\": \"Kolhapur\"}\n",
    "\n",
    "\n",
    "# name, age and city are key\n",
    "# Ram, 25 and Kolhapur are the values.\n"
   ]
  },
  {
   "cell_type": "code",
   "execution_count": 2,
   "id": "163c0c42",
   "metadata": {},
   "outputs": [
    {
     "name": "stdout",
     "output_type": "stream",
     "text": [
      "Ram\n",
      "25\n",
      "Kolhapur\n",
      "Ram\n"
     ]
    }
   ],
   "source": [
    "# Acessing Key-Value Pairs\n",
    "# Using Square brackets\n",
    "diction = {\"name\": \"Ram\", \"age\": 25, \"city\": \"Kolhapur\"}\n",
    "\n",
    "print(diction[\"name\"])\n",
    "print(diction[\"age\"])\n",
    "\n",
    "# Using .get() \n",
    "\n",
    "print(diction.get(\"city\"))\n",
    "print(diction.get(\"name\"))"
   ]
  },
  {
   "cell_type": "code",
   "execution_count": 3,
   "id": "55ae8157",
   "metadata": {},
   "outputs": [
    {
     "name": "stdout",
     "output_type": "stream",
     "text": [
      "{'name': 'Ram', 'age': 25, 'city': 'Satara'}\n"
     ]
    }
   ],
   "source": [
    "#Adding Items to a Distionary\n",
    "\n",
    "diction = {\"name\": \"Ram\", \"age\": 25, \"city\": \"Kolhapur\"}\n",
    "\n",
    "diction[\"city\"] = \"Satara\"\n",
    "print(diction)\n"
   ]
  },
  {
   "cell_type": "code",
   "execution_count": 10,
   "id": "a235db2f",
   "metadata": {},
   "outputs": [
    {
     "name": "stdout",
     "output_type": "stream",
     "text": [
      "{'name': 'Ram', 'city': 'Kolhapur'}\n",
      "{'name': 'Ram'}\n",
      "Kolhapur\n"
     ]
    }
   ],
   "source": [
    "\n",
    "diction = {\"name\": \"Ram\", \"age\": 25, \"city\": \"Kolhapur\"}\n",
    "\n",
    "# Remove the key-value pair with the key 'age'\n",
    "del diction[\"age\"]\n",
    "print(diction)\n",
    "\n",
    "#Pop() : Remove and returns the value associated with the key.\n",
    "remvalue = diction.pop(\"city\")\n",
    "print(diction)\n",
    "print(remvalue)\n"
   ]
  },
  {
   "cell_type": "code",
   "execution_count": 17,
   "id": "c1a3964f",
   "metadata": {},
   "outputs": [
    {
     "name": "stdout",
     "output_type": "stream",
     "text": [
      "Kolhapur\n",
      "Ram\n",
      "dict_keys(['name', 'age', 'city'])\n",
      "dict_values(['Ram', 25, 'Kolhapur'])\n",
      "dict_items([('name', 'Ram'), ('age', 25), ('city', 'Kolhapur')])\n",
      "{'name': 'Pratik', 'age': 25, 'city': 'Satara'}\n"
     ]
    }
   ],
   "source": [
    "# get() : return value for teh specified key\n",
    "\n",
    "diction = {\"name\": \"Ram\", \"age\": 25, \"city\": \"Kolhapur\"}\n",
    "print(diction.get(\"city\"))\n",
    "print(diction.get(\"name\"))\n",
    "\n",
    "# keys() : returns a view of all keys in the dictionary\n",
    "print(diction.keys())          #gives all key\n",
    "\n",
    "\n",
    "# values() : returns a view of a ll vlues in the dictionary\n",
    "print(diction.values())\n",
    "\n",
    "# items() : returns all key value pairs\n",
    "print(diction.items())\n",
    "\n",
    "# update() : update the dicti. with elements from another dictionary\n",
    "\n",
    "diction = {\"name\": \"Ram\", \"age\": 25, \"city\": \"Kolhapur\"}\n",
    "newdict = {\"city\":\"Satara\",\"name\":\"Pratik\"}\n",
    "diction.update(newdict)\n",
    "print(diction)\n",
    "\n"
   ]
  },
  {
   "cell_type": "code",
   "execution_count": null,
   "id": "842700a2",
   "metadata": {},
   "outputs": [],
   "source": []
  }
 ],
 "metadata": {
  "kernelspec": {
   "display_name": "Python 3 (ipykernel)",
   "language": "python",
   "name": "python3"
  },
  "language_info": {
   "codemirror_mode": {
    "name": "ipython",
    "version": 3
   },
   "file_extension": ".py",
   "mimetype": "text/x-python",
   "name": "python",
   "nbconvert_exporter": "python",
   "pygments_lexer": "ipython3",
   "version": "3.11.3"
  }
 },
 "nbformat": 4,
 "nbformat_minor": 5
}
