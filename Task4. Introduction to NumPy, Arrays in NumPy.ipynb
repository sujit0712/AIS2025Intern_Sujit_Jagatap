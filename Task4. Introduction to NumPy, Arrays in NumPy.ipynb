{
 "cells": [
  {
   "cell_type": "markdown",
   "id": "1b2b05c8",
   "metadata": {},
   "source": [
    "# Introduction to NumPy\n",
    "1. NumPy stands for Numerical Python.\n",
    "2. It’s a library in Python that makes it easy to work with large numbers or complex data, like lists, arrays, and matrices, in an efficient and fast way.\n",
    "3. NumPy is very important for numerical computations because it helps you perform calculations on large datasets much faster than regular Python lists can."
   ]
  },
  {
   "cell_type": "markdown",
   "id": "a7a9e2c7",
   "metadata": {},
   "source": [
    "# Why NumPy is Important for Numerical Computations\n",
    "1. NumPy is faster than regular Python lists.\n",
    "2. NumPy makes it simple to do mathematical operations on arrays or matrices, like adding, subtracting, multiplying, etc. You can work with large sets of numbers in just a few lines of code.\n",
    "3. Unlike regular Python lists, NumPy can handle multi-dimensional arrays (e.g., 2D, 3D). This makes it great for working with images, tables of data, or even complex mathematical models."
   ]
  },
  {
   "cell_type": "markdown",
   "id": "1a42ea17",
   "metadata": {},
   "source": [
    "# Installation of NumPy\n",
    "1. pip install numpy\n",
    "2. import numpy as np\n",
    "\n",
    "\n"
   ]
  },
  {
   "cell_type": "markdown",
   "id": "b996df40",
   "metadata": {},
   "source": [
    "# 2# Arrays in NumPy\n",
    "1. NumPy introduces the concept of ndarray(N dimensional array).\n",
    "2. An ndarray can hold data of  a single type(integers, floats) and can have any number of dimensions.\n",
    "3. 1D array is a simple list, 2D array is like a table or matrix, 3D array is like a collection of matrices\n",
    "\n"
   ]
  },
  {
   "cell_type": "markdown",
   "id": "7303a161",
   "metadata": {},
   "source": [
    "# Create an Array ; np.array(), np.zeros(), np. ones(), np.arange()"
   ]
  },
  {
   "cell_type": "code",
   "execution_count": 21,
   "id": "34a6f009",
   "metadata": {},
   "outputs": [
    {
     "name": "stdout",
     "output_type": "stream",
     "text": [
      "[1 2 3 4]\n",
      "[0. 0. 0. 0. 0.]\n",
      "[[0. 0. 0.]\n",
      " [0. 0. 0.]]\n",
      "[[[0. 0. 0. 0.]\n",
      "  [0. 0. 0. 0.]\n",
      "  [0. 0. 0. 0.]]\n",
      "\n",
      " [[0. 0. 0. 0.]\n",
      "  [0. 0. 0. 0.]\n",
      "  [0. 0. 0. 0.]]]\n",
      "[1. 1. 1. 1.]\n",
      "[[1.+0.j 1.+0.j]\n",
      " [1.+0.j 1.+0.j]\n",
      " [1.+0.j 1.+0.j]]\n",
      "[[[1. 1. 1. 1. 1.]\n",
      "  [1. 1. 1. 1. 1.]\n",
      "  [1. 1. 1. 1. 1.]\n",
      "  [1. 1. 1. 1. 1.]]\n",
      "\n",
      " [[1. 1. 1. 1. 1.]\n",
      "  [1. 1. 1. 1. 1.]\n",
      "  [1. 1. 1. 1. 1.]\n",
      "  [1. 1. 1. 1. 1.]]\n",
      "\n",
      " [[1. 1. 1. 1. 1.]\n",
      "  [1. 1. 1. 1. 1.]\n",
      "  [1. 1. 1. 1. 1.]\n",
      "  [1. 1. 1. 1. 1.]]]\n",
      "[0 1 2 3 4 5 6 7 8 9]\n",
      "[0 2 4 6 8]\n",
      "[0.   0.25 0.5  0.75 1.  ]\n"
     ]
    }
   ],
   "source": [
    "#Creating Attays\n",
    "#1. np.array() : Create an array from a python list.\n",
    "\n",
    "import numpy as np\n",
    "\n",
    "a=np.array([1,2,3,4])                                 # 1D array is just a collection of elements along one axis (like a list).\n",
    "print(a)\n",
    "\n",
    "##2. np.zeros() : Create an array of zeros.\n",
    "# np.zeros(shape, dtype=float)\n",
    "#1D\n",
    "zero1d = np.zeros(5)\n",
    "print(zero1d)\n",
    "\n",
    "#2D\n",
    "zero2d = np.zeros((2,3))                               # 2 row and 3 columns\n",
    "print(zero2d)\n",
    "\n",
    "#3D\n",
    "zero3D = np.zeros(((2,3,4)))                           # 2 layers each with 3 rows and 4 columns\n",
    "print(zero3D)\n",
    "\n",
    "##3. np.ones() : Creae an array of ones.\n",
    "# np.ones(shape, dtype=float)\n",
    "\n",
    "\n",
    "b = np.ones(4)\n",
    "print(b)\n",
    "\n",
    "#2D array\n",
    "ones2d = np.ones((3,2),complex)                                 # 2d array\n",
    "print(ones2d)\n",
    "\n",
    "#3d arrau                                               # 3d array\n",
    "ones3d = np.ones((3,4,5), float)\n",
    "print(ones3d)\n",
    "\n",
    "##4 np.arange() : Create an array with a range of values.\n",
    "# np.arange(start, stop, step) Here start value is inclusive and stop value is exclusive step size by default 1\n",
    "\n",
    "a = np.arange(0,10)\n",
    "print(a)\n",
    "\n",
    "b = np.arange(0, 10, 2)\n",
    "print(b)\n",
    "\n",
    "##5 np.linspace() : Create an array with a specified number of values betweena range.\n",
    "# np.linspace(start, stop, num=50) # default is 50\n",
    "\n",
    "a = np.linspace(0,1,5)\n",
    "print(a)\n",
    "\n",
    "\n",
    "\n",
    "\n"
   ]
  },
  {
   "cell_type": "markdown",
   "id": "4bb23eb7",
   "metadata": {},
   "source": [
    "# Array Indexing and Slicing"
   ]
  },
  {
   "cell_type": "code",
   "execution_count": 23,
   "id": "601421b7",
   "metadata": {},
   "outputs": [
    {
     "name": "stdout",
     "output_type": "stream",
     "text": [
      "4\n"
     ]
    }
   ],
   "source": [
    "# Indexing : Accessing individual Elements. arrays are zero indexed, meaning the first element has index is 0\n",
    "#array[index]\n",
    "\n",
    "a = [1,2,3,4,5,6,7,8,9]\n",
    "print(a[3])"
   ]
  },
  {
   "cell_type": "code",
   "execution_count": 27,
   "id": "49208a45",
   "metadata": {},
   "outputs": [
    {
     "name": "stdout",
     "output_type": "stream",
     "text": [
      "[20 30 40]\n",
      "[10 20 30]\n",
      "[30 40 50]\n",
      "[10 30 50]\n",
      "50\n",
      "[40 50]\n",
      "[10 20 30 40]\n",
      "[[2 3]\n",
      " [5 6]]\n",
      "[[4 5]\n",
      " [7 8]]\n",
      "[1 2]\n",
      "[[5 6]\n",
      " [7 8]]\n"
     ]
    }
   ],
   "source": [
    "# Slicing : Extracting a Sub-array\n",
    "# array[start:end:step]  # starting index inclusive ending index is exclusive\n",
    "\n",
    "arr = np.array([10, 20, 30, 40, 50])\n",
    "\n",
    "#Slice from index 1 to 3\n",
    "print(arr[1:4]) \n",
    "\n",
    "#Slice from the start to index 3\n",
    "print(arr[:3])  \n",
    "\n",
    "#Slice from index 2 to the end\n",
    "print(arr[2:]) \n",
    "\n",
    "#Slice with a step size of 2\n",
    "print(arr[::2])\n",
    "\n",
    "#Access the last element\n",
    "print(arr[-1])\n",
    "\n",
    "#Slice the last two elements\n",
    "print(arr[-2:])\n",
    "\n",
    "#Slice all elements except the last one\n",
    "print(arr[:-1])\n",
    "\n",
    "\n",
    "#2Darray[start_row:end_row, start_column:end_column]\n",
    "#2D array\n",
    "arr_2d = np.array([[1, 2, 3], [4, 5, 6], [7, 8, 9]])\n",
    "\n",
    "print(arr_2d[0:2, 1:3])                     # Slice rows 0 and 1, and columns 1 and 2\n",
    "\n",
    "print(arr_2d[1:, :2])                        # Slice rows from index 1 to the end, columns 0 to 2\n",
    "\n",
    "\n",
    "#3D array\n",
    "#array[start_layer:end_layer, start_row:end_row, start_column:end_column]\n",
    "\n",
    "arr_3d = np.array([[[1, 2], [3, 4]], [[5, 6], [7, 8]]])\n",
    "arr_3d\n",
    "\n",
    "\n",
    "print(arr_3d[0, 0, :])         # Slice the first layer (index 0), first row and all columns\n",
    "\n",
    "\n",
    "print(arr_3d[1, :, :])         # Slice the second layer (index 1), all rows and columns"
   ]
  },
  {
   "cell_type": "markdown",
   "id": "b1817dec",
   "metadata": {},
   "source": [
    "# Array Operations : addi, subt,multip, divis, Broadcasting, elementwise operation and function"
   ]
  },
  {
   "cell_type": "markdown",
   "id": "ce52dead",
   "metadata": {},
   "source": [
    "#Array Operation in NumPy :\n",
    "1. mathematical operations on arrays very efficient and easy\n",
    "2. NumPy supports element-wise arithmetic operations like addition, subtraction, multiplication, and division, which can be performed on arrays of the same shape or with broadcasting."
   ]
  },
  {
   "cell_type": "code",
   "execution_count": 28,
   "id": "6ec2f8f9",
   "metadata": {
    "scrolled": true
   },
   "outputs": [
    {
     "name": "stdout",
     "output_type": "stream",
     "text": [
      "[5 7 9]\n",
      "[-3 -3 -3]\n",
      "[ 4 10 18]\n",
      "[0.25 0.4  0.5 ]\n"
     ]
    }
   ],
   "source": [
    "#Addition: array1 + array2\n",
    "#Subtraction: array1 - array2\n",
    "#Multiplication: array1 * array2\n",
    "#Division: array1 / array2\n",
    "\n",
    "arr1 = np.array([1, 2, 3])\n",
    "arr2 = np.array([4, 5, 6])\n",
    "add = arr1 + arr2\n",
    "print(add)\n",
    "sub = arr1 - arr2\n",
    "print(sub)\n",
    "multi = arr1 * arr2\n",
    "print(multi)\n",
    "div = arr1 / arr2\n",
    "print(div)\n"
   ]
  },
  {
   "cell_type": "markdown",
   "id": "1a550e30",
   "metadata": {},
   "source": [
    "#  Broadcasting :\n",
    "1. perform operations on arrays of different shapes by automatically expanding the smaller array to match the shape of the larger one without actually copying data.\n",
    "\n",
    "# Broadcasting Rules :\n",
    "1. If the arrays have a different number of dimensions, the smaller array is padded with ones on the left side until the arrays have the same number of dimensions.\n",
    "2. The size of the arrays must match along each dimension, or one of the arrays must have size 1 along that dimension.\n"
   ]
  },
  {
   "attachments": {
    "download.png": {
     "image/png": "[encoded data removed]"
    }
   },
   "cell_type": "markdown",
   "id": "a1b492b9",
   "metadata": {},
   "source": [
    "![download.png](attachment:download.png)"
   ]
  },
  {
   "cell_type": "code",
   "execution_count": 30,
   "id": "e21ee889",
   "metadata": {},
   "outputs": [
    {
     "name": "stdout",
     "output_type": "stream",
     "text": [
      "[1 2 3]\n",
      "[[4]\n",
      " [5]\n",
      " [6]]\n"
     ]
    }
   ],
   "source": [
    "# First Rule\n",
    "\n",
    "array1 = np.array([1, 2, 3])                                        # Shape: (3,) - 1D array\n",
    "array2 = np.array([[4], [5], [6]])                                  # Shape: (3, 1) - 2D array\n",
    "\n",
    "array1: (3,)  → [1, 2, 3]                                            #Original shapes\n",
    "array2: (3, 1) → [[4], [5], [6]]                                     \n",
    "\n",
    "    \n",
    "array1: (1, 3) → [[1, 2, 3]]                                         #After straching arr1 with ones on the left\n",
    "array2: (3, 1) → [[4], [5], [6]]\n"
   ]
  },
  {
   "cell_type": "code",
   "execution_count": 34,
   "id": "7d8ac014",
   "metadata": {},
   "outputs": [
    {
     "name": "stdout",
     "output_type": "stream",
     "text": [
      "[1. 2. 3. 4.]\n",
      "[-0.98803162 -0.80115264  0.89399666]\n",
      "[ 30 180  90]\n"
     ]
    }
   ],
   "source": [
    "# Element wise Operations and functions :\n",
    "\n",
    "# np.sqrt()\n",
    "array = np.array([1, 4, 9, 16])\n",
    "\n",
    "sqrt = np.sqrt(array)\n",
    "print(sqrt)\n",
    "\n",
    "#np.sin()\n",
    "arr = np.array([30,180,90])\n",
    "\n",
    "si = np.sin(array)\n",
    "print(si)\n",
    "\n",
    "# np.exp()\n",
    "exp = np.array(array)\n",
    "print(exp)\n"
   ]
  },
  {
   "cell_type": "markdown",
   "id": "42bb8b25",
   "metadata": {},
   "source": [
    "# Array Shapes and Reshaping in NumPy : \n",
    " .shape and .ndim. Changing array shape with .reshape(), .flatten(), .transpose().\n",
    "Concatenating and splitting arrays using np.concatenate(), np.vstack(), np.hstack(), np.split().\n"
   ]
  },
  {
   "cell_type": "markdown",
   "id": "9e701f75",
   "metadata": {},
   "source": [
    "Checking array dimensions with .shape and .ndim."
   ]
  },
  {
   "cell_type": "code",
   "execution_count": 53,
   "id": "b242ebc9",
   "metadata": {},
   "outputs": [
    {
     "name": "stdout",
     "output_type": "stream",
     "text": [
      "Shape of array: (2, 3)\n",
      "Number of dimensions: 2\n"
     ]
    }
   ],
   "source": [
    "# .shape : return dimension(shape) of the array.\n",
    "# .ndim : return number of dimensions(axes) of the array.\n",
    "\n",
    "array = np.array([[1, 2, 3], [4, 5, 6]])\n",
    "print(\"Shape of array:\", array.shape)\n",
    "print(\"Number of dimensions:\", array.ndim)                  #dimension is 2 because the 2D array"
   ]
  },
  {
   "cell_type": "markdown",
   "id": "4db8cbeb",
   "metadata": {},
   "source": [
    "Changing array shape with .reshape(), .flatten(), .transpose()."
   ]
  },
  {
   "cell_type": "code",
   "execution_count": 37,
   "id": "eb4a884d",
   "metadata": {},
   "outputs": [
    {
     "name": "stdout",
     "output_type": "stream",
     "text": [
      "[[1 2 3]\n",
      " [4 5 6]]\n"
     ]
    }
   ],
   "source": [
    "#Changing array shape with .reshape(), flatten(), transpose()\n",
    "\n",
    "# .reshape()\n",
    "arr = np.array([1, 2, 3, 4, 5, 6])                           # 1D array\n",
    "reshaped_arr = arr.reshape(2, 3)\n",
    "print(reshaped_arr)"
   ]
  },
  {
   "cell_type": "code",
   "execution_count": 54,
   "id": "19c14775",
   "metadata": {},
   "outputs": [
    {
     "name": "stdout",
     "output_type": "stream",
     "text": [
      "Original array:\n",
      " [[1 2 3]\n",
      " [4 5 6]]\n",
      "Flattened array: [1 2 3 4 5 6]\n"
     ]
    }
   ],
   "source": [
    "# .flatten() : returns a 1D array from any N dimensional array.\n",
    "array = np.array([[1, 2, 3], [4, 5, 6]])                           # 2D \n",
    "flat_array = array.flatten()                                    # Convert to 1D array\n",
    "\n",
    "print(\"Original array:\\n\", array)\n",
    "print(\"Flattened array:\", flat_array)\n"
   ]
  },
  {
   "cell_type": "code",
   "execution_count": 55,
   "id": "02c2d09a",
   "metadata": {},
   "outputs": [
    {
     "name": "stdout",
     "output_type": "stream",
     "text": [
      "Original array:\n",
      " [[1 2 3]\n",
      " [4 5 6]]\n",
      "Transposed array:\n",
      " [[1 4]\n",
      " [2 5]\n",
      " [3 6]]\n"
     ]
    }
   ],
   "source": [
    "# .transpose() : convert row into coloumn and coloumn into row.\n",
    "array = np.array([[1, 2, 3], [4, 5, 6]])\n",
    "transposed_array = arr.transpose()\n",
    "\n",
    "print(\"Original array:\\n\", array)\n",
    "print(\"Transposed array:\\n\", transposed_array)\n"
   ]
  },
  {
   "cell_type": "markdown",
   "id": "1da487be",
   "metadata": {},
   "source": [
    "#Concatenating and splitting arrays using np.concatenate(), np.vstack(), np.hstack(), np.split().\n"
   ]
  },
  {
   "cell_type": "code",
   "execution_count": 56,
   "id": "7fe4bf09",
   "metadata": {},
   "outputs": [
    {
     "name": "stdout",
     "output_type": "stream",
     "text": [
      "Concatenated array: [1 2 3 4 5 6]\n",
      "Concatenated array along rows (axis=0):\n",
      " [[1 2]\n",
      " [3 4]\n",
      " [5 6]\n",
      " [7 8]]\n",
      "Concatenated array along coloumn (axis=1):\n",
      " [[1 2]\n",
      " [3 4]\n",
      " [5 6]\n",
      " [7 8]]\n"
     ]
    }
   ],
   "source": [
    "# np.concatenate() : is used to join two or more arrays along a specified axis.\n",
    "# np.concatenate((arr1, arr2, ...), axis=0)                        # Join arrays along a specific axis\n",
    "\n",
    "\n",
    "array1 = np.array([1, 2, 3])\n",
    "array2 = np.array([4, 5, 6])\n",
    "\n",
    "concatenated_array = np.concatenate((array1, array2), axis=0)                      # Concatenate along axis 0\n",
    "\n",
    "print(\"Concatenated array:\", concatenated_array)\n",
    "\n",
    "\n",
    "array1 = np.array([[1, 2], [3, 4]])\n",
    "array2 = np.array([[5, 6], [7, 8]])\n",
    "\n",
    "concatenated_array = np.concatenate((array1, array2), axis=0)                       # Concatenate along rows\n",
    "print(\"Concatenated array along rows (axis=0):\\n\", concatenated_array)\n",
    "concatenated_arr = np.concatenate((array1, array2), axis=1)                       # Concatenate along rows\n",
    "print(\"Concatenated array along coloumn (axis=1):\\n\", concatenated_array)\n"
   ]
  },
  {
   "cell_type": "code",
   "execution_count": 60,
   "id": "8ec80b94",
   "metadata": {},
   "outputs": [
    {
     "name": "stdout",
     "output_type": "stream",
     "text": [
      "Vertically stacked array:\n",
      " [[1 2 3]\n",
      " [4 5 6]]\n",
      "[[1 2]\n",
      " [3 4]\n",
      " [5 6]\n",
      " [7 8]]\n"
     ]
    }
   ],
   "source": [
    "# np.vstack() : (vertical stack) is used to stack arrays vertically (row-wise). \n",
    "# np.vstack((array1, array2, ...))\n",
    "\n",
    "array1 = np.array([1, 2, 3])  \n",
    "array2 = np.array([4, 5, 6])\n",
    "\n",
    "vstacked_array = np.vstack((array1, array2))                                        # Stack vertically (rows)\n",
    "\n",
    "print(\"Vertically stacked array:\\n\", vstacked_array)\n",
    "\n",
    "array1 = np.array([[1, 2], [3, 4]])\n",
    "array2 = np.array([[5, 6], [7, 8]])\n",
    "vstackeed_arrays = np.vstack((array1,array2))\n",
    "print(vstackeed_arrays)"
   ]
  },
  {
   "cell_type": "code",
   "execution_count": 61,
   "id": "0df3f85e",
   "metadata": {},
   "outputs": [
    {
     "name": "stdout",
     "output_type": "stream",
     "text": [
      "Horizontally stacked array: [1 2 3 4 5 6]\n",
      "[[1 2]\n",
      " [3 4]\n",
      " [5 6]\n",
      " [7 8]]\n"
     ]
    }
   ],
   "source": [
    "# np.hstack() : (Horizontal stack) is used to stack arrays horizontally(column-wise)\n",
    "# np.hstack((array1, array2, array3,.....))\n",
    "\n",
    "array1 = np.array([1, 2, 3])\n",
    "array2 = np.array([4, 5, 6])\n",
    "\n",
    "hstacked_array = np.hstack((array1, array2))                                      # Stack horizontally (columns)\n",
    "\n",
    "print(\"Horizontally stacked array:\", hstacked_array)\n",
    "\n",
    "array1 = np.array([[1, 2], [3, 4]])\n",
    "array2 = np.array([[5, 6], [7, 8]])\n",
    "hstack_arrays = np.hstack((array1,array2))\n",
    "print(vstackeed_arrays)\n",
    "\n"
   ]
  },
  {
   "cell_type": "code",
   "execution_count": 66,
   "id": "1286ca42",
   "metadata": {},
   "outputs": [
    {
     "name": "stdout",
     "output_type": "stream",
     "text": [
      "[array([1, 2]), array([3, 4]), array([5, 6])]\n",
      "Splitted arrays along rows (axis=0): [array([[1, 2, 3],\n",
      "       [4, 5, 6]]), array([[ 7,  8,  9],\n",
      "       [10, 11, 12]])]\n"
     ]
    }
   ],
   "source": [
    "# np.splid() : split an array into multiple sub-arrays\n",
    "# np.split(arr, indices_or_sections, axis=0)\n",
    "#1D array\n",
    "array = np.array([1, 2, 3, 4, 5, 6])\n",
    "\n",
    "split_array = np.split(array, 3)\n",
    "print(split_array)\n",
    "\n",
    "# 2D array\n",
    "arr = np.array([[1, 2, 3], [4, 5, 6], [7, 8, 9], [10, 11, 12]])\n",
    "split_array = np.split(arr, 2, axis=0)                      # Split the array into 2 sub-arrays along rows (axis=0)\n",
    "\n",
    "print(\"Splitted arrays along rows (axis=0):\", split_array)\n"
   ]
  },
  {
   "cell_type": "markdown",
   "id": "b7387502",
   "metadata": {},
   "source": [
    "# Array Manipulation :\n",
    "Indexing and slicing: understanding multi-dimensional arrays.\n",
    "Masking (logical indexing based on conditions).\n",
    "Fancy indexing (using arrays of indices to select elements).\n",
    "\n"
   ]
  },
  {
   "cell_type": "code",
   "execution_count": 69,
   "id": "f6617f0a",
   "metadata": {},
   "outputs": [
    {
     "name": "stdout",
     "output_type": "stream",
     "text": [
      "2\n",
      "[[2 3]\n",
      " [5 6]]\n",
      "[4 5 6]\n"
     ]
    }
   ],
   "source": [
    "import numpy as np\n",
    "array = np.array([[1, 2, 3], [4, 5, 6], [7, 8, 9]])                                        # 2D Array\n",
    "\n",
    "#Indexing: accessing a single element(Specific element)\n",
    "a=array[0, 1]\n",
    "print(a)\n",
    "\n",
    "#Slicing: accessing a portion of the array\n",
    "b=array[:2, 1:]\n",
    "print(b)\n",
    "\n",
    "#Slicing a specific row (2nd row)\n",
    "print(array[1]) \n",
    "\n"
   ]
  },
  {
   "cell_type": "markdown",
   "id": "dcf7354e",
   "metadata": {},
   "source": [
    "# Masking(Logical Indexing) :\n",
    "\n",
    "1. Masking is the process of selecting elements based on a condition. \n",
    "2. It involves using a boolean array (mask) where True selects the element and False ignores it."
   ]
  },
  {
   "cell_type": "code",
   "execution_count": 73,
   "id": "50fdbc82",
   "metadata": {},
   "outputs": [
    {
     "name": "stdout",
     "output_type": "stream",
     "text": [
      "[False False False False False  True  True  True  True]\n",
      "[6 7 8 9]\n",
      "[[5 6]\n",
      " [7 8]]\n"
     ]
    }
   ],
   "source": [
    "array = np.array([1, 2, 3, 4, 5, 6, 7, 8, 9])\n",
    "\n",
    "#Masking: selecting elements greater than 5\n",
    "\n",
    "mask = array > 5                                                 # Boolean array [False, False, False, False, False, True, True, True, True]\n",
    "print(mask)\n",
    "print(array[mask])                                               # Applying the mask to the array\n",
    "\n",
    "\n",
    "X = np.array([[1, 2], [3, 4], [5, 6], [7, 8]])\n",
    "mask = X[:, 0] > 3                                              # Select rows where the first feature is greater than 3\n",
    "X_filtered = X[mask]\n",
    "print(X_filtered) \n"
   ]
  },
  {
   "cell_type": "markdown",
   "id": "cd0142d2",
   "metadata": {},
   "source": [
    "# Fancy Indexing (Using Arrays of Indices) :\n",
    "Fancy indexing is when we use arrays (or lists) of indices to select specific elements from an array.\n",
    "\n",
    " This allows non-contiguous selections."
   ]
  },
  {
   "cell_type": "code",
   "execution_count": 77,
   "id": "e35ed529",
   "metadata": {},
   "outputs": [
    {
     "name": "stdout",
     "output_type": "stream",
     "text": [
      "[20 40 60]\n",
      "[[1 2 3]\n",
      " [4 5 6]\n",
      " [7 8 9]]\n",
      "[2 9]\n",
      "[[1 2 3]\n",
      " [7 8 9]]\n"
     ]
    }
   ],
   "source": [
    "array = np.array([10, 20, 30, 40, 50, 60, 70, 80])\n",
    "\n",
    "#Fancy Indexing: selecting multiple elements using a list of indices\n",
    "indices = [1, 3, 5]                                              # Select elements at indices 1, 3, and 5\n",
    "print(array[indices])\n",
    "\n",
    "\n",
    "d = np.array([[1, 2, 3], [4, 5, 6], [7, 8, 9]])\n",
    "print(d)\n",
    "\n",
    "# Fancy indexing to select rows and columns using specific indices\n",
    "rows = [0, 2]                                                # 2 courspponding to the 0 row and 1 clm\n",
    "cols = [1, 2]                                                # 9 coursponding to the 2 row and 2 clm\n",
    "print(d[rows, cols])\n",
    "\n",
    "\n",
    "\n",
    "X = np.array([[1, 2, 3], [4, 5, 6], [7, 8, 9], [10, 11, 12]])\n",
    "\n",
    "indices = [0, 2]                                               # Select the 1st and 3rd row\n",
    "selectedrows = X[indices]\n",
    "print(selectedrows)\n",
    "\n"
   ]
  },
  {
   "cell_type": "markdown",
   "id": "f1986b53",
   "metadata": {},
   "source": [
    "# Mathematical Functions\n",
    "Universal functions (ufuncs) like np.add(), np.subtract(), np.multiply().\n",
    "Statistical functions: np.mean(), np.median(), np.std(), np.var(), np.min(), np.max().\n",
    "Linear algebra functions: np.dot(), np.matmul(), np.linalg.inv(), np.linalg.eig()."
   ]
  },
  {
   "cell_type": "code",
   "execution_count": 79,
   "id": "8b3de389",
   "metadata": {},
   "outputs": [
    {
     "name": "stdout",
     "output_type": "stream",
     "text": [
      "[5 7 9]\n",
      "[-3 -3 -3]\n",
      "[ 4 10 18]\n",
      "[0.25 0.4  0.5 ]\n"
     ]
    }
   ],
   "source": [
    "#Universal functions (ufuncs) : np.add(), np.subtract(), np.multiply(). \n",
    "\n",
    "a1 = np.array([1, 2, 3])\n",
    "a2 = np.array([4, 5, 6])\n",
    "\n",
    "#np.add() : Element-wise addition\n",
    "add = np.add(a1, a2)\n",
    "print(add)\n",
    "\n",
    "#np.subtract() : Element-wise subtraction\n",
    "subtract = np.subtract(arr1, arr2)\n",
    "print(subtract)\n",
    "\n",
    "#np.multiply() : Element-wise multiplication\n",
    "multiply = np.multiply(a1, a2)\n",
    "print(multiply)\n",
    "\n",
    "#np.divide() : Element-wise division\n",
    "divide = np.divide(a1, a2)\n",
    "print(divide)\n"
   ]
  },
  {
   "cell_type": "code",
   "execution_count": 80,
   "id": "fa1d7960",
   "metadata": {},
   "outputs": [
    {
     "name": "stdout",
     "output_type": "stream",
     "text": [
      "Mean: 5.0\n",
      "Median: 5.0\n",
      "Standard Deviation: 2.581988897471611\n",
      "Variance: 6.666666666666667\n",
      "Minimum: 1\n",
      "Maximum: 12\n"
     ]
    }
   ],
   "source": [
    "#Statistical Function :: np.mean(), np.median(), np.std(), np.var(), np.min(), np.max().\n",
    "a = np.array([1, 2, 3, 4, 5, 6, 7, 8, 9])\n",
    "\n",
    "# np.mean(): Mean of the array\n",
    "mean = np.mean(a)\n",
    "print(f\"Mean: {mean}\") \n",
    "\n",
    "# np.median() : Median of the array\n",
    "median = np.median(a)\n",
    "print(f\"Median: {median}\")\n",
    "\n",
    "# np.std() : Standard deviation of the array\n",
    "stddev = np.std(a)\n",
    "print(f\"Standard Deviation: {stddev}\")\n",
    "\n",
    "# np.var() : Variance of the array\n",
    "variance = np.var(a)\n",
    "print(f\"Variance: {variance}\")\n",
    "\n",
    "# np.min(): Minimum value of the array\n",
    "minval = np.min(a)\n",
    "print(f\"Minimum: {minval}\")\n",
    "\n",
    "# np.max(): Maximum value of the array\n",
    "maxval = np.max(arr)\n",
    "print(f\"Maximum: {maxval}\")\n"
   ]
  },
  {
   "cell_type": "code",
   "execution_count": 82,
   "id": "19c05b36",
   "metadata": {
    "scrolled": true
   },
   "outputs": [
    {
     "name": "stdout",
     "output_type": "stream",
     "text": [
      "Dot Product:\n",
      "[[19 22]\n",
      " [43 50]]\n",
      "Matrix Multiplication:\n",
      "[[19 22]\n",
      " [43 50]]\n",
      "Inverse of A:\n",
      "[[-2.   1. ]\n",
      " [ 1.5 -0.5]]\n",
      "Eigenvalues: [-0.37228132  5.37228132]\n",
      "Eigenvectors:\n",
      "[[-0.82456484 -0.41597356]\n",
      " [ 0.56576746 -0.90937671]]\n"
     ]
    }
   ],
   "source": [
    "#Linear algebra functions: np.dot(), np.matmul(), np.linalg.inv(), np.linalg.eig().\n",
    "\n",
    "A = np.array([[1, 2], [3, 4]])\n",
    "B = np.array([[5, 6], [7, 8]])\n",
    "\n",
    "# np.dot(): Dot product of two arrays\n",
    "dot_product = np.dot(A, B)\n",
    "print(f\"Dot Product:\\n{dot_product}\")\n",
    "\n",
    "# np.matmul(): Matrix multiplication\n",
    "matrix_product = np.matmul(A, B)\n",
    "print(f\"Matrix Multiplication:\\n{matrix_product}\")\n",
    "\n",
    "# np.linalg.inv(): Inverse of a matrix\n",
    "inverse_A = np.linalg.inv(A)\n",
    "print(f\"Inverse of A:\\n{inverse_A}\")\n",
    "\n",
    "# np.linalg.eig(): Eigenvalues and eigenvectors of a matrix\n",
    "eigenvalues, eigenvectors = np.linalg.eig(A)\n",
    "print(f\"Eigenvalues: {eigenvalues}\")\n",
    "print(f\"Eigenvectors:\\n{eigenvectors}\")\n",
    "\n"
   ]
  },
  {
   "cell_type": "markdown",
   "id": "7c60076f",
   "metadata": {},
   "source": [
    "# Random Number Generation : \n",
    "Generating random numbers using np.random (e.g., np.random.rand(), np.random.randint()).\n",
    "Seeding random number generation (np.random.seed()).\n",
    "Random sampling, shuffling, and permutations.\n"
   ]
  },
  {
   "cell_type": "code",
   "execution_count": 83,
   "id": "e84a0911",
   "metadata": {},
   "outputs": [
    {
     "name": "stdout",
     "output_type": "stream",
     "text": [
      "0.23425889281185253\n",
      "[[0.37749103 0.97583896 0.92372905]\n",
      " [0.83200058 0.05472865 0.44928106]]\n"
     ]
    }
   ],
   "source": [
    "\n",
    "randfloat = np.random.rand()                                 #random number between 0and1\n",
    "print(randfloat)\n",
    "\n",
    "                                                               # Generate a 2x3 array of random floats\n",
    "randomarray = np.random.rand(2, 3)\n",
    "print(randomarray)\n"
   ]
  },
  {
   "cell_type": "code",
   "execution_count": 86,
   "id": "23d0c1c4",
   "metadata": {},
   "outputs": [
    {
     "name": "stdout",
     "output_type": "stream",
     "text": [
      "[[38 67]\n",
      " [29 25]\n",
      " [37 14]]\n"
     ]
    }
   ],
   "source": [
    "#\n",
    "# np.random.randint(low, high(exclusive), size(shpae of output array)\n",
    "randintegers = np.random.randint(1, 100, size=(3, 2))\n",
    "print(randintegers)"
   ]
  },
  {
   "cell_type": "code",
   "execution_count": null,
   "id": "4d3e9e0d",
   "metadata": {},
   "outputs": [],
   "source": [
    "#Seeding Random Number Generation with np.random.seed()\n",
    "#np.random.seed(seed)"
   ]
  },
  {
   "cell_type": "code",
   "execution_count": 91,
   "id": "776e16b1",
   "metadata": {},
   "outputs": [
    {
     "name": "stdout",
     "output_type": "stream",
     "text": [
      "[[0.37454012 0.95071431 0.73199394]\n",
      " [0.59865848 0.15601864 0.15599452]]\n",
      "[[0.37454012 0.95071431 0.73199394]\n",
      " [0.59865848 0.15601864 0.15599452]]\n"
     ]
    }
   ],
   "source": [
    "#seed :  the sequence of random numbers will be the same each time the code is run.\n",
    "np.random.seed(42)\n",
    "               \n",
    "random_array_1 = np.random.rand(2, 3)\n",
    "print(random_array_1)\n",
    "\n",
    "#Set the same seed again and generate the same random array\n",
    "np.random.seed(42)\n",
    "random_array_2 = np.random.rand(2, 3)\n",
    "print(random_array_2)\n",
    "\n",
    "\n"
   ]
  },
  {
   "cell_type": "code",
   "execution_count": 93,
   "id": "e82c47a5",
   "metadata": {},
   "outputs": [
    {
     "name": "stdout",
     "output_type": "stream",
     "text": [
      "[4 3 5]\n",
      "[1 3 5]\n"
     ]
    }
   ],
   "source": [
    "#np.random.choice() – Random Sampling : This function is used to randomly sample elements from a given 1-D array. We can sample with or without replacement.\n",
    "#np.random.choice(a, size=None, replace=True, p=None)\n",
    "\n",
    "array = np.array([1, 2, 3, 4, 5])\n",
    "\n",
    "sampled = np.random.choice(array, size=3, replace=True)                         # Randomly sample 3 elements with replacement\n",
    "print(sampled) \n",
    "\n",
    "samplednoreplacement = np.random.choice(array, size=3, replace=False)           # Randomly sample 3 elements without replacement\n",
    "print(samplednoreplacement)\n",
    "\n"
   ]
  },
  {
   "cell_type": "code",
   "execution_count": 94,
   "id": "6a787897",
   "metadata": {},
   "outputs": [
    {
     "name": "stdout",
     "output_type": "stream",
     "text": [
      "[5 3 1 4 2]\n"
     ]
    }
   ],
   "source": [
    "#np.random.shuffle() – This function shuffles the array in-place, meaning the original array is modified.\n",
    "#np.random.shuffle(arr)\n",
    "\n",
    "\n",
    "array = np.array([1, 2, 3, 4, 5])    # Changes the original array\n",
    "\n",
    "\n",
    "np.random.shuffle(array)\n",
    "print(array)\n"
   ]
  },
  {
   "cell_type": "code",
   "execution_count": 95,
   "id": "53e1922d",
   "metadata": {},
   "outputs": [
    {
     "name": "stdout",
     "output_type": "stream",
     "text": [
      "[3 1 5 2 4]\n"
     ]
    }
   ],
   "source": [
    "#np.random.permutation() : This function returns a shuffled version of the input array, without modifying the original array.\n",
    "\n",
    "array = np.array([1, 2, 3, 4, 5])\n",
    "\n",
    "permuted = np.random.permutation(array) # Does not modify the original array, create a new array\n",
    "print(permuted)\n"
   ]
  },
  {
   "cell_type": "markdown",
   "id": "0cd4305b",
   "metadata": {},
   "source": [
    "#  Broadcasting :\n",
    "Understanding how NumPy handles operations between arrays of different shapes.\n",
    "Rules of broadcasting (e.g., matching dimensions, aligning axes)."
   ]
  },
  {
   "cell_type": "markdown",
   "id": "5077c895",
   "metadata": {},
   "source": [
    "# Broadcasting :\n",
    "1. Broadcasting refers to how NumPy handles arithmetic operations between arrays of different shapes, allowing it to perform element-wise operations without needing to explicitly reshape the arrays.\n",
    "2.  It automatically expands the smaller array to match the larger array’s shape, according to certain rules. \n",
    "3. This makes NumPy highly efficient for operations on large datasets, reducing the need for loops."
   ]
  },
  {
   "cell_type": "code",
   "execution_count": 97,
   "id": "8a491bcb",
   "metadata": {},
   "outputs": [
    {
     "name": "stdout",
     "output_type": "stream",
     "text": [
      "[[11 22 33]\n",
      " [14 25 36]]\n"
     ]
    }
   ],
   "source": [
    "\n",
    "array_2d = np.array([[1, 2, 3], [4, 5, 6]]) # 2D arra\n",
    "array_1d = np.array([10, 20, 30]) #1D array\n",
    "\n",
    "# Add the 2D array and the 1D array\n",
    "result = array_2d + array_1d\n",
    "print(result)\n"
   ]
  },
  {
   "cell_type": "code",
   "execution_count": 101,
   "id": "f69c48cf",
   "metadata": {},
   "outputs": [
    {
     "name": "stdout",
     "output_type": "stream",
     "text": [
      "[[[11 22]\n",
      "  [13 24]]\n",
      "\n",
      " [[15 26]\n",
      "  [17 28]]]\n"
     ]
    }
   ],
   "source": [
    "#Broadcasting with Different Dimensions\n",
    "array_3d = np.array([[[1, 2], [3, 4]], [[5, 6], [7, 8]]])   #3D array\n",
    "\n",
    "array_1d = np.array([10, 20])    #1D array\n",
    "\n",
    "# Add the 3D array and the 1D array\n",
    "result = array_3d + array_1d\n",
    "print(result)\n"
   ]
  },
  {
   "cell_type": "code",
   "execution_count": null,
   "id": "05230c37",
   "metadata": {},
   "outputs": [],
   "source": []
  },
  {
   "cell_type": "code",
   "execution_count": null,
   "id": "953b90f7",
   "metadata": {},
   "outputs": [],
   "source": []
  }
 ],
 "metadata": {
  "kernelspec": {
   "display_name": "Python 3 (ipykernel)",
   "language": "python",
   "name": "python3"
  },
  "language_info": {
   "codemirror_mode": {
    "name": "ipython",
    "version": 3
   },
   "file_extension": ".py",
   "mimetype": "text/x-python",
   "name": "python",
   "nbconvert_exporter": "python",
   "pygments_lexer": "ipython3",
   "version": "3.11.3"
  }
 },
 "nbformat": 4,
 "nbformat_minor": 5
}
