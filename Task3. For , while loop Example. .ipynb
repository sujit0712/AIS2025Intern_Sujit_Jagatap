{
 "cells": [
  {
   "cell_type": "code",
   "execution_count": 3,
   "id": "5ce1ae7e",
   "metadata": {},
   "outputs": [
    {
     "name": "stdout",
     "output_type": "stream",
     "text": [
      "8\n"
     ]
    }
   ],
   "source": [
    "#1. Write a Python function to find the maximum of from given \n",
    "def findmax(numbers):\n",
    "    max_num = numbers[0]  \n",
    "    \n",
    "    for num in numbers:\n",
    "        if num > max_num:\n",
    "            max_num = num  \n",
    "    return max_num  \n",
    "\n",
    "numbers = [3, 5, 7, 2, 8, 1]\n",
    "result = findmax(numbers)\n",
    "print(result)\n"
   ]
  },
  {
   "cell_type": "code",
   "execution_count": 7,
   "id": "639c08a6",
   "metadata": {},
   "outputs": [
    {
     "name": "stdout",
     "output_type": "stream",
     "text": [
      "20\n"
     ]
    }
   ],
   "source": [
    "#2)Write a Python function to sum all the numbers in a list.  Sample List : [8, 2, 3, 0, 7] Expected Output : 20 \n",
    "\n",
    "def sumfun(num):\n",
    "    sum = 0\n",
    "    for i in num:\n",
    "        sum=sum+i\n",
    "    return sum\n",
    "\n",
    "number = [8,2,3,0,7]\n",
    "sums = sumfun(number)\n",
    "print(sums)"
   ]
  },
  {
   "cell_type": "code",
   "execution_count": 18,
   "id": "837c567e",
   "metadata": {},
   "outputs": [
    {
     "name": "stdout",
     "output_type": "stream",
     "text": [
      "[1, 2, 3, 4, 5]\n"
     ]
    }
   ],
   "source": [
    "#3)Write a Python function that takes a list and returns a new list with distinct elements from the first list. \n",
    "#Sample List : [1,2,3,3,3,3,4,5] Unique List : [1, 2, 3, 4, 5]\n",
    "def distict(number):\n",
    "    uninum = []\n",
    "    for i in number:\n",
    "        if i not in uninum:\n",
    "            uninum.append(i)\n",
    "    return uninum\n",
    "        \n",
    "\n",
    "lis = [1,2,3,3,3,3,4,5]\n",
    "uni=distict(lis)\n",
    "print(uni)\n",
    "        "
   ]
  },
  {
   "cell_type": "code",
   "execution_count": 19,
   "id": "5f0259b7",
   "metadata": {},
   "outputs": [],
   "source": [
    "import math"
   ]
  },
  {
   "cell_type": "code",
   "execution_count": 39,
   "id": "4fe7d482",
   "metadata": {},
   "outputs": [
    {
     "name": "stdout",
     "output_type": "stream",
     "text": [
      "Total number of combination : 3\n"
     ]
    }
   ],
   "source": [
    "#4)Write a Python function total number of  Combinations. \n",
    "#Ex. a,b,c Ans: 4 : ab,ac,bc,ac \n",
    "\n",
    "\n",
    "def combi(n,r):\n",
    "    comb=math.factorial(n)//(math.factorial(n-r)*math.factorial(r))\n",
    "    return comb\n",
    "    \n",
    "c=combi(3,2)\n",
    "print(f\"Total number of combination : {c}\")\n"
   ]
  },
  {
   "cell_type": "code",
   "execution_count": 40,
   "id": "b95f2dca",
   "metadata": {},
   "outputs": [
    {
     "name": "stdout",
     "output_type": "stream",
     "text": [
      "The total number of permitutation : 6\n"
     ]
    }
   ],
   "source": [
    "#5)Write a Python function total number of  permutation \n",
    "#Ex. a,b,c And: 6 : ab,ac,ba,bc,ca,cb\n",
    "\n",
    "def perm(n,r):\n",
    "    permi=math.factorial(n)//math.factorial(n-r)\n",
    "    return permi\n",
    "\n",
    "    \n",
    "p=perm(3,2)\n",
    "print(f\"The total number of permitutation : {p}\")\n",
    "\n"
   ]
  },
  {
   "cell_type": "code",
   "execution_count": 78,
   "id": "996c1be2",
   "metadata": {},
   "outputs": [],
   "source": [
    "#6)Exercise 5: Define a function which counts vowels and consonant in a word.\n",
    " # input :  statistics  Expected output : Count of vowel is = 3 Count of consonant is = 7\n",
    "\n",
    "\n",
    "\n",
    "def counts(word):\n",
    "        v=[]\n",
    "        c=[]\n",
    "        for num in word:\n",
    "            if num=='a' or num=='e' or num=='o' or num=='u' or num=='i':\n",
    "                v.append(num)\n",
    "            else:\n",
    "                c.append(num)\n",
    "        return print(f'count of vowe : {len(v)}',f'count of consonant : {len(c)}')\n",
    "\n",
    "\n",
    "            \n",
    "            "
   ]
  },
  {
   "cell_type": "code",
   "execution_count": 79,
   "id": "d0803f98",
   "metadata": {},
   "outputs": [
    {
     "name": "stdout",
     "output_type": "stream",
     "text": [
      "count of vowe : 3 count of consonant : 6\n"
     ]
    }
   ],
   "source": [
    "counts('satistics')"
   ]
  },
  {
   "cell_type": "code",
   "execution_count": 100,
   "id": "7390d1cc",
   "metadata": {},
   "outputs": [
    {
     "name": "stdout",
     "output_type": "stream",
     "text": [
      "count of vowel : 5 count of consonant : 2\n"
     ]
    }
   ],
   "source": [
    "def counts(word):\n",
    "    vcount=0\n",
    "    ccount=0\n",
    "    a='aeiou'\n",
    "    for i in word:\n",
    "        if i.lower() in a:\n",
    "            vcount+=1\n",
    "        elif i.lower() not in a:\n",
    "            ccount+=1\n",
    "    return print(f'count of vowel : {vcount}',f'count of consonant : {ccount}')\n",
    "\n",
    "d=counts('aAABcIE')\n"
   ]
  },
  {
   "cell_type": "code",
   "execution_count": 2,
   "id": "4d88ac98",
   "metadata": {},
   "outputs": [
    {
     "name": "stdout",
     "output_type": "stream",
     "text": [
      "STATISTICS\n"
     ]
    }
   ],
   "source": [
    "#7): Define a function that accepts lowercase words and returns uppercase words.Input:= statistics  Expected output  Result is = STATISTICS \n",
    "\n",
    "\n",
    "def upcase(word):\n",
    "    return word.upper()\n",
    "\n",
    "\n",
    "input = \"statistics\"\n",
    "result = upcase(input)\n",
    "print(result)\n"
   ]
  },
  {
   "cell_type": "code",
   "execution_count": 7,
   "id": "9734bee2",
   "metadata": {},
   "outputs": [
    {
     "name": "stdout",
     "output_type": "stream",
     "text": [
      "Upper case: 5\n",
      "Lower case: 5\n"
     ]
    }
   ],
   "source": [
    "#8) count lower case and upper case  letter. Ex : STatiStiCS Ans: upper case :5 Lower case: 5\n",
    "\n",
    "def count(word):\n",
    "    uppercount = 0\n",
    "    lowercount = 0\n",
    "\n",
    "    for char in word:\n",
    "        if char.isupper():\n",
    "            uppercount = uppercount+1\n",
    "        elif char.islower():\n",
    "            lowercount = lowercount+1\n",
    "\n",
    "    return uppercount, lowercount\n",
    "\n",
    "\n",
    "word= \"STatiStiCS\"\n",
    "upper, lower = count(word)\n",
    "\n",
    "print(f\"Upper case: {upper}\")\n",
    "print(f\"Lower case: {lower}\")\n"
   ]
  },
  {
   "cell_type": "code",
   "execution_count": null,
   "id": "7cd0e09e",
   "metadata": {},
   "outputs": [],
   "source": []
  }
 ],
 "metadata": {
  "kernelspec": {
   "display_name": "Python 3 (ipykernel)",
   "language": "python",
   "name": "python3"
  },
  "language_info": {
   "codemirror_mode": {
    "name": "ipython",
    "version": 3
   },
   "file_extension": ".py",
   "mimetype": "text/x-python",
   "name": "python",
   "nbconvert_exporter": "python",
   "pygments_lexer": "ipython3",
   "version": "3.11.3"
  }
 },
 "nbformat": 4,
 "nbformat_minor": 5
}
