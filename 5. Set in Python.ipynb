{
 "cells": [
  {
   "cell_type": "markdown",
   "id": "6625f459",
   "metadata": {},
   "source": [
    "# Set :\n",
    "\n",
    "1.do not maintaiin any order of elements.\n",
    "\n",
    "2.do not allow duplicate element.\n",
    "\n",
    "3.Mutable i.e we can add, remove item from the set but items themselves must be immutable eg.numbers, strings, tuples.\n",
    "\n",
    "4.No indexing or slicing.(use loop, for x in my_set:print(x)"
   ]
  },
  {
   "cell_type": "code",
   "execution_count": 2,
   "id": "19654683",
   "metadata": {},
   "outputs": [
    {
     "name": "stdout",
     "output_type": "stream",
     "text": [
      "{1, 2, 3, 4}\n",
      "{1, 2, 3, 4}\n"
     ]
    }
   ],
   "source": [
    "#add() : add element to set\n",
    "\n",
    "myset = {1,2,3}\n",
    "myset.add(4)\n",
    "print(myset)\n",
    "\n",
    "myset.add(4)\n",
    "print(myset)         # Not added 4 because set not allowed duplicate value\n"
   ]
  },
  {
   "cell_type": "code",
   "execution_count": 4,
   "id": "9251dc29",
   "metadata": {},
   "outputs": [
    {
     "name": "stdout",
     "output_type": "stream",
     "text": [
      "{1, 2}\n",
      "{1, 2}\n"
     ]
    }
   ],
   "source": [
    "#remove() : remove the specific element from set. if the element is not found then keyError arises\n",
    "#discard() : remove the specific element from set. if the element is not found error not arises.\n",
    "\n",
    "myset = {1,2,3}\n",
    "myset.remove(3)          #deletes the element 3 from the set.\n",
    "print(myset)\n",
    "\n",
    "myset.discard(10)        #10 not present in set then error not occure\n",
    "print(myset)\n"
   ]
  },
  {
   "cell_type": "code",
   "execution_count": 7,
   "id": "b0bdb5a8",
   "metadata": {},
   "outputs": [
    {
     "name": "stdout",
     "output_type": "stream",
     "text": [
      "{1, 2, 3, 4, 5}\n"
     ]
    }
   ],
   "source": [
    "# Union() :combine the element of two set.if there is duplicate element only one lement kept in result.\n",
    "\n",
    "set1 = {1,2,3}\n",
    "set2 = {3,4,5}\n",
    "\n",
    "result = set1.union(set2)         # duplicate value deleted only single value presented\n",
    "print(result)"
   ]
  },
  {
   "cell_type": "code",
   "execution_count": 8,
   "id": "c212b949",
   "metadata": {},
   "outputs": [
    {
     "name": "stdout",
     "output_type": "stream",
     "text": [
      "{3}\n"
     ]
    }
   ],
   "source": [
    "# Intersection() : returns the elements that are common to both sets\n",
    "\n",
    "set1 = {1,2,3}\n",
    "set2 = {3,4,5}\n",
    "\n",
    "result = set1.intersection(set2)        # gives common element\n",
    "print(result)"
   ]
  },
  {
   "cell_type": "code",
   "execution_count": 10,
   "id": "f2798a89",
   "metadata": {},
   "outputs": [
    {
     "name": "stdout",
     "output_type": "stream",
     "text": [
      "{1, 2}\n"
     ]
    }
   ],
   "source": [
    "# Difference() : return elements that are in first set but not in the second.\n",
    "\n",
    "set1 = {1,2,3,4}\n",
    "set2 = {3,4,5}\n",
    "\n",
    "result=set1.difference(set2)\n",
    "print(result)\n"
   ]
  },
  {
   "cell_type": "code",
   "execution_count": 11,
   "id": "e9ab40a7",
   "metadata": {},
   "outputs": [
    {
     "name": "stdout",
     "output_type": "stream",
     "text": [
      "set()\n"
     ]
    }
   ],
   "source": [
    "# Clear() : clear all elements from the set\n",
    "\n",
    "sets = {1,2,3}\n",
    "sets.clear()\n",
    "print(sets)         #empty set"
   ]
  },
  {
   "cell_type": "code",
   "execution_count": 12,
   "id": "01ad09aa",
   "metadata": {},
   "outputs": [
    {
     "name": "stdout",
     "output_type": "stream",
     "text": [
      "{1, 2, 3}\n"
     ]
    }
   ],
   "source": [
    "# copy() : copy of the set\n",
    "\n",
    "set = {1,2,3}\n",
    "cpyset = set.copy()\n",
    "print(cpyset)"
   ]
  },
  {
   "cell_type": "code",
   "execution_count": null,
   "id": "118d480e",
   "metadata": {},
   "outputs": [],
   "source": []
  }
 ],
 "metadata": {
  "kernelspec": {
   "display_name": "Python 3 (ipykernel)",
   "language": "python",
   "name": "python3"
  },
  "language_info": {
   "codemirror_mode": {
    "name": "ipython",
    "version": 3
   },
   "file_extension": ".py",
   "mimetype": "text/x-python",
   "name": "python",
   "nbconvert_exporter": "python",
   "pygments_lexer": "ipython3",
   "version": "3.11.3"
  }
 },
 "nbformat": 4,
 "nbformat_minor": 5
}
