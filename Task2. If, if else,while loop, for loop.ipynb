{
 "cells": [
  {
   "cell_type": "markdown",
   "id": "314f8064",
   "metadata": {},
   "source": [
    "If-else\n",
    "\n",
    "1) grade code\n",
    "p=50\n",
    "O: p>75\n",
    "A : 60 < p>75\n",
    "B: 50<p<60\n",
    "C: 35<p<50\n",
    "fail:p<35"
   ]
  },
  {
   "cell_type": "code",
   "execution_count": 1,
   "id": "e2ca8bd4",
   "metadata": {},
   "outputs": [
    {
     "name": "stdout",
     "output_type": "stream",
     "text": [
      "Grade Code c\n"
     ]
    }
   ],
   "source": [
    "#1.\n",
    "\n",
    "p = 50\n",
    "if p > 75:\n",
    "    print(\"Grade Code o\")\n",
    "elif 60<p>=75:\n",
    "    print(\"Grade Code A\")\n",
    "elif 50<p>=60:\n",
    "    print(\"Grade Code B\")\n",
    "elif 35<p>=50:\n",
    "    print(\"Grade Code c\")\n",
    "else:\n",
    "    print(\"fail\")"
   ]
  },
  {
   "cell_type": "code",
   "execution_count": 2,
   "id": "527ef45a",
   "metadata": {},
   "outputs": [
    {
     "name": "stdout",
     "output_type": "stream",
     "text": [
      "it is true\n"
     ]
    }
   ],
   "source": [
    "# If example \n",
    "\n",
    "x = 5\n",
    "if x==5:\n",
    "    print(\"it is true\")"
   ]
  },
  {
   "cell_type": "code",
   "execution_count": 3,
   "id": "4aa67678",
   "metadata": {},
   "outputs": [
    {
     "name": "stdout",
     "output_type": "stream",
     "text": [
      "X is ZERO\n"
     ]
    }
   ],
   "source": [
    "x = 0\n",
    "if (x > 0):\n",
    "    print(\"X is Positive\")\n",
    "elif (x<0):\n",
    "    print(\"X is Negative\")\n",
    "else:\n",
    "    print(\"X is ZERO\")"
   ]
  },
  {
   "cell_type": "code",
   "execution_count": 4,
   "id": "15729919",
   "metadata": {},
   "outputs": [
    {
     "name": "stdout",
     "output_type": "stream",
     "text": [
      "enter any number from x4\n",
      "number is even\n"
     ]
    }
   ],
   "source": [
    "x = [2,4,6,8,10]\n",
    "num = int(input(\"enter any number from x\"))\n",
    "if num in x:\n",
    "    print(\"number is even\")\n",
    "    "
   ]
  },
  {
   "cell_type": "code",
   "execution_count": 5,
   "id": "faca562a",
   "metadata": {},
   "outputs": [
    {
     "name": "stdout",
     "output_type": "stream",
     "text": [
      "number is gretter then 7\n"
     ]
    }
   ],
   "source": [
    "x = 10\n",
    "if x >= 7:\n",
    "    print(\"number is gretter then 7\")"
   ]
  },
  {
   "cell_type": "code",
   "execution_count": 7,
   "id": "268180c0",
   "metadata": {},
   "outputs": [
    {
     "name": "stdout",
     "output_type": "stream",
     "text": [
      "enter any integer in berween 0 and 10: 4\n",
      "number 4 is leis in y and it is even\n"
     ]
    }
   ],
   "source": [
    "# If else example\n",
    "\n",
    "x = [1,3,5,7,9]\n",
    "y = [2,4,6,8,10]\n",
    "num = int(input(\"enter any integer in berween 0 and 10: \"))\n",
    "if num in x:\n",
    "    print('number',num, 'is lies in x and it is odd')\n",
    "else:\n",
    "    print('number',num, 'is leis in y and it is even')\n"
   ]
  },
  {
   "cell_type": "code",
   "execution_count": 8,
   "id": "983467d5",
   "metadata": {},
   "outputs": [
    {
     "name": "stdout",
     "output_type": "stream",
     "text": [
      "enter any integer: 6\n",
      "Given number is even\n"
     ]
    }
   ],
   "source": [
    "num=int(input(\"enter any integer: \"))\n",
    "if num % 2 == 0:\n",
    "    print(\"Given number is even\")\n",
    "else:\n",
    "    print(\"Given numer is odd\")"
   ]
  },
  {
   "cell_type": "code",
   "execution_count": 9,
   "id": "db010a85",
   "metadata": {},
   "outputs": [
    {
     "name": "stdout",
     "output_type": "stream",
     "text": [
      "Enter your age :5\n",
      "You are not eligible to drive\n"
     ]
    }
   ],
   "source": [
    "age = int(input(\"Enter your age :\"))\n",
    "\n",
    "if age >= 18:\n",
    "    print(\"You can drive\")\n",
    "else:\n",
    "    print(\"You are not eligible to drive\")\n"
   ]
  },
  {
   "cell_type": "code",
   "execution_count": 10,
   "id": "ced10c98",
   "metadata": {},
   "outputs": [
    {
     "name": "stdout",
     "output_type": "stream",
     "text": [
      "Enter your percentage67\n",
      "You passed the exam\n"
     ]
    }
   ],
   "source": [
    "score = int(input(\"Enter your percentage\"))\n",
    "\n",
    "if score >= 35:\n",
    "    print(\"You passed the exam\")\n",
    "else:\n",
    "    print(\"You failed the exam\")\n"
   ]
  },
  {
   "cell_type": "code",
   "execution_count": 11,
   "id": "373557b0",
   "metadata": {},
   "outputs": [
    {
     "name": "stdout",
     "output_type": "stream",
     "text": [
      "Enter any number :6\n",
      "The number is divisible by 3\n"
     ]
    }
   ],
   "source": [
    "number = int(input(\"Enter any number :\"))\n",
    "\n",
    "if number % 3 == 0:\n",
    "    print(\"The number is divisible by 3\")\n",
    "else:\n",
    "    print(\"The number is not divisible by 3\")\n"
   ]
  },
  {
   "cell_type": "code",
   "execution_count": 12,
   "id": "06062175",
   "metadata": {},
   "outputs": [
    {
     "name": "stdout",
     "output_type": "stream",
     "text": [
      "Enter any day :sunday\n",
      "It is weekday\n"
     ]
    }
   ],
   "source": [
    "day = str(input(\"Enter any day :\"))\n",
    "\n",
    "if day == \"Saturday\" or day == \"Sunday\":\n",
    "    print(\"It is the weekend\")\n",
    "else:\n",
    "    print(\"It is weekday\")\n"
   ]
  },
  {
   "cell_type": "markdown",
   "id": "e49524e1",
   "metadata": {},
   "source": [
    "2) n divisible by 2 or 3\n",
    "n=7\n",
    "2 divisble, 3 not\n",
    "divisible by 2,and 3\n",
    "divisible by 3, not 2\n",
    "not divisible by 2, and 3"
   ]
  },
  {
   "cell_type": "code",
   "execution_count": 13,
   "id": "037122eb",
   "metadata": {},
   "outputs": [
    {
     "name": "stdout",
     "output_type": "stream",
     "text": [
      "enter any integr56\n",
      "number 56 is divisiable by 2 but not 3\n"
     ]
    }
   ],
   "source": [
    "num = int(input(\"enter any integr\"))\n",
    "if num % 2 == 0 and num % 3 == 0:\n",
    "    print('number', num, 'is divisiable by 3 and 2')\n",
    "elif num % 2 ==0:\n",
    "    print('number',num, 'is divisiable by 2 but not 3')\n",
    "elif num % 3 ==0:\n",
    "    print('number',num,'is divisiable by 3 but not2')\n",
    "else:\n",
    "    print('number',num, 'is not divisible by 2 and 3 ')\n",
    "    \n"
   ]
  },
  {
   "cell_type": "code",
   "execution_count": 14,
   "id": "3a8ac6aa",
   "metadata": {},
   "outputs": [
    {
     "name": "stdout",
     "output_type": "stream",
     "text": [
      "Enter your 12th percentage :56\n",
      "Second Divison\n"
     ]
    }
   ],
   "source": [
    "per = int(input(\"Enter your 12th percentage :\"))\n",
    "if per >= 60:\n",
    "    print(\"First Division\")\n",
    "elif per >= 50:\n",
    "    print(\"Second Divison\")\n",
    "elif per >= 40:\n",
    "    print(\"Third Divison\")\n",
    "else:\n",
    "    print(\"fail\")"
   ]
  },
  {
   "cell_type": "code",
   "execution_count": 15,
   "id": "ec2cf496",
   "metadata": {},
   "outputs": [
    {
     "name": "stdout",
     "output_type": "stream",
     "text": [
      "X is ZERO\n"
     ]
    }
   ],
   "source": [
    "x = 0\n",
    "if (x > 0):\n",
    "    print(\"X is Positive\")\n",
    "elif (x<0):\n",
    "    print(\"X is Negative\")\n",
    "else:\n",
    "    print(\"X is ZERO\")"
   ]
  },
  {
   "cell_type": "code",
   "execution_count": 16,
   "id": "7dfb6ec6",
   "metadata": {},
   "outputs": [
    {
     "name": "stdout",
     "output_type": "stream",
     "text": [
      "Enter your weight : 70\n",
      "Normal weight\n"
     ]
    }
   ],
   "source": [
    "weight = int(input(\"Enter your weight : \"))\n",
    "\n",
    "if weight < 50:\n",
    "    print(\"Underweight\")\n",
    "elif weight <= 70:\n",
    "    print(\"Normal weight\")\n",
    "else:\n",
    "    print(\"Overweight\")\n"
   ]
  },
  {
   "cell_type": "code",
   "execution_count": 17,
   "id": "80eef9ff",
   "metadata": {},
   "outputs": [
    {
     "name": "stdout",
     "output_type": "stream",
     "text": [
      "Enter any number : 7\n",
      "The number is less than 10\n"
     ]
    }
   ],
   "source": [
    "number = int(input(\"Enter any number : \"))\n",
    "\n",
    "if number < 10:\n",
    "    print(\"The number is less than 10\")\n",
    "elif number == 10:\n",
    "    print(\"The number is equal to 10\")\n",
    "else:\n",
    "    print(\"The number is greater than 10\")\n"
   ]
  },
  {
   "cell_type": "code",
   "execution_count": 18,
   "id": "e47540f3",
   "metadata": {},
   "outputs": [
    {
     "name": "stdout",
     "output_type": "stream",
     "text": [
      "Enter hour between 1 to 24 :23\n",
      "Good evening\n"
     ]
    }
   ],
   "source": [
    "hour = int(input(\"Enter hour between 1 to 24 :\"))\n",
    "\n",
    "if hour < 12:\n",
    "    print(\"Good morning\")\n",
    "elif 12 <= hour < 18:\n",
    "    print(\"Good afternoon\")\n",
    "else:\n",
    "    print(\"Good evening\")\n"
   ]
  },
  {
   "cell_type": "markdown",
   "id": "10f6cf87",
   "metadata": {},
   "source": [
    "# For Loop"
   ]
  },
  {
   "cell_type": "code",
   "execution_count": 19,
   "id": "3eee1685",
   "metadata": {},
   "outputs": [
    {
     "name": "stdout",
     "output_type": "stream",
     "text": [
      "21 23 25 27 29 31 33 35 37 39 41 43 45 47 49 51 53 55 57 59 61 63 65 67 69 71 73 75 77 79 "
     ]
    }
   ],
   "source": [
    "#1.Print odd value betwween 20 and 80 without using if.Using for loop only\n",
    "for i in range(21,81,2):\n",
    "    print(i,end=' ')"
   ]
  },
  {
   "cell_type": "code",
   "execution_count": 20,
   "id": "30b50fd1",
   "metadata": {},
   "outputs": [
    {
     "name": "stdout",
     "output_type": "stream",
     "text": [
      "1 2 3 4 5 6 7 8 9 10 11 12 13 14 15 16 17 18 19 20 "
     ]
    }
   ],
   "source": [
    "#2.Create list of 1 to 20 number using for loop [1,2,3....20]\n",
    "\n",
    "for i in range(1,21):\n",
    "    print(i,end=' ')"
   ]
  },
  {
   "cell_type": "code",
   "execution_count": 21,
   "id": "5a8e4ee8",
   "metadata": {},
   "outputs": [
    {
     "name": "stdout",
     "output_type": "stream",
     "text": [
      "20 19 18 17 16 15 14 13 12 11 10 9 8 7 6 5 4 3 2 1 "
     ]
    }
   ],
   "source": [
    "#3.Create a list of 20 to 1 value using for loop don't use Reverse\n",
    "\n",
    "for i in range(20,0,-1):\n",
    "    print(i,end=' ')"
   ]
  },
  {
   "cell_type": "code",
   "execution_count": 22,
   "id": "ca2361a7",
   "metadata": {},
   "outputs": [
    {
     "name": "stdout",
     "output_type": "stream",
     "text": [
      "9261 12167 15625 19683 24389 29791 35937 42875 50653 59319 "
     ]
    }
   ],
   "source": [
    "#4.Take cube of odd values between 20 to 40\n",
    "\n",
    "for i in range(21,41,2):\n",
    "    print(i*i*i,end=' ')"
   ]
  },
  {
   "cell_type": "code",
   "execution_count": 23,
   "id": "c99f4c7f",
   "metadata": {},
   "outputs": [
    {
     "name": "stdout",
     "output_type": "stream",
     "text": [
      "My name is Ram My age is 22\n",
      "My name is Sham My age is 23\n",
      "My name is Jay My age is 24\n",
      "My name is Shubham My age is 20\n",
      "My name is Pravin My age is 19\n",
      "My name is Saurabh My age is 18\n"
     ]
    }
   ],
   "source": [
    "#5.Take 5 friend name in list name =[a,b,c,d,e] take corresponding ages in secod list\n",
    "#age=[20,21,22,23,24] expected ans : my name is a and my age is 20\n",
    "\n",
    "    \n",
    "name = [\"Ram\", \"Sham\", \"Jay\", \"Shubham\", \"Pravin\", \"Saurabh\"]\n",
    "age = [22, 23, 24, 20, 19, 18]\n",
    "for i in range(len(name)):\n",
    "    print('My name is', name[i],'My age is', age[i])\n",
    "    \n",
    "\n",
    "    "
   ]
  },
  {
   "cell_type": "markdown",
   "id": "ab237997",
   "metadata": {},
   "source": [
    "# Solve Using if and for loop  and data types methods ; \n"
   ]
  },
  {
   "cell_type": "code",
   "execution_count": 24,
   "id": "3f8a3c6d",
   "metadata": {},
   "outputs": [
    {
     "name": "stdout",
     "output_type": "stream",
     "text": [
      "[9, 6, 7, 8, 5]\n"
     ]
    }
   ],
   "source": [
    "#Given a list, write a Python code  to swap first and last element of the list.\n",
    "\n",
    "l = [5,6,7,8,9]\n",
    "\n",
    "for i in range(len(l)):\n",
    "    if i == 0:\n",
    "        first = l[i]\n",
    "    elif i == len(l)-1:\n",
    "        last = l[i]\n",
    "        \n",
    "l[0] = last\n",
    "l[len(l)-1] = first\n",
    "        \n",
    "print(l)"
   ]
  },
  {
   "cell_type": "code",
   "execution_count": 62,
   "id": "cc57c805",
   "metadata": {},
   "outputs": [
    {
     "name": "stdout",
     "output_type": "stream",
     "text": [
      "Length of the string :  11\n"
     ]
    }
   ],
   "source": [
    "#write code count lenght of string\n",
    "string = \"will Power!\"\n",
    "\n",
    "count = 0\n",
    "\n",
    "for i in string:\n",
    "    count += 1\n",
    "print(\"Length of the string : \", count)\n"
   ]
  },
  {
   "cell_type": "code",
   "execution_count": 26,
   "id": "ffe7390a",
   "metadata": {},
   "outputs": [
    {
     "name": "stdout",
     "output_type": "stream",
     "text": [
      "[1, 4, 10]\n",
      "15\n"
     ]
    }
   ],
   "source": [
    "#Write a Python program to get the sum of a only non-negative integer. ex, [1,4,-5,-20,10] ans is 15\n",
    "\n",
    "l = [1,4,-5,-20,10]\n",
    "x = []\n",
    "for i in l:\n",
    "    if i>0:\n",
    "        x.append(i)\n",
    "print(x)\n",
    "print(sum(x))\n"
   ]
  },
  {
   "cell_type": "code",
   "execution_count": 27,
   "id": "3caa0177",
   "metadata": {},
   "outputs": [
    {
     "name": "stdout",
     "output_type": "stream",
     "text": [
      "[1, 4, 10]\n",
      "15\n"
     ]
    }
   ],
   "source": [
    "l = [1,4,-5,-20,10]\n",
    "x = []\n",
    "for i in l:\n",
    "    x.append(i) if i>0 else None\n",
    "print(x)\n",
    "print(sum(x))"
   ]
  },
  {
   "cell_type": "code",
   "execution_count": 63,
   "id": "6d6aef5c",
   "metadata": {},
   "outputs": [
    {
     "name": "stdout",
     "output_type": "stream",
     "text": [
      "Enter any Integer :5\n",
      "factorial value is 120\n"
     ]
    }
   ],
   "source": [
    "#write code of factorial , ex.ans 6 (3*2*1)\n",
    "num=int(input(\"Enter any Integer :\"))\n",
    "fact = 1\n",
    "for i in range(1,num+1):\n",
    "    fact=fact*i\n",
    "print(\"factorial value is\", fact)"
   ]
  },
  {
   "cell_type": "markdown",
   "id": "08b25136",
   "metadata": {},
   "source": [
    "# While Loop"
   ]
  },
  {
   "cell_type": "code",
   "execution_count": 28,
   "id": "12a66d90",
   "metadata": {},
   "outputs": [
    {
     "name": "stdout",
     "output_type": "stream",
     "text": [
      "1\n",
      "2\n",
      "3\n",
      "4\n",
      "5\n"
     ]
    }
   ],
   "source": [
    "i = 1\n",
    "while i < 6:\n",
    "    print(i)\n",
    "    i += 1"
   ]
  },
  {
   "cell_type": "code",
   "execution_count": 29,
   "id": "d32e4ca4",
   "metadata": {},
   "outputs": [
    {
     "name": "stdout",
     "output_type": "stream",
     "text": [
      "1\n",
      "2\n",
      "3\n"
     ]
    }
   ],
   "source": [
    "#break Statement\n",
    "i = 1\n",
    "while i < 6:\n",
    "    print(i)\n",
    "    if i == 3:\n",
    "        break\n",
    "    i += 1"
   ]
  },
  {
   "cell_type": "code",
   "execution_count": 30,
   "id": "54e039b3",
   "metadata": {},
   "outputs": [
    {
     "name": "stdout",
     "output_type": "stream",
     "text": [
      "1\n",
      "2\n",
      "4\n",
      "5\n",
      "6\n"
     ]
    }
   ],
   "source": [
    "#Continue\n",
    "i = 0\n",
    "while i < 6:\n",
    "    i += 1\n",
    "    if i == 3:\n",
    "        continue\n",
    "    print(i)"
   ]
  },
  {
   "cell_type": "code",
   "execution_count": 31,
   "id": "154d9c7c",
   "metadata": {},
   "outputs": [
    {
     "name": "stdout",
     "output_type": "stream",
     "text": [
      "1\n",
      "2\n",
      "3\n",
      "4\n",
      "5\n",
      "i is no longer less than 6\n"
     ]
    }
   ],
   "source": [
    "i = 1\n",
    "while i < 6:\n",
    "    print(i)\n",
    "    i += 1\n",
    "else:\n",
    "        print(\"i is no longer less than 6\")"
   ]
  },
  {
   "cell_type": "code",
   "execution_count": 32,
   "id": "e6f1dc15",
   "metadata": {},
   "outputs": [
    {
     "name": "stdout",
     "output_type": "stream",
     "text": [
      "1 number is odd\n",
      "2 number is even\n",
      "3 number is odd\n",
      "4 number is even\n",
      "5 number is odd\n",
      "6 number is even\n",
      "7 number is odd\n",
      "8 number is even\n",
      "9 number is odd\n",
      "10 number is even\n",
      "11 number is odd\n",
      "12 number is even\n",
      "13 number is odd\n",
      "14 number is even\n",
      "15 number is odd\n",
      "16 number is even\n",
      "17 number is odd\n",
      "18 number is even\n",
      "19 number is odd\n",
      "20 number is even\n"
     ]
    }
   ],
   "source": [
    "#1)odd-even using while loop \n",
    "i = 0\n",
    "while i < 20:\n",
    "    i=i+1\n",
    "    if i % 2 ==0:\n",
    "        print(i, 'number is even')\n",
    "    else:\n",
    "        print(i, 'number is odd')"
   ]
  },
  {
   "cell_type": "code",
   "execution_count": 33,
   "id": "76da8a40",
   "metadata": {},
   "outputs": [
    {
     "name": "stdout",
     "output_type": "stream",
     "text": [
      "*\n",
      "**\n",
      "***\n",
      "****\n",
      "*****\n"
     ]
    }
   ],
   "source": [
    "#2.\n",
    "i = 1\n",
    "while i <= 5:\n",
    "    print('*'*i)\n",
    "    i=i+1"
   ]
  },
  {
   "cell_type": "code",
   "execution_count": 34,
   "id": "c42731ce",
   "metadata": {},
   "outputs": [
    {
     "name": "stdout",
     "output_type": "stream",
     "text": [
      "1 2 3 4 5 6 7 8 9 10 11 12 13 14 15 16 17 18 19 20 "
     ]
    }
   ],
   "source": [
    "#3) creat list 1-20 numbers list using while loop=> [1,2,3... 20]\n",
    "\n",
    "i=0\n",
    "while i <= 19:\n",
    "    i=i+1\n",
    "    print(i, end=' ')"
   ]
  },
  {
   "cell_type": "code",
   "execution_count": 35,
   "id": "eaeeaf1b",
   "metadata": {},
   "outputs": [
    {
     "name": "stdout",
     "output_type": "stream",
     "text": [
      "20 19 18 17 16 15 14 13 12 11 10 9 8 7 6 5 4 3 2 1 "
     ]
    }
   ],
   "source": [
    "#4)  creat list 20-1 (revers order) using while loop=> [20,19...1]\n",
    "\n",
    "i = 20\n",
    "while i >= 1:\n",
    "    print(i, end=\" \")\n",
    "    i=i-1"
   ]
  },
  {
   "cell_type": "code",
   "execution_count": null,
   "id": "e2303191",
   "metadata": {},
   "outputs": [],
   "source": []
  }
 ],
 "metadata": {
  "kernelspec": {
   "display_name": "Python 3 (ipykernel)",
   "language": "python",
   "name": "python3"
  },
  "language_info": {
   "codemirror_mode": {
    "name": "ipython",
    "version": 3
   },
   "file_extension": ".py",
   "mimetype": "text/x-python",
   "name": "python",
   "nbconvert_exporter": "python",
   "pygments_lexer": "ipython3",
   "version": "3.11.3"
  }
 },
 "nbformat": 4,
 "nbformat_minor": 5
}
