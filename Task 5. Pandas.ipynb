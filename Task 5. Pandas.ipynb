{
 "cells": [
  {
   "cell_type": "markdown",
   "id": "53155082",
   "metadata": {},
   "source": [
    "Pandas : \n",
    "1) provides high-performance\n",
    "2) easy-to-use data structures\n",
    "3) data analysis tools\n",
    "4) mainly used for handling and analyzing data in tabular form\n",
    "\n",
    "\n",
    "Pandas Provides two types of classes for handling data :1) Series 2)DataFrame\n",
    "\n",
    "1) Series: a one-dimensional labeled array holding data of any type such as integers, strings, Python objects etc.\n",
    "\n",
    "2) DataFrame : a two dimensional data structure that holds data like a two-dimension array or a table with rows and columns."
   ]
  },
  {
   "cell_type": "code",
   "execution_count": 3,
   "id": "81ad2dfa",
   "metadata": {},
   "outputs": [
    {
     "name": "stdout",
     "output_type": "stream",
     "text": [
      "0    1.0\n",
      "1    3.0\n",
      "2    5.0\n",
      "3    NaN\n",
      "4    6.0\n",
      "5    8.0\n",
      "dtype: float64\n"
     ]
    }
   ],
   "source": [
    "#Creating a Seres\n",
    "import pandas as pd\n",
    "import numpy as np\n",
    "s=pd.Series([1, 3, 5, np.nan, 6, 8])\n",
    "print(s)"
   ]
  },
  {
   "cell_type": "markdown",
   "id": "dfaff5e4",
   "metadata": {},
   "source": [
    "#1D labeled Array : Array"
   ]
  },
  {
   "cell_type": "code",
   "execution_count": 14,
   "id": "65465b5d",
   "metadata": {},
   "outputs": [
    {
     "data": {
      "text/plain": [
       "0    1\n",
       "1    2\n",
       "2    3\n",
       "3    4\n",
       "4    5\n",
       "dtype: int64"
      ]
     },
     "execution_count": 14,
     "metadata": {},
     "output_type": "execute_result"
    }
   ],
   "source": [
    "#1D labeled Array\n",
    "# Create a Series\n",
    "serise = pd.Series([1,2,3,4,5])\n",
    "serise"
   ]
  },
  {
   "cell_type": "code",
   "execution_count": 20,
   "id": "fb4cb3db",
   "metadata": {},
   "outputs": [
    {
     "name": "stdout",
     "output_type": "stream",
     "text": [
      "a    10\n",
      "b    20\n",
      "c    30\n",
      "d    40\n",
      "dtype: int64\n"
     ]
    }
   ],
   "source": [
    "#Using Custom Index\n",
    "\n",
    "s = pd.Series([10,20,30,40],index = ['a','b','c','d'])\n",
    "print(s)"
   ]
  },
  {
   "cell_type": "markdown",
   "id": "f2399092",
   "metadata": {},
   "source": [
    "#DataFrame : 2D Labeled Table"
   ]
  },
  {
   "cell_type": "code",
   "execution_count": 18,
   "id": "099d2bff",
   "metadata": {},
   "outputs": [
    {
     "name": "stdout",
     "output_type": "stream",
     "text": [
      "     Name  Age      City\n",
      "0  Pravin   20  Kolhapur\n",
      "1     Ram   21      Pune\n",
      "2    Sham   23    Nashik\n"
     ]
    }
   ],
   "source": [
    "#DataFrame : 2D Labeled Table\n",
    "\n",
    "\n",
    "data = {\n",
    "    'Name' : ['Pravin','Ram','Sham'],\n",
    "    'Age' : [20,21,23],\n",
    "    'City' : ['Kolhapur','Pune','Nashik']\n",
    "}\n",
    "\n",
    "df = pd.DataFrame(data)\n",
    "print(df)\n"
   ]
  },
  {
   "cell_type": "code",
   "execution_count": 19,
   "id": "19a9c099",
   "metadata": {},
   "outputs": [
    {
     "name": "stdout",
     "output_type": "stream",
     "text": [
      "      Name  Age      City\n",
      "0      Ram   21  kolhapur\n",
      "1     Sham   24      Pune\n",
      "2  Saurabh   23    Nashik\n"
     ]
    }
   ],
   "source": [
    "#Creating a DataFrame from a List of Lists\n",
    "data = [[\"Ram\", 21, \"kolhapur\"],[\"Sham\",24,\"Pune\"],[\"Saurabh\",23,\"Nashik\"]]\n",
    "df = pd.DataFrame(data,columns=[\"Name\",\"Age\",\"City\"])\n",
    "print(df)"
   ]
  },
  {
   "cell_type": "markdown",
   "id": "85d578d2",
   "metadata": {},
   "source": [
    "# 2 : Data Operations:\n",
    "#Indexing & Slicing: df['col'], df.iloc[], df.loc[]"
   ]
  },
  {
   "cell_type": "markdown",
   "id": "450d0cd3",
   "metadata": {},
   "source": [
    "#Indexing and Slicing : Accessing specific parts of a DataFrame or Series.\n",
    "\n",
    "1) df['col'] : Accessing a single column in a DataFrame.\n",
    "2) df.iloc[] : Accessing rows/columns by position (integer-based).\n",
    "3) df.loc[] : Accessing rows/columns by label (label-based).\n",
    "\n"
   ]
  },
  {
   "cell_type": "code",
   "execution_count": 22,
   "id": "ce021374",
   "metadata": {},
   "outputs": [
    {
     "name": "stdout",
     "output_type": "stream",
     "text": [
      "     Name  Age      City\n",
      "0  Pravin   20  Kolhapur\n",
      "1     Ram   21      Pune\n",
      "2    Sham   23    Nashik\n"
     ]
    }
   ],
   "source": [
    "data = {\n",
    "    'Name' : ['Pravin','Ram','Sham'],\n",
    "    'Age' : [20,21,23],\n",
    "    'City' : ['Kolhapur','Pune','Nashik']\n",
    "}\n",
    "\n",
    "df = pd.DataFrame(data)\n",
    "print(df)"
   ]
  },
  {
   "cell_type": "markdown",
   "id": "ef71f000",
   "metadata": {},
   "source": [
    "# Acccesssing a Single Column : df['col']\n",
    "\n",
    "df['col']"
   ]
  },
  {
   "cell_type": "code",
   "execution_count": 26,
   "id": "367a0bde",
   "metadata": {},
   "outputs": [
    {
     "name": "stdout",
     "output_type": "stream",
     "text": [
      "0    20\n",
      "1    21\n",
      "2    23\n",
      "Name: Age, dtype: int64\n"
     ]
    }
   ],
   "source": [
    "print(df['Age'])                                                              #Result is Series object"
   ]
  },
  {
   "cell_type": "markdown",
   "id": "09eed826",
   "metadata": {},
   "source": [
    "# Accessing Rows by Position like integer : df.iloc[]\n",
    "df.iloc[]\n",
    "\n",
    "df.iloc[row_index,column_index]\n",
    "\n",
    "iloc[] is exclusive of the end index.\n",
    "\n",
    "row_index: Integer index for rows.\n",
    "\n",
    "column_index: Integer index for columns"
   ]
  },
  {
   "cell_type": "code",
   "execution_count": 31,
   "id": "c500de4c",
   "metadata": {},
   "outputs": [
    {
     "name": "stdout",
     "output_type": "stream",
     "text": [
      "     Name  Age      City\n",
      "0  Pravin   20  Kolhapur\n",
      "1     Ram   21      Pune\n",
      "2    Sham   23    Nashik\n"
     ]
    }
   ],
   "source": [
    "data = {\n",
    "    'Name' : ['Pravin','Ram','Sham'],\n",
    "    'Age' : [20,21,23],\n",
    "    'City' : ['Kolhapur','Pune','Nashik']\n",
    "}\n",
    "\n",
    "df = pd.DataFrame(data)\n",
    "print(df)"
   ]
  },
  {
   "cell_type": "code",
   "execution_count": 33,
   "id": "67721613",
   "metadata": {},
   "outputs": [
    {
     "name": "stdout",
     "output_type": "stream",
     "text": [
      "Name      Sham\n",
      "Age         23\n",
      "City    Nashik\n",
      "Name: 2, dtype: object\n"
     ]
    }
   ],
   "source": [
    "# Accessing the single row by position\n",
    "# Accessing the first row(index 0 )\n",
    "\n",
    "firstrow = df.iloc[2]\n",
    "print(firstrow)\n"
   ]
  },
  {
   "cell_type": "code",
   "execution_count": 56,
   "id": "3a485744",
   "metadata": {},
   "outputs": [
    {
     "data": {
      "text/html": [
       "<div>\n",
       "<style scoped>\n",
       "    .dataframe tbody tr th:only-of-type {\n",
       "        vertical-align: middle;\n",
       "    }\n",
       "\n",
       "    .dataframe tbody tr th {\n",
       "        vertical-align: top;\n",
       "    }\n",
       "\n",
       "    .dataframe thead th {\n",
       "        text-align: right;\n",
       "    }\n",
       "</style>\n",
       "<table border=\"1\" class=\"dataframe\">\n",
       "  <thead>\n",
       "    <tr style=\"text-align: right;\">\n",
       "      <th></th>\n",
       "      <th>Age</th>\n",
       "    </tr>\n",
       "  </thead>\n",
       "  <tbody>\n",
       "    <tr>\n",
       "      <th>0</th>\n",
       "      <td>20</td>\n",
       "    </tr>\n",
       "    <tr>\n",
       "      <th>1</th>\n",
       "      <td>21</td>\n",
       "    </tr>\n",
       "    <tr>\n",
       "      <th>2</th>\n",
       "      <td>23</td>\n",
       "    </tr>\n",
       "  </tbody>\n",
       "</table>\n",
       "</div>"
      ],
      "text/plain": [
       "   Age\n",
       "0   20\n",
       "1   21\n",
       "2   23"
      ]
     },
     "execution_count": 56,
     "metadata": {},
     "output_type": "execute_result"
    }
   ],
   "source": [
    "# Fetch only age clm\n",
    "onlyclm = df.iloc[:,1:2]\n",
    "onlyclm"
   ]
  },
  {
   "cell_type": "code",
   "execution_count": 36,
   "id": "6e710384",
   "metadata": {},
   "outputs": [
    {
     "name": "stdout",
     "output_type": "stream",
     "text": [
      "20\n"
     ]
    }
   ],
   "source": [
    "# Accessing the specific element \n",
    "\n",
    "element = df.iloc[0,1]\n",
    "print(element)"
   ]
  },
  {
   "cell_type": "code",
   "execution_count": 57,
   "id": "ea9b918b",
   "metadata": {},
   "outputs": [
    {
     "name": "stdout",
     "output_type": "stream",
     "text": [
      "     Name  Age\n",
      "0  Pravin   20\n",
      "1     Ram   21\n"
     ]
    }
   ],
   "source": [
    "#  Slicing multiple rows and columns\n",
    "\n",
    "slidf = df.iloc[0:2, 0:2]\n",
    "print(slidf)"
   ]
  },
  {
   "cell_type": "markdown",
   "id": "834e8ea7",
   "metadata": {},
   "source": [
    "# Accessing Rows and columns by Label : df.loc[]\n",
    "\n",
    "df.loc[]\n",
    "\n",
    "df.loc[row_label, column_lable]         \n",
    "\n",
    "loc[] slicing is inclusive of both the start ad end labels\n",
    "\n",
    "row_label : index label for row\n",
    "    \n",
    "column_lable : Label for columns"
   ]
  },
  {
   "cell_type": "code",
   "execution_count": 50,
   "id": "e064321b",
   "metadata": {},
   "outputs": [
    {
     "name": "stdout",
     "output_type": "stream",
     "text": [
      "     Name  Age      City\n",
      "0  Pravin   20  Kolhapur\n",
      "1     Ram   21      Pune\n",
      "2    Sham   23    Nashik\n"
     ]
    }
   ],
   "source": [
    "df = {\n",
    "    'Name' : ['Pravin','Ram','Sham'],\n",
    "    'Age' : [20,21,23],\n",
    "    'City' : ['Kolhapur','Pune','Nashik']\n",
    "}\n",
    "\n",
    "df = pd.DataFrame(data)\n",
    "print(df)"
   ]
  },
  {
   "cell_type": "code",
   "execution_count": 48,
   "id": "f9ae4e66",
   "metadata": {},
   "outputs": [
    {
     "name": "stdout",
     "output_type": "stream",
     "text": [
      "Name      Sham\n",
      "Age         23\n",
      "City    Nashik\n",
      "Name: 2, dtype: object\n"
     ]
    }
   ],
   "source": [
    "# Accessing a row by label\n",
    "\n",
    "secondrow = df.loc[2]\n",
    "print(secondrow)"
   ]
  },
  {
   "cell_type": "code",
   "execution_count": 39,
   "id": "1ef3cab5",
   "metadata": {},
   "outputs": [
    {
     "name": "stdout",
     "output_type": "stream",
     "text": [
      "21\n"
     ]
    }
   ],
   "source": [
    "#Accessing a specific element\n",
    "\n",
    "element = df.loc[1,\"Age\"]\n",
    "print(element)"
   ]
  },
  {
   "cell_type": "code",
   "execution_count": 53,
   "id": "a8f8fe04",
   "metadata": {},
   "outputs": [
    {
     "data": {
      "text/plain": [
       "0    Kolhapur\n",
       "1        Pune\n",
       "2      Nashik\n",
       "Name: City, dtype: object"
      ]
     },
     "execution_count": 53,
     "metadata": {},
     "output_type": "execute_result"
    }
   ],
   "source": [
    "#Acessing City column\n",
    "df.loc[:,\"City\"]"
   ]
  },
  {
   "cell_type": "code",
   "execution_count": 58,
   "id": "638acc9b",
   "metadata": {},
   "outputs": [
    {
     "name": "stdout",
     "output_type": "stream",
     "text": [
      "     Name  Age\n",
      "0  Pravin   20\n",
      "1     Ram   21\n"
     ]
    }
   ],
   "source": [
    "sliced_df = df.loc[0:1, ['Name', 'Age']]\n",
    "print(sliced_df)"
   ]
  },
  {
   "cell_type": "markdown",
   "id": "4b9ede87",
   "metadata": {},
   "source": [
    " Feltering rows based on condition :\n"
   ]
  },
  {
   "cell_type": "code",
   "execution_count": 60,
   "id": "ece1eac5",
   "metadata": {},
   "outputs": [
    {
     "name": "stdout",
     "output_type": "stream",
     "text": [
      "   Name  Age    City\n",
      "1   Ram   21    Pune\n",
      "2  Sham   23  Nashik\n"
     ]
    }
   ],
   "source": [
    "#Feltering rows based on condition :\n",
    "feltdf=df[df['Age']>=21]\n",
    "print(feltdf)"
   ]
  },
  {
   "cell_type": "code",
   "execution_count": 66,
   "id": "4860d119",
   "metadata": {},
   "outputs": [
    {
     "name": "stdout",
     "output_type": "stream",
     "text": [
      "   Name  Age    City\n",
      "2  Sham   23  Nashik\n"
     ]
    }
   ],
   "source": [
    "# Filtering with multiple conditions\n",
    "\n",
    "feldf = df[(df['Age']>21) & (df['City']=='Nashik')]\n",
    "print(feldf)"
   ]
  },
  {
   "cell_type": "markdown",
   "id": "3cce6463",
   "metadata": {},
   "source": [
    "# Accessing Rows Using .at[] and .iat[]\n",
    "\n",
    ".at[] is used for label-based access (single element).\n",
    "\n",
    ".iat[] is used for position-based access (single element)."
   ]
  },
  {
   "cell_type": "code",
   "execution_count": 68,
   "id": "5b448514",
   "metadata": {},
   "outputs": [
    {
     "name": "stdout",
     "output_type": "stream",
     "text": [
      "     Name  Age      City\n",
      "0  Pravin   20  Kolhapur\n",
      "1     Ram   21      Pune\n",
      "2    Sham   23    Nashik\n"
     ]
    }
   ],
   "source": [
    "df = {\n",
    "    'Name' : ['Pravin','Ram','Sham'],\n",
    "    'Age' : [20,21,23],\n",
    "    'City' : ['Kolhapur','Pune','Nashik']\n",
    "}\n",
    "\n",
    "df = pd.DataFrame(data)\n",
    "print(df)"
   ]
  },
  {
   "cell_type": "code",
   "execution_count": 67,
   "id": "962cb57f",
   "metadata": {},
   "outputs": [
    {
     "name": "stdout",
     "output_type": "stream",
     "text": [
      "21\n"
     ]
    }
   ],
   "source": [
    "eleat = df.at[1, 'Age']\n",
    "print(eleat)"
   ]
  },
  {
   "cell_type": "code",
   "execution_count": 69,
   "id": "df83b577",
   "metadata": {},
   "outputs": [
    {
     "name": "stdout",
     "output_type": "stream",
     "text": [
      "21\n"
     ]
    }
   ],
   "source": [
    "eleiat = df.iat[1, 1]\n",
    "print(eleiat)"
   ]
  },
  {
   "cell_type": "markdown",
   "id": "31f3d8f6",
   "metadata": {},
   "source": [
    "difference between loc[] and iloc[] in Pandas\n",
    "1. loc[] is label based indexing while iloc[] is integer location based indexing.\n",
    "2. loc[] includes both the start and end labels in slice wheres iloc[] excludes the end index."
   ]
  },
  {
   "cell_type": "markdown",
   "id": "880b21d5",
   "metadata": {},
   "source": [
    "difference between .at[] and .iat[]\n",
    "1. .at[] is used for accessing a single element using labels\n",
    "2. .iat[] is used for accessing a single element using integer position"
   ]
  },
  {
   "cell_type": "markdown",
   "id": "583e9216",
   "metadata": {},
   "source": [
    "# Data Cleaning in Pandas :"
   ]
  },
  {
   "cell_type": "markdown",
   "id": "5d6b7037",
   "metadata": {},
   "source": [
    "1. Data cleaning is one of the most importnant steps in data preprocessing .\n",
    "\n",
    "2. .isnull() : Identifies missing or NaN values in a DataFrame or Series\n",
    "3. .dropna() : Drops rows or columns containing NaN values.\n",
    "4. .fillna() : Fills missing values with a specified value or method."
   ]
  },
  {
   "cell_type": "markdown",
   "id": "13645ad3",
   "metadata": {},
   "source": [
    "# .isnull() : Identify Missing Data"
   ]
  },
  {
   "cell_type": "code",
   "execution_count": 242,
   "id": "c5c3e567",
   "metadata": {},
   "outputs": [],
   "source": [
    "#1. .isnull() : Identify Missing Data\n",
    "# .isnull() : method returns a dataframe of the same shape, with TRue for missing values and false otherwise.\n",
    "\n",
    "#   df.isnull()"
   ]
  },
  {
   "cell_type": "code",
   "execution_count": 247,
   "id": "d5a5a6a3",
   "metadata": {},
   "outputs": [
    {
     "name": "stdout",
     "output_type": "stream",
     "text": [
      "   Name   Age   Salary\n",
      "0   Ram  25.0   5000.0\n",
      "1  Sham   NaN  60000.0\n",
      "2   Sam  21.0      NaN\n",
      "3  Pari  19.0   8000.0\n",
      "4  None  22.0   9000.0\n",
      "5  Hari  24.0   7000.0\n",
      "    Name    Age  Salary\n",
      "0  False  False   False\n",
      "1  False   True   False\n",
      "2  False  False    True\n",
      "3  False  False   False\n",
      "4   True  False   False\n",
      "5  False  False   False\n"
     ]
    }
   ],
   "source": [
    "data = {\n",
    "    'Name' : ['Ram','Sham','Sam','Pari',None,'Hari'],\n",
    "    'Age' : [25,None,21,19,22,24],\n",
    "    'Salary' : [5000,60000,None,8000,9000,7000]\n",
    "}\n",
    "df=pd.DataFrame(data)\n",
    "print(df)\n",
    "\n",
    "#Check for missing values\n",
    "\n",
    "print(df.isnull())        # if Nan present the appear True otherwise False"
   ]
  },
  {
   "cell_type": "markdown",
   "id": "c8a51f79",
   "metadata": {},
   "source": [
    "# .dropna() : Drop Missing Data"
   ]
  },
  {
   "cell_type": "code",
   "execution_count": null,
   "id": "6168e385",
   "metadata": {},
   "outputs": [],
   "source": [
    "# .dropna() : used to drop rows or columns that contain missig values.\n",
    "\n",
    "# .dropna(axis=0, how='any', inplace=False)\n",
    "\n",
    "# axis=0 Drop rows\n",
    "# axis=1 Drop columns\n",
    "# how='any' : Drop rows or columns if any NaN value is present.\n",
    "# how='all' : Drop rows or columns only if all values are NaN.\n",
    "# inplace=True : Modify the original DataFrame. If False, return a new DataFrame."
   ]
  },
  {
   "cell_type": "code",
   "execution_count": 250,
   "id": "bf6a7952",
   "metadata": {},
   "outputs": [
    {
     "name": "stdout",
     "output_type": "stream",
     "text": [
      "   Name   Age  Salary\n",
      "0   Ram  25.0  5000.0\n",
      "3  Pari  19.0  8000.0\n",
      "5  Hari  24.0  7000.0\n"
     ]
    }
   ],
   "source": [
    "#Dropping rows with any NaN value\n",
    "\n",
    "dfclean = df.dropna()\n",
    "print(dfclean)"
   ]
  },
  {
   "cell_type": "code",
   "execution_count": 253,
   "id": "964fd970",
   "metadata": {},
   "outputs": [
    {
     "name": "stdout",
     "output_type": "stream",
     "text": [
      "   Name   Age   Salary\n",
      "0   Ram  25.0   5000.0\n",
      "1  Sham   NaN  60000.0\n",
      "2   Sam  21.0      NaN\n",
      "3  Pari  19.0   8000.0\n",
      "4  None  22.0   9000.0\n",
      "5  Hari  24.0   7000.0\n",
      "   Name   Age  Salary\n",
      "0   Ram  25.0  5000.0\n",
      "3  Pari  19.0  8000.0\n",
      "5  Hari  24.0  7000.0\n"
     ]
    }
   ],
   "source": [
    "# Drop Columns with any Missing Values :\n",
    "print(df)\n",
    "dfclean = df.dropna(axis=0)\n",
    "print(dfclean)"
   ]
  },
  {
   "cell_type": "code",
   "execution_count": 254,
   "id": "98e99829",
   "metadata": {},
   "outputs": [
    {
     "name": "stdout",
     "output_type": "stream",
     "text": [
      "   Name   Age   Salary\n",
      "0   Ram  25.0   5000.0\n",
      "1  Sham   NaN  60000.0\n",
      "2   Sam  21.0      NaN\n",
      "3  Pari  19.0   8000.0\n",
      "4  None  22.0   9000.0\n",
      "5  Hari  24.0   7000.0\n",
      "Empty DataFrame\n",
      "Columns: []\n",
      "Index: [0, 1, 2, 3, 4, 5]\n"
     ]
    }
   ],
   "source": [
    "# Drop Columns with any Missing Values :\n",
    "print(df)\n",
    "dfclean = df.dropna(axis=1)\n",
    "print(dfclean)"
   ]
  },
  {
   "cell_type": "markdown",
   "id": "44d337bc",
   "metadata": {},
   "source": [
    "# .fillna() : fill Missing Data"
   ]
  },
  {
   "cell_type": "code",
   "execution_count": null,
   "id": "0c5fa572",
   "metadata": {},
   "outputs": [],
   "source": [
    "# .fillna() fill missing values with a specified value, method, or a dictionary of values.\n",
    "\n",
    "# df.fillna(value=None, mthod=None, axis=None, inplace=false)\n",
    "\n",
    "value : Scalar, dictionary, Series to replace NaN values.\n",
    "mthod : can 'ffill'(forward fill), or 'bfill'(backward fill)\n",
    "axis : determines whether to applay along rows(axis=0) or columns(axis=1)\n",
    "inpalce=True Modify the original DataFrame.\n"
   ]
  },
  {
   "cell_type": "code",
   "execution_count": 255,
   "id": "3dc99817",
   "metadata": {},
   "outputs": [
    {
     "name": "stdout",
     "output_type": "stream",
     "text": [
      "   Name   Age   Salary\n",
      "0   Ram  25.0   5000.0\n",
      "1  Sham   0.0  60000.0\n",
      "2   Sam  21.0      0.0\n",
      "3  Pari  19.0   8000.0\n",
      "4     0  22.0   9000.0\n",
      "5  Hari  24.0   7000.0\n"
     ]
    }
   ],
   "source": [
    "# Filling missing values wit a constant\n",
    "\n",
    "dffilled = df.fillna(value=0)\n",
    "print(dffilled)"
   ]
  },
  {
   "cell_type": "code",
   "execution_count": 256,
   "id": "0022324d",
   "metadata": {},
   "outputs": [
    {
     "name": "stdout",
     "output_type": "stream",
     "text": [
      "   Name   Age   Salary\n",
      "0   Ram  25.0   5000.0\n",
      "1  Sham  25.0  60000.0\n",
      "2   Sam  21.0  60000.0\n",
      "3  Pari  19.0   8000.0\n",
      "4  Pari  22.0   9000.0\n",
      "5  Hari  24.0   7000.0\n"
     ]
    },
    {
     "name": "stderr",
     "output_type": "stream",
     "text": [
      "C:\\Users\\Shree\\AppData\\Local\\Temp\\ipykernel_16640\\2568819730.py:3: FutureWarning: DataFrame.fillna with 'method' is deprecated and will raise in a future version. Use obj.ffill() or obj.bfill() instead.\n",
      "  dffill = df.fillna(method='ffill')\n"
     ]
    }
   ],
   "source": [
    "# forward fill to propagate the last valid value\n",
    "\n",
    "dffill = df.fillna(method='ffill')\n",
    "print(dffill)"
   ]
  },
  {
   "cell_type": "code",
   "execution_count": 257,
   "id": "b6847bda",
   "metadata": {},
   "outputs": [
    {
     "name": "stdout",
     "output_type": "stream",
     "text": [
      "   Name   Age   Salary\n",
      "0   Ram  25.0   5000.0\n",
      "1  Sham  21.0  60000.0\n",
      "2   Sam  21.0   8000.0\n",
      "3  Pari  19.0   8000.0\n",
      "4  Hari  22.0   9000.0\n",
      "5  Hari  24.0   7000.0\n"
     ]
    },
    {
     "name": "stderr",
     "output_type": "stream",
     "text": [
      "C:\\Users\\Shree\\AppData\\Local\\Temp\\ipykernel_16640\\1351797890.py:3: FutureWarning: DataFrame.fillna with 'method' is deprecated and will raise in a future version. Use obj.ffill() or obj.bfill() instead.\n",
      "  dffill = df.fillna(method='bfill')\n"
     ]
    }
   ],
   "source": [
    "# backward fill to propagate the last valid value\n",
    "\n",
    "dffill = df.fillna(method='bfill')\n",
    "print(dffill)"
   ]
  },
  {
   "cell_type": "code",
   "execution_count": 258,
   "id": "1d85c982",
   "metadata": {},
   "outputs": [
    {
     "name": "stdout",
     "output_type": "stream",
     "text": [
      "   Name   Age   Salary\n",
      "0   Ram  25.0   5000.0\n",
      "1  Sham  88.0  60000.0\n",
      "2   Sam  21.0  88888.0\n",
      "3  Pari  19.0   8000.0\n",
      "4  None  22.0   9000.0\n",
      "5  Hari  24.0   7000.0\n"
     ]
    }
   ],
   "source": [
    "# fill with different Values for Each Column\n",
    "\n",
    "dffill=df.fillna({'Age':88,'Salary':88888})\n",
    "print(dffill)"
   ]
  },
  {
   "cell_type": "code",
   "execution_count": 248,
   "id": "92e354a5",
   "metadata": {},
   "outputs": [],
   "source": [
    "# df.rename(columns={'old_name': 'new_name'}, inplace=False)\n",
    "\n",
    "#inplace : If set to True, the changes are made to the original DataFrame.If False, a new DataFrame is returned with the changes.\n"
   ]
  },
  {
   "cell_type": "code",
   "execution_count": 71,
   "id": "89f40bb3",
   "metadata": {},
   "outputs": [
    {
     "name": "stdout",
     "output_type": "stream",
     "text": [
      "     Name  Age      City\n",
      "0  Pravin   20  Kolhapur\n",
      "1     Ram   21      Pune\n",
      "2    Sham   23    Nashik\n",
      "     Name  Years      City\n",
      "0  Pravin     20  Kolhapur\n",
      "1     Ram     21      Pune\n",
      "2    Sham     23    Nashik\n"
     ]
    }
   ],
   "source": [
    "df = {\n",
    "    'Name' : ['Pravin','Ram','Sham'],\n",
    "    'Age' : [20,21,23],\n",
    "    'City' : ['Kolhapur','Pune','Nashik']\n",
    "}\n",
    "\n",
    "df = pd.DataFrame(data)\n",
    "print(df)\n",
    "\n",
    "df.rename(columns={'Age' : 'Years'}, inplace=True)\n",
    "print(df)"
   ]
  },
  {
   "cell_type": "code",
   "execution_count": 75,
   "id": "07047c4f",
   "metadata": {},
   "outputs": [
    {
     "name": "stdout",
     "output_type": "stream",
     "text": [
      "  Full Name  Years  Location\n",
      "0    Pravin     20  Kolhapur\n",
      "1       Ram     21      Pune\n",
      "2      Sham     23    Nashik\n"
     ]
    }
   ],
   "source": [
    "#Renaming Multiple Columns\n",
    "df.rename(columns={'Name':'Full Name','City':'Location'},inplace=True)\n",
    "print(df)"
   ]
  },
  {
   "cell_type": "code",
   "execution_count": 80,
   "id": "f375a066",
   "metadata": {},
   "outputs": [
    {
     "name": "stdout",
     "output_type": "stream",
     "text": [
      "  full name  years  location\n",
      "0    Pravin     20  Kolhapur\n",
      "1       Ram     21      Pune\n",
      "2      Sham     23    Nashik\n"
     ]
    }
   ],
   "source": [
    "#Renaming Columns Using a Function\n",
    "\n",
    "df.rename(columns=str.lower,inplace=True)\n",
    "print(df)"
   ]
  },
  {
   "cell_type": "markdown",
   "id": "4f301d6d",
   "metadata": {},
   "source": [
    "# Filtering Data in Pandas: df[df['col'] > value]"
   ]
  },
  {
   "cell_type": "code",
   "execution_count": null,
   "id": "4dae957a",
   "metadata": {},
   "outputs": [],
   "source": [
    "# df[df['col'] > value]\n"
   ]
  },
  {
   "cell_type": "code",
   "execution_count": 82,
   "id": "ce49ff3a",
   "metadata": {},
   "outputs": [
    {
     "name": "stdout",
     "output_type": "stream",
     "text": [
      "  full name  years location\n",
      "2      Sham     23   Nashik\n"
     ]
    }
   ],
   "source": [
    "filtdf = df[df['years']>21]\n",
    "print(filtdf)"
   ]
  },
  {
   "cell_type": "code",
   "execution_count": 86,
   "id": "c47ec54d",
   "metadata": {},
   "outputs": [
    {
     "name": "stdout",
     "output_type": "stream",
     "text": [
      "  full name  years location\n",
      "1       Ram     21     Pune\n"
     ]
    }
   ],
   "source": [
    "felddf = df[(df['years']>=21) & (df['location']=='Pune')]\n",
    "print(felddf)"
   ]
  },
  {
   "cell_type": "markdown",
   "id": "3410c206",
   "metadata": {},
   "source": [
    "# Aggregation and Grouping:\n",
    "\n",
    "GroupBy: df.groupby('col')\n",
    "\n",
    "Aggregation: .sum(), .mean(), .count()\n",
    "\n",
    "1. Aggregation and grouping are commonly used techniques for \"summarizing data by categories\".\n",
    "2. THis is particularly  helpful when you are working with large datasets and want to \"anlyze trendss  or statistics across different groups.\"\n"
   ]
  },
  {
   "cell_type": "code",
   "execution_count": 117,
   "id": "0ce876a1",
   "metadata": {},
   "outputs": [
    {
     "name": "stdout",
     "output_type": "stream",
     "text": [
      "<pandas.core.groupby.generic.DataFrameGroupBy object at 0x000001D7BA3FFD50>\n"
     ]
    }
   ],
   "source": [
    "# GroupBy in Pandas : split the data into separate groups based on the values in one or more columns then\n",
    "# applay a function to those groups independently.\n",
    "\n",
    "#df.groupby('column_name')\n",
    "\n",
    "data = {\n",
    "    'Category' : ['A','B','A','B','A','B'],\n",
    "    'Vallue' : [10,20,30,40,50,60],\n",
    "    'occre' : [1,2,1,2,1,2]\n",
    "}\n",
    "\n",
    "df=pd.DataFrame(data)\n",
    "#print(df)\n",
    "\n",
    "groupby=df.groupby('Category')\n",
    "print(groupby)\n",
    "\n",
    "#group=df.groupby('Vallue')\n",
    "#print(group)\n",
    "\n"
   ]
  },
  {
   "cell_type": "code",
   "execution_count": 125,
   "id": "f560043f",
   "metadata": {},
   "outputs": [
    {
     "name": "stdout",
     "output_type": "stream",
     "text": [
      "          sum  mean  count\n",
      "Category                  \n",
      "A          90  30.0      3\n",
      "B         120  40.0      3\n"
     ]
    }
   ],
   "source": [
    "# Applying multiple aggregation functions, using agg()  and group by multiple columns.\n",
    "\n",
    "aggrimulti = df.groupby('Category')['Vallue'].agg(['sum','mean','count'])\n",
    "print(aggrimulti)"
   ]
  },
  {
   "cell_type": "code",
   "execution_count": 130,
   "id": "0efccb96",
   "metadata": {},
   "outputs": [
    {
     "name": "stdout",
     "output_type": "stream",
     "text": [
      "  Category Type  Value\n",
      "0        A    X     10\n",
      "1        B    X     20\n",
      "2        A    Y     30\n",
      "3        B    Y     40\n",
      "4        A    X     50\n",
      "5        B    Y     60\n",
      "Category  Type\n",
      "A         X        60\n",
      "          Y        30\n",
      "B         X        20\n",
      "          Y       100\n",
      "Name: Value, dtype: int64\n"
     ]
    }
   ],
   "source": [
    "data={\n",
    "    'Category' : ['A','B','A','B','A','B'],\n",
    "    'Type' : ['X','X','Y','Y','X','Y'],\n",
    "    'Value' : [10,20,30,40,50,60]\n",
    "}\n",
    "\n",
    "df = pd.DataFrame(data)\n",
    "print(df)\n",
    "\n",
    "gorupmulti=df.groupby(['Category','Type'])['Value'].sum()\n",
    "print(gorupmulti)"
   ]
  },
  {
   "cell_type": "markdown",
   "id": "7c2af204",
   "metadata": {},
   "source": [
    "# Common Aggregation Function :\n",
    "\n",
    "sum(): Computes the sum of each group.\n",
    "    \n",
    "mean(): Computes the mean (average) of each group.\n",
    "\n",
    "count(): Counts the number of non-null values for each group.\n",
    "\n",
    "min(): Returns the minimum value for each group.\n",
    "\n",
    "max(): Returns the maximum value for each group."
   ]
  },
  {
   "cell_type": "code",
   "execution_count": 118,
   "id": "b3798fee",
   "metadata": {},
   "outputs": [
    {
     "name": "stdout",
     "output_type": "stream",
     "text": [
      "  Category  Vallue  occre\n",
      "0        A      10      1\n",
      "1        B      20      2\n",
      "2        A      30      1\n",
      "3        B      40      2\n",
      "4        A      50      1\n",
      "5        B      60      2\n"
     ]
    }
   ],
   "source": [
    "data = {\n",
    "    'Category' : ['A','B','A','B','A','B'],\n",
    "    'Vallue' : [10,20,30,40,50,60],\n",
    "    'occre' : [1,2,1,2,1,2]\n",
    "}\n",
    "\n",
    "df=pd.DataFrame(data)\n",
    "print(df)\n"
   ]
  },
  {
   "cell_type": "code",
   "execution_count": 114,
   "id": "b606255e",
   "metadata": {
    "scrolled": true
   },
   "outputs": [
    {
     "name": "stdout",
     "output_type": "stream",
     "text": [
      "Category\n",
      "A     90\n",
      "B    120\n",
      "Name: Vallue, dtype: int64\n"
     ]
    }
   ],
   "source": [
    "aggre = df.groupby('Category')['Vallue'].sum()  #.groupby('Category') we make group by category variabel \n",
    "# we have to perform the operation on 'value' column so we access the column after the groupby operation using square brackets.\n",
    "print(aggre)"
   ]
  },
  {
   "cell_type": "code",
   "execution_count": 122,
   "id": "fffd6673",
   "metadata": {},
   "outputs": [
    {
     "name": "stdout",
     "output_type": "stream",
     "text": [
      "Category\n",
      "A    30.0\n",
      "B    40.0\n",
      "Name: Vallue, dtype: float64\n"
     ]
    }
   ],
   "source": [
    "meangroup=df.groupby('Category')['Vallue'].mean()\n",
    "print(meangroup)"
   ]
  },
  {
   "cell_type": "code",
   "execution_count": 124,
   "id": "eaf16f3b",
   "metadata": {},
   "outputs": [
    {
     "name": "stdout",
     "output_type": "stream",
     "text": [
      "Category\n",
      "A    3\n",
      "B    3\n",
      "Name: Vallue, dtype: int64\n"
     ]
    }
   ],
   "source": [
    "countagri = df.groupby('Category')['Vallue'].count()\n",
    "print(countagri)"
   ]
  },
  {
   "cell_type": "markdown",
   "id": "c771cc24",
   "metadata": {},
   "source": [
    "# Merging and Joining in Pandas :\n",
    "\n",
    "1.  combine datasets based on common \"keys or columns\". \n",
    "2.  functions like pd.merge() and pd.concat() to perform these operations efficiently.\n",
    "\n"
   ]
  },
  {
   "attachments": {
    "download.jpeg": {
     "image/jpeg": "[encoded data removed]"
    }
   },
   "cell_type": "markdown",
   "id": "137aa1b8",
   "metadata": {},
   "source": [
    "![download.jpeg](attachment:download.jpeg)"
   ]
  },
  {
   "attachments": {
    "download%20%281%29.png": {
     "image/png": "[encoded data removed]"
    }
   },
   "cell_type": "markdown",
   "id": "a2e4939f",
   "metadata": {},
   "source": [
    "![download%20%281%29.png](attachment:download%20%281%29.png)"
   ]
  },
  {
   "cell_type": "code",
   "execution_count": null,
   "id": "effa4880",
   "metadata": {},
   "outputs": [],
   "source": [
    "# pd.merge() : To combine two DataFrames based on common \"columns or indices\".\n",
    "\n",
    "# pd.merge(df1,df2, how='inner',on='Common_column')\n",
    "\n",
    "            # how: Specifies the type of join(inner,outer,left,right)\n",
    "            # on: The column or index on which to join.\n",
    "\n"
   ]
  },
  {
   "cell_type": "code",
   "execution_count": 136,
   "id": "d9cb0781",
   "metadata": {},
   "outputs": [
    {
     "name": "stdout",
     "output_type": "stream",
     "text": [
      "   ID  Name      City\n",
      "0   3  Hari  Kolhapur\n",
      "1   4   Sam      Pune\n"
     ]
    }
   ],
   "source": [
    "#1 Inner Join(Default join) : Inner join returns only the rows where there is a match between the two dataframes based on the key columns.\n",
    "# only the common data betwen both daraframe is returned.\n",
    "\n",
    "df1=pd.DataFrame({\n",
    "    'ID':[1,2,3,4],\n",
    "    'Name':['Ram','Sham','Hari','Sam']\n",
    "})\n",
    "\n",
    "df2 = pd.DataFrame({\n",
    "    'ID':[3,4,5,6],\n",
    "    'City' : ['Kolhapur','Pune','Nashik','Nagpur']\n",
    "})\n",
    "\n",
    "innerjoin = pd.merge(df1,df2,on='ID',how='inner')  # Only row with matching ID value in both dataframe are returned.\n",
    "print(innerjoin)\n",
    "\n",
    "\n"
   ]
  },
  {
   "cell_type": "code",
   "execution_count": 141,
   "id": "2532ce61",
   "metadata": {},
   "outputs": [
    {
     "name": "stdout",
     "output_type": "stream",
     "text": [
      "   ID  Name\n",
      "0   1   Ram\n",
      "1   2  Sham\n",
      "2   3  Hari\n",
      "3   4   Sam\n",
      "   ID      City\n",
      "0   3  Kolhapur\n",
      "1   4      Pune\n",
      "2   5    Nashik\n",
      "3   6    Nagpur\n",
      "   ID  Name      City\n",
      "0   1   Ram       NaN\n",
      "1   2  Sham       NaN\n",
      "2   3  Hari  Kolhapur\n",
      "3   4   Sam      Pune\n",
      "4   5   NaN    Nashik\n",
      "5   6   NaN    Nagpur\n"
     ]
    }
   ],
   "source": [
    "#2 Outer Join \n",
    "# Outer Join : Outer join \"return all rows\".if there is no match for a row in one DataFrame the result will have NaN for the missing values.\n",
    "# Return all data filling in with \"NaN\" where there is no match.\n",
    "\n",
    "df1=pd.DataFrame({\n",
    "    'ID':[1,2,3,4],\n",
    "    'Name':['Ram','Sham','Hari','Sam']\n",
    "})\n",
    "print(df1)\n",
    "df2 = pd.DataFrame({\n",
    "    'ID':[3,4,5,6],\n",
    "    'City' : ['Kolhapur','Pune','Nashik','Nagpur']\n",
    "})\n",
    "print(df2)\n",
    "\n",
    "outerjoin = pd.merge(df1,df2,on='ID',how='outer')\n",
    "print(outerjoin)"
   ]
  },
  {
   "cell_type": "code",
   "execution_count": 140,
   "id": "3c3bf5e6",
   "metadata": {},
   "outputs": [
    {
     "name": "stdout",
     "output_type": "stream",
     "text": [
      "   ID  Name\n",
      "0   1   Ram\n",
      "1   2  Sham\n",
      "2   3  Hari\n",
      "3   4   Sam\n",
      "   ID      City\n",
      "0   3  Kolhapur\n",
      "1   4      Pune\n",
      "2   5    Nashik\n",
      "3   6    Nagpur\n",
      "   ID  Name      City\n",
      "0   1   Ram       NaN\n",
      "1   2  Sham       NaN\n",
      "2   3  Hari  Kolhapur\n",
      "3   4   Sam      Pune\n"
     ]
    }
   ],
   "source": [
    "#3 Left Join\n",
    "# Left Join : All rows from the left dataFrame and the matching rows from the right dataframe.\n",
    "              # If there's no match NaN is inserted for the missing values in the right DataFrame.\n",
    "\n",
    "    \n",
    "df1=pd.DataFrame({\n",
    "    'ID':[1,2,3,4],\n",
    "    'Name':['Ram','Sham','Hari','Sam']\n",
    "})\n",
    "print(df1)\n",
    "df2 = pd.DataFrame({\n",
    "    'ID':[3,4,5,6],\n",
    "    'City' : ['Kolhapur','Pune','Nashik','Nagpur']\n",
    "})\n",
    "print(df2)\n",
    "\n",
    "leftjoin = pd.merge(df1,df2,on='ID',how='left')\n",
    "print(leftjoin)\n"
   ]
  },
  {
   "cell_type": "code",
   "execution_count": 144,
   "id": "8f5ab5f8",
   "metadata": {},
   "outputs": [
    {
     "name": "stdout",
     "output_type": "stream",
     "text": [
      "   ID  Name\n",
      "0   1   Ram\n",
      "1   2  Sham\n",
      "2   3  Hari\n",
      "3   4   Sam\n",
      "   ID      City\n",
      "0   3  Kolhapur\n",
      "1   4      Pune\n",
      "2   5    Nashik\n",
      "3   6    Nagpur\n",
      "   ID  Name      City\n",
      "0   3  Hari  Kolhapur\n",
      "1   4   Sam      Pune\n",
      "2   5   NaN    Nashik\n",
      "3   6   NaN    Nagpur\n"
     ]
    }
   ],
   "source": [
    "#4 Right Join\n",
    "# Right Join : All rows from the right DataFrame and the matching rows from the left Dataframe.\n",
    "\n",
    "df1=pd.DataFrame({\n",
    "    'ID':[1,2,3,4],\n",
    "    'Name':['Ram','Sham','Hari','Sam']\n",
    "})\n",
    "print(df1)\n",
    "df2 = pd.DataFrame({\n",
    "    'ID':[3,4,5,6],\n",
    "    'City' : ['Kolhapur','Pune','Nashik','Nagpur']\n",
    "})\n",
    "print(df2)\n",
    "\n",
    "rightjoin = pd.merge(df1,df2,on='ID',how='right')\n",
    "print(rightjoin)"
   ]
  },
  {
   "cell_type": "code",
   "execution_count": 165,
   "id": "356ad060",
   "metadata": {},
   "outputs": [
    {
     "name": "stdout",
     "output_type": "stream",
     "text": [
      "   ID Category  Value\n",
      "0   1        A     10\n",
      "1   2        B     20\n",
      "2   3        A     30\n",
      "   ID Category  Amount\n",
      "0   2        B     100\n",
      "1   3        A     200\n",
      "2   4        C     300\n",
      "   ID Category  Value  Amount\n",
      "0   2        B     20     100\n",
      "1   3        A     30     200\n"
     ]
    }
   ],
   "source": [
    "df1 = pd.DataFrame({\n",
    "    'ID': [1, 2, 3],\n",
    "    'Category': ['A', 'B', 'A'],\n",
    "    'Value': [10, 20, 30]\n",
    "})\n",
    "print(df1)\n",
    "df2 = pd.DataFrame({\n",
    "    'ID': [2, 3, 4],\n",
    "    'Category': ['B', 'A', 'C'],\n",
    "    'Amount': [100, 200, 300]\n",
    "})\n",
    "print(df2)\n",
    "\n",
    "mergemulti = pd.merge(df1, df2, how='inner', on=['ID', 'Category'])\n",
    "print(merged_multi)\n"
   ]
  },
  {
   "cell_type": "markdown",
   "id": "0bd32379",
   "metadata": {},
   "source": [
    "# Concatenating DataFrames :\n"
   ]
  },
  {
   "cell_type": "code",
   "execution_count": 151,
   "id": "1949453a",
   "metadata": {},
   "outputs": [],
   "source": [
    "# df.concat() : is used to concatenate(stack) DataFrames either vertically(row-wise) or Horizontally(column-wise)\n",
    "\n",
    "#pd.concat([df1,df2],axis=0)    #Vertical Concatenation (rows)\n",
    "#pd.concat([df1,df2],axis=1)    #Horizontal Concatenation (columns)\n",
    "\n",
    "\n",
    "#pd.concat() function can accept a sequence of DataFrames (or other objects) to concatenate. \n",
    "# To pass multiple objects as arguments, you need to wrap them in a list\n",
    "\n",
    "\n",
    "#pd.concat([df1, df2], axis=0_or_1)\n",
    "\n",
    "#Axis = 0 Concatenates along rows(default).( stacking the DataFrames on top of each other, adding rows)\n",
    "\n",
    "#Axis = 1 Concatenates along columns.(joining the DataFrames side by side, adding columns)\n"
   ]
  },
  {
   "cell_type": "code",
   "execution_count": 157,
   "id": "e6f95458",
   "metadata": {},
   "outputs": [
    {
     "name": "stdout",
     "output_type": "stream",
     "text": [
      "   ID     Name\n",
      "0   1  Shubham\n",
      "1   2      Jay\n",
      "2   3   Pravin\n",
      "   ID  Name\n",
      "0   4   Ram\n",
      "1   5  Sham\n",
      "2   6   Sam\n",
      "   ID     Name\n",
      "0   1  Shubham\n",
      "1   2      Jay\n",
      "2   3   Pravin\n",
      "0   4      Ram\n",
      "1   5     Sham\n",
      "2   6      Sam\n"
     ]
    }
   ],
   "source": [
    "# Concatenating Vertically(row-wise)(stacking the DataFrames on top of each other, adding rows)\n",
    "\n",
    "df1 = pd.DataFrame({\n",
    "    'ID' : [1,2,3],\n",
    "    'Name' : ['Shubham','Jay','Pravin']\n",
    "    \n",
    "})\n",
    "print(df1)                                                  # Vertically\n",
    "df2 = pd.DataFrame({\n",
    "    'ID':[4,5,6],              \n",
    "    'Name':['Ram','Sham','Sam']\n",
    "})\n",
    "print(df2)\n",
    "\n",
    "converdf = pd.concat([df1,df2],axis=0)\n",
    "print(converdf)\n",
    "\n",
    "\n"
   ]
  },
  {
   "cell_type": "code",
   "execution_count": 164,
   "id": "28d11fd8",
   "metadata": {
    "scrolled": true
   },
   "outputs": [
    {
     "name": "stdout",
     "output_type": "stream",
     "text": [
      "   ID  Name\n",
      "0   1   Ram\n",
      "1   2  Sham\n",
      "2   3   Sam\n",
      "   Age Gender\n",
      "0   24      F\n",
      "1   25      M\n",
      "2   26      M\n",
      "   ID  Name  Age Gender\n",
      "0   1   Ram   24      F\n",
      "1   2  Sham   25      M\n",
      "2   3   Sam   26      M\n"
     ]
    }
   ],
   "source": [
    "# Concatenating Horizontally(column-wise)\n",
    "\n",
    "df1 = pd.DataFrame({\n",
    "    'ID':[1,2,3],\n",
    "    'Name':['Ram','Sham','Sam']\n",
    "})\n",
    "print(df1)                                         #Horizontal\n",
    "\n",
    "df2 = pd.DataFrame({\n",
    "    'Age':[24,25,26],\n",
    "    'Gender':['F','M','M']\n",
    "})\n",
    "print(df2)\n",
    "conhoricol = pd.concat([df1,df2],axis=1)\n",
    "print(conhoricol)\n",
    "\n",
    "\n"
   ]
  },
  {
   "cell_type": "code",
   "execution_count": 166,
   "id": "f1b848b7",
   "metadata": {},
   "outputs": [
    {
     "name": "stdout",
     "output_type": "stream",
     "text": [
      "   A\n",
      "0  1\n",
      "1  2\n",
      "   A\n",
      "0  3\n",
      "1  4\n",
      "       A\n",
      "df1 0  1\n",
      "    1  2\n",
      "df2 0  3\n",
      "    1  4\n"
     ]
    }
   ],
   "source": [
    "\n",
    "\n",
    "df1 = pd.DataFrame({'A': [1, 2]})\n",
    "print(df1)\n",
    "df2 = pd.DataFrame({'A': [3, 4]})\n",
    "print(df2)\n",
    "result = pd.concat([df1, df2], keys=['df1', 'df2'])\n",
    "print(result)\n"
   ]
  },
  {
   "cell_type": "markdown",
   "id": "2e8c62f7",
   "metadata": {},
   "source": [
    "#Difference between pd.merge() and pd.concat()\n",
    "\n",
    "pd.merge combining DataFrames based on matching columns or indices while the pd.concat() is used to stacking dataframes either vertically or horizontally"
   ]
  },
  {
   "cell_type": "markdown",
   "id": "03e0b4d0",
   "metadata": {},
   "source": [
    "#Difference between join() and merge()\n",
    "\n",
    "join() is simpler function used to join on indices while\n",
    "merge() is more flexible and can join on both indices and columns with different key"
   ]
  },
  {
   "cell_type": "markdown",
   "id": "89f14aad",
   "metadata": {},
   "source": [
    "# Reading Data :"
   ]
  },
  {
   "cell_type": "markdown",
   "id": "a7de3742",
   "metadata": {},
   "source": [
    "## Reading a CSV file :"
   ]
  },
  {
   "cell_type": "code",
   "execution_count": null,
   "id": "d9ebc9f4",
   "metadata": {},
   "outputs": [],
   "source": [
    "# Reading a CSV file :\n",
    "# pd.read_csv()\n",
    "\n",
    "df = pd.read_csv('file_path.csv', delimiter=',', header=0, index_col=None)\n",
    "\n",
    "delimiter = Character that separates values in the file(default is a comma)\n",
    "header = Row to use as column names(default is 0)\n",
    "index_col = Column to use as the row labels of the DataFrame."
   ]
  },
  {
   "cell_type": "code",
   "execution_count": 167,
   "id": "2c2945a4",
   "metadata": {},
   "outputs": [
    {
     "name": "stdout",
     "output_type": "stream",
     "text": [
      "                        Timestamp  \\\n",
      "0  2024/11/30 3:49:55 pm GMT+5:30   \n",
      "1  2024/11/30 3:51:01 pm GMT+5:30   \n",
      "2  2024/11/30 3:53:37 pm GMT+5:30   \n",
      "3  2024/11/30 3:54:20 pm GMT+5:30   \n",
      "4  2024/11/30 3:54:57 pm GMT+5:30   \n",
      "\n",
      "  Q.1)  Demographic Information:\\ni) Age (Current)  \\\n",
      "0                                               45   \n",
      "1                                               63   \n",
      "2                                               44   \n",
      "3                                               40   \n",
      "4                                               50   \n",
      "\n",
      "   At what age, Cancer was detected?                         ii) Sex  \\\n",
      "0                                                 45          Female   \n",
      "1                                                 63            Male   \n",
      "2                                                 44            Male   \n",
      "3                                                 40            Male   \n",
      "4                                                 48          Female   \n",
      "\n",
      "  iii) Residence iv) Education v) Occupation  \\\n",
      "0          urban            No    Home Maker   \n",
      "1          Rural     Secondary    Home Maker   \n",
      "2          Rural      Graduate       Service   \n",
      "3          urban     Secondary       Farming   \n",
      "4          Rural            No       Farming   \n",
      "\n",
      "  vi) How often do you engage in physical exercise?  \\\n",
      "0                                             Never   \n",
      "1                                             Daily   \n",
      "2                                             Daily   \n",
      "3                                             Daily   \n",
      "4                                      occasionally   \n",
      "\n",
      "  vii) How would you describe your diet? vii) Cancer Type \\na) Oral cancer  \\\n",
      "0                               Balanced                               Gum   \n",
      "1                               Balanced                               NaN   \n",
      "2                               Balanced                               NaN   \n",
      "3                               Balanced                               NaN   \n",
      "4                               Balanced                              Lips   \n",
      "\n",
      "   ... i) if Yes, What type of cancer?           ----------  \\\n",
      "0  ...                                                NaN     \n",
      "1  ...                                                NaN     \n",
      "2  ...                                                NaN     \n",
      "3  ...                                                NaN     \n",
      "4  ...                                                NaN     \n",
      "\n",
      "  ii) Relation with you? Q.6) At which stage your cancer was detected?  \\\n",
      "0                    NaN                                       Stage 1   \n",
      "1                    NaN                                       Stage 2   \n",
      "2                    NaN                                       Stage 1   \n",
      "3                    NaN                                       Stage 1   \n",
      "4                    NaN                                       Stage 2   \n",
      "\n",
      "  Q.7)  What treatment have you undergone.  \\\n",
      "0                          Chemo;Radiation   \n",
      "1                                    Chemo   \n",
      "2                                Radiation   \n",
      "3                                    Chemo   \n",
      "4                    Surgery;Chemo;Hormone   \n",
      "\n",
      "  Q.8) How long have you been in treatment/ Recovery……….. (D/W/M/Y)  \\\n",
      "0                                                1 M                  \n",
      "1                                                2 M                  \n",
      "2                                                2 D                  \n",
      "3                                                2 M                  \n",
      "4                                                3 M                  \n",
      "\n",
      "  Q.9) Have you experienced any treatment side effects?  \\\n",
      "0                                      Fatigue;other      \n",
      "1                                              other      \n",
      "2                                                 No      \n",
      "3                                               Pain      \n",
      "4                                                 No      \n",
      "\n",
      "  Q.10) How would you rate your overall health since diagnosis?  \\\n",
      "0                                               Poor              \n",
      "1                                               Poor              \n",
      "2                                               Poor              \n",
      "3                                               Good              \n",
      "4                                               Fair              \n",
      "\n",
      "  Q.11) Have you experienced any financial difficulties due to cancer?  \\\n",
      "0                                    No difficulties                     \n",
      "1                                    No difficulties                     \n",
      "2                                    No difficulties                     \n",
      "3                                    No difficulties                     \n",
      "4                                    No difficulties                     \n",
      "\n",
      "  Q.12) Have you got any government financial schemes during treatment?  \\\n",
      "0                                                Yes                      \n",
      "1                                                Yes                      \n",
      "2                                                Yes                      \n",
      "3                                                Yes                      \n",
      "4                                                Yes                      \n",
      "\n",
      "  if yes then mention ………  \n",
      "0                  MJPJAY  \n",
      "1                  MJPJAY  \n",
      "2                  MJPJAY  \n",
      "3                  MJPJAY  \n",
      "4                  MJPJAY  \n",
      "\n",
      "[5 rows x 47 columns]\n"
     ]
    }
   ],
   "source": [
    "import pandas as pd\n",
    "\n",
    "df = pd.read_csv('Cancer Data Set.csv')\n",
    "print(df.head())\n"
   ]
  },
  {
   "cell_type": "code",
   "execution_count": null,
   "id": "0e6b49ee",
   "metadata": {},
   "outputs": [],
   "source": [
    "# Reading CSV with Specific Parameters\n",
    "df = pd.read_csv('data.csv', delimiter=';')\n",
    "print(df.head())"
   ]
  },
  {
   "cell_type": "markdown",
   "id": "2854c052",
   "metadata": {},
   "source": [
    "## Reading a CSV file :"
   ]
  },
  {
   "cell_type": "code",
   "execution_count": null,
   "id": "8f64a7bf",
   "metadata": {},
   "outputs": [],
   "source": [
    "# pd.read_excel() function allows you to read Excel files (both .xls and .xlsx formats) into a DataFrame.\n",
    "\n",
    "df = pd.read_excel('file_path.xlsx', sheet_name='Sheet1', header=0, index_col=None)\n",
    "\n",
    "sheet_name: Name of the sheet to read\n",
    "header: Row to use as column names (default is 0)\n",
    "index_col: Column to use as row labels."
   ]
  },
  {
   "cell_type": "markdown",
   "id": "27e02b57",
   "metadata": {},
   "source": [
    "# Writing Data:"
   ]
  },
  {
   "cell_type": "code",
   "execution_count": null,
   "id": "4b0edc04",
   "metadata": {},
   "outputs": [],
   "source": [
    "##Writing Data to csv: df.to_csv() function is used to write a DataFrame to a CSV file.\n",
    "\n",
    "df.to_csv('output.csv', sep=',', index=False, header=True)\n",
    "\n",
    "Output.csv : path where you want to save the csv file\n",
    "sep : Separator for values in the output file(default is comma)\n",
    "index : whether to write row indices(default is True)\n",
    "header : whether to write coumn headers(default is True)\n"
   ]
  },
  {
   "cell_type": "code",
   "execution_count": null,
   "id": "04e1ee69",
   "metadata": {},
   "outputs": [],
   "source": [
    "## Writing data to Excel () :df.to_excel() function allows you to write a DataFrame to an Excel file.\n",
    "\n",
    "df.to_excel('output.xlsx', sheet_name='Sheet1', index=False)\n",
    "\n",
    "output.xlsx: Path to save the Excel file.\n",
    "sheet_name: Name of the sheet to write to.\n",
    "index: Whether to write row indices\n"
   ]
  },
  {
   "cell_type": "markdown",
   "id": "42e799ac",
   "metadata": {},
   "source": [
    "# Time Series\n"
   ]
  },
  {
   "cell_type": "code",
   "execution_count": null,
   "id": "d8161931",
   "metadata": {},
   "outputs": [],
   "source": [
    "#  Pandas provides powerful tools for working with time series data,\n",
    "such as pd.to_datetime() for converting data into datetime format and\n",
    ".resample() for performing frequency-based resampling."
   ]
  },
  {
   "cell_type": "code",
   "execution_count": null,
   "id": "d4ebdc90",
   "metadata": {},
   "outputs": [],
   "source": [
    "pd.to_datetime(data, format=None, errors='raise', dayfirst=False)\n",
    "\n",
    "data: Data to convert (can be a string, list, or Series)\n",
    "format: Format of the date string\n",
    "errors: Action to take when errors occur during conversion ('raise', 'coerce', or 'ignore')\n",
    "dayfirst: Whether to consider the first value as the day in ambiguous date formats\n"
   ]
  },
  {
   "cell_type": "code",
   "execution_count": 168,
   "id": "5ef1706e",
   "metadata": {},
   "outputs": [
    {
     "name": "stdout",
     "output_type": "stream",
     "text": [
      "DatetimeIndex(['2023-01-01', '2023-02-15', '2023-03-30'], dtype='datetime64[ns]', freq=None)\n"
     ]
    }
   ],
   "source": [
    "\n",
    "date_data = ['2023-01-01', '2023-02-15', '2023-03-30']    # String is the Dates\n",
    "\n",
    "\n",
    "dates = pd.to_datetime(date_data)\n",
    "print(dates)\n"
   ]
  },
  {
   "cell_type": "code",
   "execution_count": 169,
   "id": "3b970ded",
   "metadata": {},
   "outputs": [
    {
     "name": "stdout",
     "output_type": "stream",
     "text": [
      "DatetimeIndex(['2023-01-01', '2023-02-15', '2023-03-30'], dtype='datetime64[ns]', freq=None)\n"
     ]
    }
   ],
   "source": [
    "# Custom date format\n",
    "date_data = ['01-2023-01', '15-2023-02', '30-2023-03']\n",
    "dates = pd.to_datetime(date_data, format='%d-%Y-%m')\n",
    "print(dates)\n"
   ]
  },
  {
   "cell_type": "code",
   "execution_count": null,
   "id": "72382419",
   "metadata": {},
   "outputs": [],
   "source": [
    "# .resample() – Resampling Time Series Data\n",
    "to change the frequency of the time series data."
   ]
  },
  {
   "cell_type": "code",
   "execution_count": null,
   "id": "d76a185b",
   "metadata": {},
   "outputs": [],
   "source": [
    "#df.resample(rule, how='mean', on=None)\n",
    "\n",
    "#rule: The frequency rule to use for resampling (e.g., 'D' for daily, 'M' for monthly, 'A' for annual).\n",
    "#how: The aggregation function to apply after resampling (e.g., 'mean', 'sum', 'max').\n",
    "#on: The column to resample on (if the time information is not the index)."
   ]
  },
  {
   "cell_type": "code",
   "execution_count": 171,
   "id": "6f3a29ae",
   "metadata": {},
   "outputs": [
    {
     "name": "stderr",
     "output_type": "stream",
     "text": [
      "C:\\Users\\Shree\\AppData\\Local\\Temp\\ipykernel_16640\\571528077.py:8: FutureWarning: 'M' is deprecated and will be removed in a future version, please use 'ME' instead.\n",
      "  monthly_data = data.resample('M').mean()\n"
     ]
    },
    {
     "name": "stdout",
     "output_type": "stream",
     "text": [
      "2023-01-31    22.5\n",
      "Freq: ME, dtype: float64\n"
     ]
    }
   ],
   "source": [
    "import pandas as pd\n",
    "\n",
    "# Sample time series data\n",
    "date_range = pd.date_range(start='2023-01-01', periods=6, freq='D')\n",
    "data = pd.Series([10, 20, 15, 30, 25, 35], index=date_range)\n",
    "\n",
    "# Resampling to monthly frequency and calculating the mean\n",
    "monthly_data = data.resample('M').mean()\n",
    "print(monthly_data)\n"
   ]
  },
  {
   "cell_type": "code",
   "execution_count": 172,
   "id": "46e1370a",
   "metadata": {},
   "outputs": [
    {
     "name": "stdout",
     "output_type": "stream",
     "text": [
      "2023-12-31    135\n",
      "Freq: YE-DEC, dtype: int64\n"
     ]
    },
    {
     "name": "stderr",
     "output_type": "stream",
     "text": [
      "C:\\Users\\Shree\\AppData\\Local\\Temp\\ipykernel_16640\\1351177052.py:2: FutureWarning: 'A' is deprecated and will be removed in a future version, please use 'YE' instead.\n",
      "  yearly_data = data.resample('A').sum()\n"
     ]
    }
   ],
   "source": [
    "# Resampling to yearly frequency and calculating the sum\n",
    "yearly_data = data.resample('A').sum()\n",
    "print(yearly_data)\n"
   ]
  },
  {
   "cell_type": "markdown",
   "id": "7b210c6e",
   "metadata": {},
   "source": [
    "# Basic Ploting "
   ]
  },
  {
   "cell_type": "code",
   "execution_count": 181,
   "id": "0bfc2ec1",
   "metadata": {},
   "outputs": [],
   "source": [
    "\n",
    "#df.plot(kind='line', x=, y=, title=, grid=False, xlabel=None, ylabel=None)\n",
    "\n",
    "#kind: Type of plot (e.g., 'line', 'bar', 'hist', 'scatter', etc.).\n",
    "#x: Column to use for x-axis\n",
    "#y: Column to use for y-axis\n",
    "#title: Plot title\n",
    "#grid: Whether to show grid line\n",
    "#xlabel: Label for the x-axis\n",
    "#ylabel: Label for the y-axis"
   ]
  },
  {
   "cell_type": "code",
   "execution_count": 189,
   "id": "69ac9526",
   "metadata": {},
   "outputs": [
    {
     "name": "stdout",
     "output_type": "stream",
     "text": [
      "            Temperature\n",
      "Date                   \n",
      "2023-01-01           30\n",
      "2023-01-02           32\n",
      "2023-01-03           35\n",
      "2023-01-04           33\n",
      "2023-01-05           34\n"
     ]
    },
    {
     "data": {
      "image/png": "[encoded data removed]",
      "text/plain": [
       "<Figure size 640x480 with 1 Axes>"
      ]
     },
     "metadata": {},
     "output_type": "display_data"
    }
   ],
   "source": [
    "import pandas as pd\n",
    "import matplotlib.pyplot as plt\n",
    "data = {\n",
    "    'Date':pd.date_range('2023-01-01',periods=5,freq='D'),\n",
    "    'Temperature':[30,32,35,33,34]\n",
    "}\n",
    "df=pd.DataFrame(data)\n",
    "df.set_index('Date',inplace=True)\n",
    "print(df)\n",
    "\n",
    "\n",
    "#line plot\n",
    "df.plot(kind=\"line\",title=\"Temperature over Time\")\n",
    "plt.xlabel('Date')\n",
    "plt.ylabel('Temperature')\n",
    "plt.show()"
   ]
  },
  {
   "cell_type": "markdown",
   "id": "bb8be0ea",
   "metadata": {},
   "source": [
    "# Box Plot :"
   ]
  },
  {
   "cell_type": "code",
   "execution_count": null,
   "id": "27900430",
   "metadata": {},
   "outputs": [],
   "source": [
    "#   df.plot(kind='bar',x=,y=,title=)"
   ]
  },
  {
   "cell_type": "code",
   "execution_count": 193,
   "id": "129b5e7d",
   "metadata": {},
   "outputs": [
    {
     "name": "stdout",
     "output_type": "stream",
     "text": [
      "  Category  Values\n",
      "0        A      10\n",
      "1        B      20\n",
      "2        C      15\n",
      "3        D      25\n"
     ]
    },
    {
     "data": {
      "image/png": "[encoded data removed]",
      "text/plain": [
       "<Figure size 640x480 with 1 Axes>"
      ]
     },
     "metadata": {},
     "output_type": "display_data"
    }
   ],
   "source": [
    "data = {'Category':['A','B','C','D'], 'Values':[10,20,15,25]}\n",
    "df = pd.DataFrame(data)\n",
    "print(df)\n",
    "\n",
    "df.plot(kind='bar', x='Category', y='Values', title='Category vs Values')\n",
    "plt.xlabel('Category')\n",
    "plt.ylabel('Values')\n",
    "plt.show()\n"
   ]
  },
  {
   "cell_type": "markdown",
   "id": "fd78dd6d",
   "metadata": {},
   "source": [
    "# Horizontal Bar plot"
   ]
  },
  {
   "cell_type": "code",
   "execution_count": 198,
   "id": "ca762208",
   "metadata": {},
   "outputs": [
    {
     "data": {
      "image/png": "[encoded data removed]",
      "text/plain": [
       "<Figure size 640x480 with 1 Axes>"
      ]
     },
     "metadata": {},
     "output_type": "display_data"
    }
   ],
   "source": [
    "df.plot(kind='barh',x='Category',y='Values',title=\"Category vs Values\")\n",
    "plt.xlabel('Values')\n",
    "plt.ylabel('Category')\n",
    "plt.show()\n"
   ]
  },
  {
   "cell_type": "markdown",
   "id": "2fe74b90",
   "metadata": {},
   "source": [
    "# Histogram :"
   ]
  },
  {
   "cell_type": "code",
   "execution_count": null,
   "id": "8aee2d83",
   "metadata": {},
   "outputs": [],
   "source": [
    "#    df.plot(kind='hist',bins=10,title='')"
   ]
  },
  {
   "cell_type": "code",
   "execution_count": 204,
   "id": "4edf29d1",
   "metadata": {},
   "outputs": [
    {
     "name": "stdout",
     "output_type": "stream",
     "text": [
      "    Age\n",
      "0    23\n",
      "1    45\n",
      "2    45\n",
      "3    35\n",
      "4    56\n",
      "5    23\n",
      "6    45\n",
      "7    40\n",
      "8    56\n",
      "9    45\n",
      "10   56\n",
      "11   23\n"
     ]
    },
    {
     "data": {
      "image/png": "[encoded data removed]",
      "text/plain": [
       "<Figure size 640x480 with 1 Axes>"
      ]
     },
     "metadata": {},
     "output_type": "display_data"
    }
   ],
   "source": [
    "data = {'Age':[23,45,45,35,56,23,45,40,56,45,56,23,]}\n",
    "df=pd.DataFrame(data)\n",
    "print(df)\n",
    "\n",
    "df.plot(kind='hist',bins=5, title='Age Distribution')\n",
    "plt.xlabel('Age')\n",
    "plt.show()"
   ]
  },
  {
   "cell_type": "markdown",
   "id": "10e486ca",
   "metadata": {},
   "source": [
    "# Scatter Plot :"
   ]
  },
  {
   "cell_type": "code",
   "execution_count": null,
   "id": "dfa94a55",
   "metadata": {},
   "outputs": [],
   "source": [
    "#   df.plot(kind='scatter', x='col1',y='col2',title=None)"
   ]
  },
  {
   "cell_type": "code",
   "execution_count": 207,
   "id": "3f8f453b",
   "metadata": {},
   "outputs": [
    {
     "name": "stdout",
     "output_type": "stream",
     "text": [
      "   Hight  Weight\n",
      "0    5.6     150\n",
      "1    5.9     160\n",
      "2    5.7     155\n",
      "3    6.1     165\n",
      "4    5.8     158\n"
     ]
    },
    {
     "data": {
      "image/png": "[encoded data removed]",
      "text/plain": [
       "<Figure size 640x480 with 1 Axes>"
      ]
     },
     "metadata": {},
     "output_type": "display_data"
    }
   ],
   "source": [
    "data = {'Hight':[5.6,5.9,5.7,6.1,5.8], 'Weight':[150,160,155,165,158]}\n",
    "df=pd.DataFrame(data)\n",
    "print(df)\n",
    "\n",
    "df.plot(kind='scatter',x='Hight',y='Weight', title='Height vs Weight')\n",
    "plt.xlabel('Hight')\n",
    "plt.ylabel('Weight')\n",
    "plt.show()"
   ]
  },
  {
   "cell_type": "markdown",
   "id": "6e080daa",
   "metadata": {},
   "source": [
    "# Pie Chart"
   ]
  },
  {
   "cell_type": "code",
   "execution_count": 208,
   "id": "f56c40ec",
   "metadata": {},
   "outputs": [],
   "source": [
    "# df.plt(kind='pie', y='col', title=None)"
   ]
  },
  {
   "cell_type": "code",
   "execution_count": 210,
   "id": "412142bb",
   "metadata": {},
   "outputs": [
    {
     "name": "stdout",
     "output_type": "stream",
     "text": [
      "    Fruit  Count\n",
      "0   Apple     50\n",
      "1  Banana     30\n",
      "2  Orange     20\n",
      "3  Grapes     10\n"
     ]
    },
    {
     "data": {
      "image/png": "[encoded data removed]",
      "text/plain": [
       "<Figure size 640x480 with 1 Axes>"
      ]
     },
     "metadata": {},
     "output_type": "display_data"
    }
   ],
   "source": [
    "\n",
    "data={'Fruit': ['Apple', 'Banana', 'Orange', 'Grapes'], 'Count': [50, 30, 20, 10]}\n",
    "df=pd.DataFrame(data)\n",
    "print(df)\n",
    "\n",
    "df.set_index('Fruit', inplace=True)\n",
    "df.plot(kind='pie', y='Count', title=\"Fruit Distribution\", legend=False)\n",
    "plt.ylabel('')\n",
    "plt.show()\n"
   ]
  },
  {
   "cell_type": "markdown",
   "id": "f1709057",
   "metadata": {},
   "source": [
    "# Box Plot"
   ]
  },
  {
   "cell_type": "code",
   "execution_count": 211,
   "id": "a8b2b342",
   "metadata": {},
   "outputs": [],
   "source": [
    "#df.plot(kind='box', title=None)"
   ]
  },
  {
   "cell_type": "code",
   "execution_count": 212,
   "id": "2dc70c55",
   "metadata": {},
   "outputs": [
    {
     "name": "stdout",
     "output_type": "stream",
     "text": [
      "   Scores\n",
      "0      55\n",
      "1      65\n",
      "2      72\n",
      "3      80\n",
      "4      90\n",
      "5      88\n",
      "6      60\n",
      "7      77\n",
      "8      83\n",
      "9      95\n"
     ]
    },
    {
     "data": {
      "image/png": "[encoded data removed]",
      "text/plain": [
       "<Figure size 640x480 with 1 Axes>"
      ]
     },
     "metadata": {},
     "output_type": "display_data"
    }
   ],
   "source": [
    "\n",
    "data = {'Scores': [55, 65, 72, 80, 90, 88, 60, 77, 83, 95]}\n",
    "df = pd.DataFrame(data)\n",
    "print(df)\n",
    "\n",
    "df.plot(kind='box', title=\"Score Distribution\")\n",
    "plt.show()\n"
   ]
  },
  {
   "cell_type": "markdown",
   "id": "9fbf2b05",
   "metadata": {},
   "source": [
    "# Area Plot"
   ]
  },
  {
   "cell_type": "code",
   "execution_count": 213,
   "id": "5af864bc",
   "metadata": {},
   "outputs": [],
   "source": [
    "# df.plot(kind='area', title=None)\n"
   ]
  },
  {
   "cell_type": "code",
   "execution_count": 214,
   "id": "3f9e2e01",
   "metadata": {},
   "outputs": [
    {
     "data": {
      "image/png": "[encoded data removed]",
      "text/plain": [
       "<Figure size 640x480 with 1 Axes>"
      ]
     },
     "metadata": {},
     "output_type": "display_data"
    }
   ],
   "source": [
    "\n",
    "data={'Day': ['Mon', 'Tue', 'Wed', 'Thu', 'Fri'], 'Sales': [100, 200, 150, 250, 300]}\n",
    "df=pd.DataFrame(data)\n",
    "\n",
    "\n",
    "df.plot(kind='area', x='Day', y='Sales', title=\"Sales Over Days\")\n",
    "plt.xlabel('Day')\n",
    "plt.ylabel('Sales')\n",
    "plt.show()\n"
   ]
  },
  {
   "cell_type": "markdown",
   "id": "e456fb10",
   "metadata": {},
   "source": [
    "# Basic Pandas Plot : without import matplotlib libray"
   ]
  },
  {
   "cell_type": "markdown",
   "id": "00535603",
   "metadata": {},
   "source": [
    "# Line Plot"
   ]
  },
  {
   "cell_type": "code",
   "execution_count": 217,
   "id": "c16274c1",
   "metadata": {},
   "outputs": [
    {
     "name": "stdout",
     "output_type": "stream",
     "text": [
      "   A  B\n",
      "0  1  5\n",
      "1  2  4\n",
      "2  3  3\n",
      "3  4  2\n",
      "4  5  1\n"
     ]
    },
    {
     "data": {
      "text/plain": [
       "<Axes: >"
      ]
     },
     "execution_count": 217,
     "metadata": {},
     "output_type": "execute_result"
    },
    {
     "data": {
      "image/png": "[encoded data removed]",
      "text/plain": [
       "<Figure size 640x480 with 1 Axes>"
      ]
     },
     "metadata": {},
     "output_type": "display_data"
    }
   ],
   "source": [
    "import pandas as pd\n",
    "\n",
    "data={'A': [1, 2, 3, 4, 5],\n",
    "        'B': [5, 4, 3, 2, 1]}\n",
    "\n",
    "df=pd.DataFrame(data)\n",
    "print(df)\n",
    "df.plot()"
   ]
  },
  {
   "cell_type": "markdown",
   "id": "f79d8695",
   "metadata": {},
   "source": [
    "# Bar Plot"
   ]
  },
  {
   "cell_type": "code",
   "execution_count": 218,
   "id": "b1c1764d",
   "metadata": {},
   "outputs": [
    {
     "data": {
      "text/plain": [
       "<Axes: >"
      ]
     },
     "execution_count": 218,
     "metadata": {},
     "output_type": "execute_result"
    },
    {
     "data": {
      "image/png": "[encoded data removed]",
      "text/plain": [
       "<Figure size 640x480 with 1 Axes>"
      ]
     },
     "metadata": {},
     "output_type": "display_data"
    }
   ],
   "source": [
    "df.plot(kind='bar')\n"
   ]
  },
  {
   "cell_type": "markdown",
   "id": "7ad77c20",
   "metadata": {},
   "source": [
    "# Histogram Plot"
   ]
  },
  {
   "cell_type": "code",
   "execution_count": 219,
   "id": "16fbbdb1",
   "metadata": {},
   "outputs": [
    {
     "data": {
      "text/plain": [
       "<Axes: ylabel='Frequency'>"
      ]
     },
     "execution_count": 219,
     "metadata": {},
     "output_type": "execute_result"
    },
    {
     "data": {
      "image/png": "[encoded data removed]",
      "text/plain": [
       "<Figure size 640x480 with 1 Axes>"
      ]
     },
     "metadata": {},
     "output_type": "display_data"
    }
   ],
   "source": [
    "df.plot(kind='hist',bins=5)"
   ]
  },
  {
   "cell_type": "code",
   "execution_count": 220,
   "id": "77924381",
   "metadata": {},
   "outputs": [
    {
     "data": {
      "text/plain": [
       "<Axes: >"
      ]
     },
     "execution_count": 220,
     "metadata": {},
     "output_type": "execute_result"
    },
    {
     "data": {
      "image/png": "[encoded data removed]",
      "text/plain": [
       "<Figure size 640x480 with 1 Axes>"
      ]
     },
     "metadata": {},
     "output_type": "display_data"
    }
   ],
   "source": [
    "# Box Plot\n",
    "\n",
    "df.plot(kind='box')"
   ]
  },
  {
   "cell_type": "code",
   "execution_count": 221,
   "id": "95a6ae1a",
   "metadata": {},
   "outputs": [
    {
     "data": {
      "text/plain": [
       "<Axes: xlabel='A', ylabel='B'>"
      ]
     },
     "execution_count": 221,
     "metadata": {},
     "output_type": "execute_result"
    },
    {
     "data": {
      "image/png": "[encoded data removed]",
      "text/plain": [
       "<Figure size 640x480 with 1 Axes>"
      ]
     },
     "metadata": {},
     "output_type": "display_data"
    }
   ],
   "source": [
    "# Scatter Plot\n",
    "\n",
    "df.plot(kind='scatter',x='A',y='B')"
   ]
  },
  {
   "cell_type": "code",
   "execution_count": 223,
   "id": "d88d8494",
   "metadata": {},
   "outputs": [
    {
     "data": {
      "text/plain": [
       "<Axes: >"
      ]
     },
     "execution_count": 223,
     "metadata": {},
     "output_type": "execute_result"
    },
    {
     "data": {
      "image/png": "[encoded data removed]",
      "text/plain": [
       "<Figure size 640x480 with 1 Axes>"
      ]
     },
     "metadata": {},
     "output_type": "display_data"
    }
   ],
   "source": [
    "#Area Plot\n",
    "df.plot(kind='area')"
   ]
  },
  {
   "cell_type": "markdown",
   "id": "399ed5a6",
   "metadata": {},
   "source": [
    "# Condition Selection:\n",
    "And \n",
    "or"
   ]
  },
  {
   "cell_type": "code",
   "execution_count": null,
   "id": "b0f534f0",
   "metadata": {},
   "outputs": [],
   "source": [
    "#            AND (&) and OR (|) Operators\n",
    "#            & is used for logical AND ie both conditions must be true\n",
    "#            | is used for logical OR ie either condition must be true"
   ]
  },
  {
   "cell_type": "code",
   "execution_count": null,
   "id": "b93268de",
   "metadata": {},
   "outputs": [],
   "source": [
    "#           df[conditions1 & conditions2]        # AND Operator\n",
    "#           df[Conditions1 | Conditions2]        # OR Operator"
   ]
  },
  {
   "cell_type": "code",
   "execution_count": 226,
   "id": "6bd262a9",
   "metadata": {},
   "outputs": [
    {
     "name": "stdout",
     "output_type": "stream",
     "text": [
      "      Name  Age  Salary      City\n",
      "0   Pravin   25   50000      Pune\n",
      "1  Shubham   21   60000    Satara\n",
      "2  Saurabh   20   70000  Kolhapur\n",
      "3     Ravi   22   80000    Mumbai\n",
      "4      Jay   25   90000    Nashik\n"
     ]
    }
   ],
   "source": [
    "\n",
    "data = {\n",
    "    'Name': ['Pravin', 'Shubham', 'Saurabh', 'Ravi', 'Jay'],\n",
    "    'Age': [25, 21, 20, 22, 25],\n",
    "    'Salary': [50000, 60000, 70000, 80000, 90000],\n",
    "    'City': ['Pune', 'Satara', 'Kolhapur', 'Mumbai', 'Nashik']\n",
    "}\n",
    "df = pd.DataFrame(data)\n",
    "print(df)\n"
   ]
  },
  {
   "cell_type": "code",
   "execution_count": 230,
   "id": "420b38d6",
   "metadata": {},
   "outputs": [
    {
     "data": {
      "text/html": [
       "<div>\n",
       "<style scoped>\n",
       "    .dataframe tbody tr th:only-of-type {\n",
       "        vertical-align: middle;\n",
       "    }\n",
       "\n",
       "    .dataframe tbody tr th {\n",
       "        vertical-align: top;\n",
       "    }\n",
       "\n",
       "    .dataframe thead th {\n",
       "        text-align: right;\n",
       "    }\n",
       "</style>\n",
       "<table border=\"1\" class=\"dataframe\">\n",
       "  <thead>\n",
       "    <tr style=\"text-align: right;\">\n",
       "      <th></th>\n",
       "      <th>Name</th>\n",
       "      <th>Age</th>\n",
       "      <th>Salary</th>\n",
       "      <th>City</th>\n",
       "    </tr>\n",
       "  </thead>\n",
       "  <tbody>\n",
       "    <tr>\n",
       "      <th>3</th>\n",
       "      <td>Ravi</td>\n",
       "      <td>22</td>\n",
       "      <td>80000</td>\n",
       "      <td>Mumbai</td>\n",
       "    </tr>\n",
       "    <tr>\n",
       "      <th>4</th>\n",
       "      <td>Jay</td>\n",
       "      <td>25</td>\n",
       "      <td>90000</td>\n",
       "      <td>Nashik</td>\n",
       "    </tr>\n",
       "  </tbody>\n",
       "</table>\n",
       "</div>"
      ],
      "text/plain": [
       "   Name  Age  Salary    City\n",
       "3  Ravi   22   80000  Mumbai\n",
       "4   Jay   25   90000  Nashik"
      ]
     },
     "execution_count": 230,
     "metadata": {},
     "output_type": "execute_result"
    }
   ],
   "source": [
    "#we want age is greater than 21 and Salary is greater than 60000.\n",
    "\n",
    "feltdf=df[(df['Age'] > 21) & (df['Salary'] > 60000)]\n",
    "feltdf"
   ]
  },
  {
   "cell_type": "code",
   "execution_count": 232,
   "id": "1cd43437",
   "metadata": {},
   "outputs": [
    {
     "name": "stdout",
     "output_type": "stream",
     "text": [
      "      Name  Age  Salary      City\n",
      "2  Saurabh   20   70000  Kolhapur\n"
     ]
    }
   ],
   "source": [
    "#we want age less than 21 or city is Kolhapur\n",
    "\n",
    "feltdf=df[(df['Age'] <21) | (df['City']=='Kolhapur')]\n",
    "print(feltdf)"
   ]
  },
  {
   "cell_type": "code",
   "execution_count": 234,
   "id": "ae8df705",
   "metadata": {},
   "outputs": [
    {
     "name": "stdout",
     "output_type": "stream",
     "text": [
      "      Name  Age  Salary      City\n",
      "1  Shubham   21   60000    Satara\n",
      "2  Saurabh   20   70000  Kolhapur\n",
      "3     Ravi   22   80000    Mumbai\n"
     ]
    }
   ],
   "source": [
    "# Combining AND and OR\n",
    "\n",
    "#we want where the Age is less than 25 AND Salary is greater than 60000 OR City is Kohapur\n",
    "\n",
    "feltdata=df[(df['Age'] < 25) & ((df['Salary'] > 6000) | (df['City']=='Kolhapur'))]\n",
    "print(feltdata)"
   ]
  },
  {
   "cell_type": "code",
   "execution_count": 236,
   "id": "91170cd3",
   "metadata": {},
   "outputs": [
    {
     "name": "stdout",
     "output_type": "stream",
     "text": [
      "      Name  Age  Salary    City\n",
      "0   Pravin   25   50000    Pune\n",
      "1  Shubham   21   60000  Satara\n",
      "3     Ravi   22   80000  Mumbai\n",
      "4      Jay   25   90000  Nashik\n"
     ]
    }
   ],
   "source": [
    "# ~(NOT) Condition\n",
    "# We want to select rows where the City is not Kolhapur\n",
    "\n",
    "feltdf = df[~(df['City']=='Kolhapur')]\n",
    "print(feltdf)"
   ]
  },
  {
   "cell_type": "code",
   "execution_count": 238,
   "id": "824939ba",
   "metadata": {},
   "outputs": [
    {
     "name": "stdout",
     "output_type": "stream",
     "text": [
      "      Name  Age  Salary    City\n",
      "0   Pravin   25   50000    Pune\n",
      "1  Shubham   21   60000  Satara\n"
     ]
    }
   ],
   "source": [
    "# .isin() : Check if a column's value is in a list of possible values then we use isin().\n",
    "\n",
    "# we want to select row where the City is either Pune or Satara.\n",
    "\n",
    "filtdata = df[df['City'].isin(['Pune','Satara'])]\n",
    "print(filtdata)"
   ]
  },
  {
   "cell_type": "code",
   "execution_count": 241,
   "id": "44adb982",
   "metadata": {},
   "outputs": [
    {
     "name": "stdout",
     "output_type": "stream",
     "text": [
      "   Name  Age  Salary    City\n",
      "3  Ravi   22   80000  Mumbai\n",
      "4   Jay   25   90000  Nashik\n"
     ]
    }
   ],
   "source": [
    "# query() method for more readable syntax when applying multiple conditions.\n",
    "\n",
    "feltdata = df.query('Age > 21 and Salary > 60000')\n",
    "print(feltdata)"
   ]
  },
  {
   "cell_type": "code",
   "execution_count": null,
   "id": "48534e21",
   "metadata": {},
   "outputs": [],
   "source": []
  }
 ],
 "metadata": {
  "kernelspec": {
   "display_name": "Python 3 (ipykernel)",
   "language": "python",
   "name": "python3"
  },
  "language_info": {
   "codemirror_mode": {
    "name": "ipython",
    "version": 3
   },
   "file_extension": ".py",
   "mimetype": "text/x-python",
   "name": "python",
   "nbconvert_exporter": "python",
   "pygments_lexer": "ipython3",
   "version": "3.11.3"
  }
 },
 "nbformat": 4,
 "nbformat_minor": 5
}
